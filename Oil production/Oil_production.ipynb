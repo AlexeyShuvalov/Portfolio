{
 "cells": [
  {
   "cell_type": "markdown",
   "metadata": {},
   "source": [
    "# Выбор локации для скважины"
   ]
  },
  {
   "cell_type": "markdown",
   "metadata": {},
   "source": [
    "Для нефтедобывающей компании «ГлавРосГосНефть» нам необходимо определить регион, в котором разработка месторождений нефти принесет бо́льшую прибыль. \n",
    "\n",
    "Нам предоставлены пробы нефти в трех регионах. Обучим модель линейной регрессии, которая сможет прогнозировать по имеющимся характеристикам объем запасов в конкретной скважине. Далее нам необходимо написать функцию, которая позволит выбрать 200 самых богатых по запасам скважин из представленных в выборке и посчитает прибыль. Объём запасов в скважине указан в тыс. баррелей.\n",
    "\n",
    "В конце с помощью техники Bootstrap мы проанализируем возможную прибыль и риски. Все расчеты будем производить на заранее выделенной валидационной выборке.\n",
    "\n"
   ]
  },
  {
   "cell_type": "markdown",
   "metadata": {},
   "source": [
    "**Данные:**\n",
    "\n",
    "Данные предоставлены в трех файлах. Каждый файл для каждого региона.\n"
   ]
  },
  {
   "cell_type": "markdown",
   "metadata": {},
   "source": [
    "**Признаки:**\n",
    "\n",
    "- `'f0'`, `'f1'`, `'f2'` - технические показатели пробы нефти одной конкретной скважины в регионе;\n",
    "- `'product'` - объем запасов в этой скважине в тысячах баррелей."
   ]
  },
  {
   "cell_type": "markdown",
   "metadata": {},
   "source": [
    "**Заказчику важно**:\n",
    "\n",
    "- оцениваем качество с помощью RMSE\n",
    "- расчет рисков и прибыли для каждого региона\n",
    "- использовать модель линейной регрессии\n"
   ]
  },
  {
   "cell_type": "markdown",
   "metadata": {},
   "source": [
    "**План работы**:\n",
    "\n",
    "[1. Загрузка и подготовка данных](#section0.1)<br/>\n",
    "[2. Обучение и проверка модели](#section0.2)<br/>\n",
    "[3. Подготовка к расчёту прибыли](#section0.3)<br/>\n",
    "[4. Расчёт прибыли и рисков](#section0.4)<br/>\n",
    "[5. Общий вывод по работе](#section0.5)<br/>"
   ]
  },
  {
   "cell_type": "markdown",
   "metadata": {},
   "source": [
    "## Загрузка и подготовка данных<a id='section0.1'></a>"
   ]
  },
  {
   "cell_type": "code",
   "execution_count": 1,
   "metadata": {},
   "outputs": [],
   "source": [
    "# импортируем необходимые библиотеки\n",
    "import numpy as np\n",
    "import pandas as pd\n",
    "import matplotlib.pyplot as plt\n",
    "import seaborn as sns\n",
    "%matplotlib inline\n",
    "\n",
    "from sklearn.linear_model import LinearRegression\n",
    "from sklearn.metrics import mean_squared_error\n",
    "from sklearn.model_selection import train_test_split\n",
    "\n",
    "import warnings\n",
    "warnings.filterwarnings('ignore')\n",
    "warnings.simplefilter('ignore')"
   ]
  },
  {
   "cell_type": "code",
   "execution_count": 2,
   "metadata": {},
   "outputs": [],
   "source": [
    "# если можно, открываем файл из локального носителя\n",
    "# или с Jupyter Hub\n",
    "try:\n",
    "    df_geo_0 = pd.read_csv('geo_data_0.csv')\n",
    "    df_geo_1 = pd.read_csv('geo_data_1.csv')\n",
    "    df_geo_2 = pd.read_csv('geo_data_2.csv')\n",
    "except:\n",
    "    df_geo_0 = pd.read_csv('/datasets/geo_data_0.csv')\n",
    "    df_geo_1 = pd.read_csv('/datasets/geo_data_1.csv')\n",
    "    df_geo_2 = pd.read_csv('/datasets/geo_data_2.csv')"
   ]
  },
  {
   "cell_type": "markdown",
   "metadata": {},
   "source": [
    "Далее ознакомимся с данными в нашей таблице."
   ]
  },
  {
   "cell_type": "code",
   "execution_count": 3,
   "metadata": {},
   "outputs": [
    {
     "name": "stdout",
     "output_type": "stream",
     "text": [
      "<class 'pandas.core.frame.DataFrame'>\n",
      "RangeIndex: 100000 entries, 0 to 99999\n",
      "Data columns (total 5 columns):\n",
      " #   Column   Non-Null Count   Dtype  \n",
      "---  ------   --------------   -----  \n",
      " 0   id       100000 non-null  object \n",
      " 1   f0       100000 non-null  float64\n",
      " 2   f1       100000 non-null  float64\n",
      " 3   f2       100000 non-null  float64\n",
      " 4   product  100000 non-null  float64\n",
      "dtypes: float64(4), object(1)\n",
      "memory usage: 3.8+ MB\n",
      "None\n",
      "\n",
      "<class 'pandas.core.frame.DataFrame'>\n",
      "RangeIndex: 100000 entries, 0 to 99999\n",
      "Data columns (total 5 columns):\n",
      " #   Column   Non-Null Count   Dtype  \n",
      "---  ------   --------------   -----  \n",
      " 0   id       100000 non-null  object \n",
      " 1   f0       100000 non-null  float64\n",
      " 2   f1       100000 non-null  float64\n",
      " 3   f2       100000 non-null  float64\n",
      " 4   product  100000 non-null  float64\n",
      "dtypes: float64(4), object(1)\n",
      "memory usage: 3.8+ MB\n",
      "None\n",
      "\n",
      "<class 'pandas.core.frame.DataFrame'>\n",
      "RangeIndex: 100000 entries, 0 to 99999\n",
      "Data columns (total 5 columns):\n",
      " #   Column   Non-Null Count   Dtype  \n",
      "---  ------   --------------   -----  \n",
      " 0   id       100000 non-null  object \n",
      " 1   f0       100000 non-null  float64\n",
      " 2   f1       100000 non-null  float64\n",
      " 3   f2       100000 non-null  float64\n",
      " 4   product  100000 non-null  float64\n",
      "dtypes: float64(4), object(1)\n",
      "memory usage: 3.8+ MB\n",
      "None\n",
      "\n"
     ]
    }
   ],
   "source": [
    "regions = [df_geo_0, df_geo_1, df_geo_2]\n",
    "for region in regions:\n",
    "    print(region.info())\n",
    "    print()"
   ]
  },
  {
   "cell_type": "markdown",
   "metadata": {},
   "source": [
    "Пропущенных значений в наших данных нет, названия колонок в норме. Тип данных также соответствует значениям.\n",
    "\n",
    "В следующей ячейке напишем функцию, которая уберет выбросы из данных, а также разделит выборку на тренировочную и валидационную."
   ]
  },
  {
   "cell_type": "code",
   "execution_count": 4,
   "metadata": {},
   "outputs": [],
   "source": [
    "def return_sample(data):\n",
    "    \n",
    "    '''Функция возвращает тренировочные и \n",
    "    валидационные подвыборки, готовые для передачи в модель'''\n",
    "    \n",
    "    global features_train, features_valid, target_train, target_valid\n",
    "    \n",
    "    features_df_total = data[['f0','f1','f2']]\n",
    "    target_df_total = data[['product']]\n",
    "    features_train, features_valid, target_train, target_valid = train_test_split(\n",
    "        features_df_total, target_df_total, test_size=0.25, random_state=42)\n",
    "    \n",
    "    q_25 = np.quantile(features_train['f0'], 0.25)\n",
    "    q_75 = np.quantile(features_train['f0'], 0.75)\n",
    "    f0_x_max = q_75 + (q_75 - q_25) * 1.5\n",
    "    f0_x_min = q_25 - (q_75 - q_25) * 1.5\n",
    "    \n",
    "    q_25 = np.quantile(features_train['f1'], 0.25)\n",
    "    q_75 = np.quantile(features_train['f1'], 0.75)\n",
    "    f1_x_max = q_75 + (q_75 - q_25) * 1.5\n",
    "    f1_x_min = q_25 - (q_75 - q_25) * 1.5\n",
    "    \n",
    "    q_25 = np.quantile(features_train['f2'], 0.25)\n",
    "    q_75 = np.quantile(features_train['f2'], 0.75)\n",
    "    f2_x_max = q_75 + (q_75 - q_25) * 1.5\n",
    "    f2_x_min = q_25 - (q_75 - q_25) * 1.5\n",
    "    \n",
    "    # Очищаем тренировочные данные от выбросов\n",
    "    features_train = features_train.query('(@f0_x_max > f0 > @f0_x_min)and(@f1_x_max > f1 > @f1_x_min)and(@f2_x_max > f2 > @f2_x_min)')\n",
    "    indexes = features_train.index\n",
    "    target_train = pd.DataFrame(target_train['product'][indexes]).reset_index(drop=True)\n",
    "    features_train = features_train.reset_index(drop=True)    \n",
    "    return features_train, features_valid, target_train, target_valid"
   ]
  },
  {
   "cell_type": "markdown",
   "metadata": {},
   "source": [
    "**Промежуточный вывод:**"
   ]
  },
  {
   "cell_type": "markdown",
   "metadata": {},
   "source": [
    "На этом шаге мы загрузили данные, написали функцию для удаления выбросов и разбиения данных на подвыборки. Ее будем применять далее. Здесь также следует отметить, что мною была проведена попытка стандартизировать наши данные, но, обучив модель на стандартизированных и исходных данных, сравнение их результатов значимой разницы не дало. Решил оставить данные в исходном виде."
   ]
  },
  {
   "cell_type": "markdown",
   "metadata": {},
   "source": [
    " "
   ]
  },
  {
   "cell_type": "markdown",
   "metadata": {},
   "source": [
    "## Обучение и проверка модели<a id='section0.2'></a>"
   ]
  },
  {
   "cell_type": "markdown",
   "metadata": {},
   "source": [
    "В условиях задания сказано, что лучше всего с нашими данными справляется модель линейной регрессии. Далее обучим модели для каждого региона с помощью ранее созданной функции."
   ]
  },
  {
   "cell_type": "markdown",
   "metadata": {},
   "source": [
    "Для упрощения вывода результатов напишем еще одну функцию:"
   ]
  },
  {
   "cell_type": "code",
   "execution_count": 5,
   "metadata": {},
   "outputs": [],
   "source": [
    "def print_info(model_lr, features_train, features_valid, target_train, target_valid):\n",
    "    \n",
    "    '''Функция выводит на печать информацию о качестве обученной модели'''\n",
    "\n",
    "    rmse = mean_squared_error(target_valid, model_lr.predict(features_valid))**0.5\n",
    "    print(\"RMSE = \" + \n",
    "          str(rmse) + \"\\nПредсказанный средний запас сырья = \" + \n",
    "          str(model_lr.predict(features_valid).mean()) +\n",
    "          \"\\nФактический средний запас = \" + str(target_valid['product'].mean()) + \"\\n\"*2)\n",
    "    return"
   ]
  },
  {
   "cell_type": "code",
   "execution_count": 6,
   "metadata": {},
   "outputs": [
    {
     "name": "stdout",
     "output_type": "stream",
     "text": [
      "Для региона 0\n",
      "RMSE = 37.75662269913079\n",
      "Предсказанный средний запас сырья = 92.39155529688513\n",
      "Фактический средний запас = 92.32595637084387\n",
      "\n",
      "\n",
      "Для региона 1\n",
      "RMSE = 0.89027512358955\n",
      "Предсказанный средний запас сырья = 68.7130362670957\n",
      "Фактический средний запас = 68.72538074722745\n",
      "\n",
      "\n",
      "Для региона 2\n",
      "RMSE = 40.15029804159093\n",
      "Предсказанный средний запас сырья = 94.56455982104195\n",
      "Фактический средний запас = 95.15099907171961\n",
      "\n",
      "\n"
     ]
    }
   ],
   "source": [
    "# Обучение моделей для каждого региона\n",
    "model_geo_0 = 0\n",
    "model_geo_1 = 0\n",
    "model_geo_2 = 0\n",
    "\n",
    "for region in regions:\n",
    "    if model_geo_0 == 0:\n",
    "        features_train_geo_0, features_valid_geo_0, target_train_geo_0, target_valid_geo_0 = return_sample(region)\n",
    "        model_lr = LinearRegression(n_jobs=-1)\n",
    "        model_lr.fit(features_train_geo_0, target_train_geo_0)\n",
    "        print(\"Для региона 0\")\n",
    "        print_info(model_lr, features_train_geo_0, features_valid_geo_0, target_train_geo_0, target_valid_geo_0)\n",
    "        model_geo_0 = model_lr\n",
    "    elif model_geo_1 == 0:\n",
    "        features_train_geo_1, features_valid_geo_1, target_train_geo_1, target_valid_geo_1 = return_sample(region)\n",
    "        model_lr = LinearRegression(n_jobs=-1)\n",
    "        model_lr.fit(features_train_geo_1, target_train_geo_1)\n",
    "        print(\"Для региона 1\")\n",
    "        print_info(model_lr, features_train_geo_1, features_valid_geo_1, target_train_geo_1, target_valid_geo_1)\n",
    "        model_geo_1 = model_lr\n",
    "    elif model_geo_2 == 0:\n",
    "        features_train_geo_2, features_valid_geo_2, target_train_geo_2, target_valid_geo_2 = return_sample(region)\n",
    "        model_lr = LinearRegression(n_jobs=-1)\n",
    "        model_lr.fit(features_train_geo_2, target_train_geo_2)\n",
    "        print(\"Для региона 2\")\n",
    "        print_info(model_lr, features_train_geo_2, features_valid_geo_2, target_train_geo_2, target_valid_geo_2)\n",
    "        model_geo_2 = model_lr"
   ]
  },
  {
   "cell_type": "markdown",
   "metadata": {},
   "source": [
    "**Промежуточный вывод:**"
   ]
  },
  {
   "cell_type": "markdown",
   "metadata": {},
   "source": [
    "Лучше всего с предсказанием запасов справляется модель для региона 1: в среднем ошибка всего на 890 баррелей.\n",
    "\n",
    "Для двух других моделей результат однозначно хуже: ошибка на 38 и 40 тыс. баррелей. При этом фактический средний запас не так сильно отличается от предсказанного."
   ]
  },
  {
   "cell_type": "markdown",
   "metadata": {},
   "source": [
    "Здесь также стоит отметить, что сначала я пробовал обучить одну общую модель на сконкатенированных данных. Результат вышел не очень. Поэтому на этом шаге обучены модели для каждого региона."
   ]
  },
  {
   "cell_type": "markdown",
   "metadata": {},
   "source": [
    "## Подготовка к расчёту прибыли<a id='section0.3'></a>"
   ]
  },
  {
   "cell_type": "markdown",
   "metadata": {},
   "source": [
    "Теперь сохраним в переменных ключевые значения для расчета прибыли. А также посчитаем, какой объем нам должны дать выбранные скважины, чтобы окупить вложения (по условия задания, 10 млрд рублей)."
   ]
  },
  {
   "cell_type": "code",
   "execution_count": 7,
   "metadata": {},
   "outputs": [],
   "source": [
    "# Расходы на освоение региона\n",
    "DEVELOP_COSTS = 10_000_000_000"
   ]
  },
  {
   "cell_type": "code",
   "execution_count": 8,
   "metadata": {},
   "outputs": [],
   "source": [
    "PRICE = 450_000\n",
    "NUMBER_OF_WELLS = 200"
   ]
  },
  {
   "cell_type": "code",
   "execution_count": 9,
   "metadata": {},
   "outputs": [
    {
     "data": {
      "text/plain": [
       "111.11111111111111"
      ]
     },
     "execution_count": 9,
     "metadata": {},
     "output_type": "execute_result"
    }
   ],
   "source": [
    "# Среднее значение сырья для окупаемости одной скважины (при выборе 200 лучших, указано в тыс. баррелей)\n",
    "PAYBACK_PER_WELL = DEVELOP_COSTS / (NUMBER_OF_WELLS * PRICE)\n",
    "PAYBACK_PER_WELL"
   ]
  },
  {
   "cell_type": "code",
   "execution_count": 10,
   "metadata": {},
   "outputs": [
    {
     "data": {
      "text/plain": [
       "22222.222222222223"
      ]
     },
     "execution_count": 10,
     "metadata": {},
     "output_type": "execute_result"
    }
   ],
   "source": [
    "# Общий объем сырья для окупаемости 200 лучших скважин региона\n",
    "TOTAL_PAYBACK = PAYBACK_PER_WELL * NUMBER_OF_WELLS\n",
    "TOTAL_PAYBACK"
   ]
  },
  {
   "cell_type": "markdown",
   "metadata": {},
   "source": [
    "Далее для оценки сравним средние значения сырья для окупаемости одной скважины со средними значениями запасов из исходной таблицы:"
   ]
  },
  {
   "cell_type": "code",
   "execution_count": 11,
   "metadata": {},
   "outputs": [
    {
     "name": "stdout",
     "output_type": "stream",
     "text": [
      "-18.557905520474378\n",
      "-42.274534990246465\n"
     ]
    },
    {
     "data": {
      "text/plain": [
       "-16.353360902215712"
      ]
     },
     "execution_count": 11,
     "metadata": {},
     "output_type": "execute_result"
    }
   ],
   "source": [
    "print(float(target_train_geo_0.mean()) - PAYBACK_PER_WELL)\n",
    "print(float(target_train_geo_1.mean()) - PAYBACK_PER_WELL)\n",
    "float(target_train_geo_2.mean()) - PAYBACK_PER_WELL"
   ]
  },
  {
   "cell_type": "markdown",
   "metadata": {},
   "source": [
    "**Промежуточный вывод:**"
   ]
  },
  {
   "cell_type": "markdown",
   "metadata": {},
   "source": [
    "На этом шаге мы выяснили, что безубыточная добыча будет возможна, если выбранные нами 200 скважин в среднем будут приносить 111,12 тысяч баррелей каждая. Или общая сумма запасов сырья должна быть не меньше 22222,23 тыс. баррелей.\n",
    "\n",
    "Также для понимания мы сравнили среднее количество сырья во всех скважинах для кажого региона с необходимым средним значением. И получилось, что среднее значение целевого признака исходных данных ниже, чем необходимое.\n",
    "\n",
    "Это дало нам объяснение, что нельзя необдуманно разрабатывать все скважины, в этом и есть необходимость нашей модели."
   ]
  },
  {
   "cell_type": "markdown",
   "metadata": {},
   "source": [
    "## Расчёт прибыли и рисков <a id='section0.4'></a>"
   ]
  },
  {
   "cell_type": "markdown",
   "metadata": {},
   "source": [
    "Для начала напишем функцию для расчета прибыли по предсказаниям нашей модели:"
   ]
  },
  {
   "cell_type": "code",
   "execution_count": 12,
   "metadata": {},
   "outputs": [],
   "source": [
    "def region_profit(model, features, target):\n",
    "    \n",
    "    '''Функция рассчитывает прибыль для предсказанных значений (топ 200) \n",
    "    в одном конкретном регионе с учетом вложений'''\n",
    "    \n",
    "    values = model.predict(features)\n",
    "    values = pd.DataFrame(data=values, index=features.index).sort_values(by=0, ascending=False).head(200)\n",
    "    sum_of_pred_product = target['product'][values.index].sum()\n",
    "    profit = -DEVELOP_COSTS + (sum_of_pred_product * PRICE)\n",
    "    return profit"
   ]
  },
  {
   "cell_type": "markdown",
   "metadata": {},
   "source": [
    " "
   ]
  },
  {
   "cell_type": "markdown",
   "metadata": {},
   "source": [
    "Далее напишем функцию для бутстрепа:"
   ]
  },
  {
   "cell_type": "code",
   "execution_count": 13,
   "metadata": {},
   "outputs": [],
   "source": [
    "state = np.random.RandomState(42)\n",
    "\n",
    "def strap(model, features, target, bootstrap_samples):\n",
    "    \n",
    "    '''Функция осуществляет подвыборку из таблицы фичей, \n",
    "    предсказывает целевое значение и возвращает массив значений прибыли, \n",
    "    среднее значение прибыли, значение 95%-го дов. интервала и риск убытков'''\n",
    "    \n",
    "    profit = []\n",
    "    for _ in range(bootstrap_samples):\n",
    "        subsample = features.sample(n=500, replace=True, random_state=state)\n",
    "        prof = region_profit(model, subsample, target)\n",
    "        profit.append(prof)\n",
    "    mean_of_profit = sum(profit) / bootstrap_samples\n",
    "    ci_low = (np.quantile(profit, 0.025)/1000).round(2)\n",
    "    ci_high = (np.quantile(profit, 0.975)/1000).round(2)\n",
    "    loss = (pd.Series(profit) < 0).mean() * 100\n",
    "    \n",
    "    \n",
    "    \n",
    "    return profit, mean_of_profit, ci_low, ci_high, loss"
   ]
  },
  {
   "cell_type": "markdown",
   "metadata": {},
   "source": [
    " "
   ]
  },
  {
   "cell_type": "markdown",
   "metadata": {},
   "source": [
    "Теперь применим написанные выше функции и соберем полученные данные в одну таблицу, для удобства анализа. По условиям задания нам необходимо применить Bootstrap с тысячей выборок. Однако, из-за этого полученные значения колеблются пусть и в небольшом, но некотором диапазоне. Для минимизации колебаний применил эту технику с 10000 выборок: время выполнения ячейки увеличилось до 1 минуты, но зато более точно."
   ]
  },
  {
   "cell_type": "code",
   "execution_count": 14,
   "metadata": {},
   "outputs": [
    {
     "data": {
      "text/html": [
       "<div>\n",
       "<style scoped>\n",
       "    .dataframe tbody tr th:only-of-type {\n",
       "        vertical-align: middle;\n",
       "    }\n",
       "\n",
       "    .dataframe tbody tr th {\n",
       "        vertical-align: top;\n",
       "    }\n",
       "\n",
       "    .dataframe thead th {\n",
       "        text-align: right;\n",
       "    }\n",
       "</style>\n",
       "<table border=\"1\" class=\"dataframe\">\n",
       "  <thead>\n",
       "    <tr style=\"text-align: right;\">\n",
       "      <th></th>\n",
       "      <th>Прибыль</th>\n",
       "      <th>Регион</th>\n",
       "      <th>Риск убытка</th>\n",
       "      <th>95%-й дов. интервал</th>\n",
       "    </tr>\n",
       "  </thead>\n",
       "  <tbody>\n",
       "    <tr>\n",
       "      <th>0</th>\n",
       "      <td>571778.059830</td>\n",
       "      <td>регион 0</td>\n",
       "      <td>5.74</td>\n",
       "      <td>(-103326.61, 903461.56)</td>\n",
       "    </tr>\n",
       "    <tr>\n",
       "      <th>1</th>\n",
       "      <td>-140913.887079</td>\n",
       "      <td>регион 0</td>\n",
       "      <td>5.74</td>\n",
       "      <td>(-103326.61, 903461.56)</td>\n",
       "    </tr>\n",
       "    <tr>\n",
       "      <th>2</th>\n",
       "      <td>410861.787033</td>\n",
       "      <td>регион 0</td>\n",
       "      <td>5.74</td>\n",
       "      <td>(-103326.61, 903461.56)</td>\n",
       "    </tr>\n",
       "    <tr>\n",
       "      <th>3</th>\n",
       "      <td>290281.938055</td>\n",
       "      <td>регион 0</td>\n",
       "      <td>5.74</td>\n",
       "      <td>(-103326.61, 903461.56)</td>\n",
       "    </tr>\n",
       "    <tr>\n",
       "      <th>4</th>\n",
       "      <td>537773.859612</td>\n",
       "      <td>регион 0</td>\n",
       "      <td>5.74</td>\n",
       "      <td>(-103326.61, 903461.56)</td>\n",
       "    </tr>\n",
       "    <tr>\n",
       "      <th>...</th>\n",
       "      <td>...</td>\n",
       "      <td>...</td>\n",
       "      <td>...</td>\n",
       "      <td>...</td>\n",
       "    </tr>\n",
       "    <tr>\n",
       "      <th>9995</th>\n",
       "      <td>296166.154562</td>\n",
       "      <td>регион 2</td>\n",
       "      <td>7.65</td>\n",
       "      <td>(-156951.86, 903656.38)</td>\n",
       "    </tr>\n",
       "    <tr>\n",
       "      <th>9996</th>\n",
       "      <td>292614.082187</td>\n",
       "      <td>регион 2</td>\n",
       "      <td>7.65</td>\n",
       "      <td>(-156951.86, 903656.38)</td>\n",
       "    </tr>\n",
       "    <tr>\n",
       "      <th>9997</th>\n",
       "      <td>98497.590869</td>\n",
       "      <td>регион 2</td>\n",
       "      <td>7.65</td>\n",
       "      <td>(-156951.86, 903656.38)</td>\n",
       "    </tr>\n",
       "    <tr>\n",
       "      <th>9998</th>\n",
       "      <td>146502.872928</td>\n",
       "      <td>регион 2</td>\n",
       "      <td>7.65</td>\n",
       "      <td>(-156951.86, 903656.38)</td>\n",
       "    </tr>\n",
       "    <tr>\n",
       "      <th>9999</th>\n",
       "      <td>320261.448508</td>\n",
       "      <td>регион 2</td>\n",
       "      <td>7.65</td>\n",
       "      <td>(-156951.86, 903656.38)</td>\n",
       "    </tr>\n",
       "  </tbody>\n",
       "</table>\n",
       "<p>30000 rows × 4 columns</p>\n",
       "</div>"
      ],
      "text/plain": [
       "            Прибыль    Регион  Риск убытка      95%-й дов. интервал\n",
       "0     571778.059830  регион 0         5.74  (-103326.61, 903461.56)\n",
       "1    -140913.887079  регион 0         5.74  (-103326.61, 903461.56)\n",
       "2     410861.787033  регион 0         5.74  (-103326.61, 903461.56)\n",
       "3     290281.938055  регион 0         5.74  (-103326.61, 903461.56)\n",
       "4     537773.859612  регион 0         5.74  (-103326.61, 903461.56)\n",
       "...             ...       ...          ...                      ...\n",
       "9995  296166.154562  регион 2         7.65  (-156951.86, 903656.38)\n",
       "9996  292614.082187  регион 2         7.65  (-156951.86, 903656.38)\n",
       "9997   98497.590869  регион 2         7.65  (-156951.86, 903656.38)\n",
       "9998  146502.872928  регион 2         7.65  (-156951.86, 903656.38)\n",
       "9999  320261.448508  регион 2         7.65  (-156951.86, 903656.38)\n",
       "\n",
       "[30000 rows x 4 columns]"
      ]
     },
     "execution_count": 14,
     "metadata": {},
     "output_type": "execute_result"
    }
   ],
   "source": [
    "models = [model_geo_0, model_geo_1, model_geo_2]\n",
    "features_for_models = [features_valid_geo_0, features_valid_geo_1, features_valid_geo_2]\n",
    "target_for_function = [target_valid_geo_0, target_valid_geo_1, target_valid_geo_2]\n",
    "list_profit_geo = []\n",
    "\n",
    "for i in range(len(models)):\n",
    "    profit_geo, mean_geo, ci_geo_low, ci_geo_high, loss_geo = strap(models[i], features_for_models[i], \n",
    "                                                                    target_for_function[i], 10000)\n",
    "    list_profit_geo.append(pd.DataFrame(profit_geo))\n",
    "    list_profit_geo[i][1] = f'регион {i}'\n",
    "    list_profit_geo[i][2] = loss_geo\n",
    "    list_profit_geo[i][3] = '('+str(ci_geo_low)+', '+str(ci_geo_high)+')'\n",
    "    \n",
    "profit = pd.concat(list_profit_geo, axis=0)\n",
    "profit.columns = ['Прибыль','Регион','Риск убытка', '95%-й дов. интервал']\n",
    "profit['Прибыль'] = profit['Прибыль'] / 1000  \n",
    "\n",
    "profit"
   ]
  },
  {
   "cell_type": "code",
   "execution_count": 15,
   "metadata": {},
   "outputs": [
    {
     "data": {
      "text/html": [
       "<div>\n",
       "<style scoped>\n",
       "    .dataframe tbody tr th:only-of-type {\n",
       "        vertical-align: middle;\n",
       "    }\n",
       "\n",
       "    .dataframe tbody tr th {\n",
       "        vertical-align: top;\n",
       "    }\n",
       "\n",
       "    .dataframe thead th {\n",
       "        text-align: right;\n",
       "    }\n",
       "</style>\n",
       "<table border=\"1\" class=\"dataframe\">\n",
       "  <thead>\n",
       "    <tr style=\"text-align: right;\">\n",
       "      <th></th>\n",
       "      <th>95%-й дов. интервал</th>\n",
       "      <th>Средняя прибыль</th>\n",
       "      <th>Риск убытка</th>\n",
       "    </tr>\n",
       "    <tr>\n",
       "      <th>Регион</th>\n",
       "      <th></th>\n",
       "      <th></th>\n",
       "      <th></th>\n",
       "    </tr>\n",
       "  </thead>\n",
       "  <tbody>\n",
       "    <tr>\n",
       "      <th>регион 0</th>\n",
       "      <td>(-103326.61, 903461.56)</td>\n",
       "      <td>407718.41</td>\n",
       "      <td>5.74</td>\n",
       "    </tr>\n",
       "    <tr>\n",
       "      <th>регион 1</th>\n",
       "      <td>(36065.92, 835851.59)</td>\n",
       "      <td>441010.14</td>\n",
       "      <td>1.74</td>\n",
       "    </tr>\n",
       "    <tr>\n",
       "      <th>регион 2</th>\n",
       "      <td>(-156951.86, 903656.38)</td>\n",
       "      <td>381595.91</td>\n",
       "      <td>7.65</td>\n",
       "    </tr>\n",
       "  </tbody>\n",
       "</table>\n",
       "</div>"
      ],
      "text/plain": [
       "              95%-й дов. интервал  Средняя прибыль  Риск убытка\n",
       "Регион                                                         \n",
       "регион 0  (-103326.61, 903461.56)        407718.41         5.74\n",
       "регион 1    (36065.92, 835851.59)        441010.14         1.74\n",
       "регион 2  (-156951.86, 903656.38)        381595.91         7.65"
      ]
     },
     "execution_count": 15,
     "metadata": {},
     "output_type": "execute_result"
    }
   ],
   "source": [
    "# Для удобной интерпритации сгруппируем табличку\n",
    "profit = profit.groupby(['Регион','95%-й дов. интервал']).mean().round(2).rename(\n",
    "    columns={'Прибыль':'Средняя прибыль'}).reset_index(level=1)\n",
    "profit"
   ]
  },
  {
   "cell_type": "code",
   "execution_count": 17,
   "metadata": {},
   "outputs": [
    {
     "data": {
      "image/png": "[encoded data removed]",
      "text/plain": [
       "<Figure size 700x700 with 1 Axes>"
      ]
     },
     "metadata": {},
     "output_type": "display_data"
    }
   ],
   "source": [
    "# Добавим графическое отображение результатов\n",
    "plt.figure(figsize=(7, 7))\n",
    "plt.ylim(0, 10)\n",
    "sns.set(style=\"darkgrid\")\n",
    "sns.barplot(x='Средняя прибыль', y='Риск убытка', data=profit, hue=profit.index)\n",
    "plt.title('Анализ рисков и средней прибыли в регионах нефтедобычи')\n",
    "plt.show()"
   ]
  },
  {
   "cell_type": "markdown",
   "metadata": {},
   "source": [
    "## Общий вывод по работе <a id='section0.5'></a>"
   ]
  },
  {
   "cell_type": "markdown",
   "metadata": {},
   "source": [
    "По условиям задания нам необходимо выбрать регион, в котором риск убытков не выше 2,5%.\n",
    "\n",
    "По этому критерию нам подходит только `регион 1`. В остальных регионах риск убытков значительно выше.\n",
    "\n",
    "Согласно рассчитанному доверительному интервалу в данном регионе с вероятностью 95% можно получить от 36 до 835 млн. рублей прибыли. А показатель средней прибыли равняется 441 млн. Что даже без учета риска убытков выше, чем в других регионах."
   ]
  },
  {
   "cell_type": "markdown",
   "metadata": {},
   "source": [
    " "
   ]
  }
 ],
 "metadata": {
  "ExecuteTimeLog": [
   {
    "duration": 1564,
    "start_time": "2023-02-21T15:12:19.474Z"
   },
   {
    "duration": 893,
    "start_time": "2023-02-21T15:12:35.050Z"
   },
   {
    "duration": 35,
    "start_time": "2023-02-21T15:13:20.670Z"
   },
   {
    "duration": 9,
    "start_time": "2023-02-21T15:15:53.977Z"
   },
   {
    "duration": 3,
    "start_time": "2023-02-21T15:22:57.864Z"
   },
   {
    "duration": 597,
    "start_time": "2023-02-21T15:23:48.401Z"
   },
   {
    "duration": 2,
    "start_time": "2023-02-21T15:49:04.610Z"
   },
   {
    "duration": 3,
    "start_time": "2023-02-21T15:49:14.889Z"
   },
   {
    "duration": 3,
    "start_time": "2023-02-21T15:49:24.796Z"
   },
   {
    "duration": 5,
    "start_time": "2023-02-21T15:49:29.428Z"
   },
   {
    "duration": 5,
    "start_time": "2023-02-21T15:49:41.767Z"
   },
   {
    "duration": 11,
    "start_time": "2023-02-21T15:53:59.277Z"
   },
   {
    "duration": 10,
    "start_time": "2023-02-21T15:54:20.466Z"
   },
   {
    "duration": 8,
    "start_time": "2023-02-21T15:54:42.013Z"
   },
   {
    "duration": 4,
    "start_time": "2023-02-21T16:03:01.984Z"
   },
   {
    "duration": 5,
    "start_time": "2023-02-21T16:04:33.125Z"
   },
   {
    "duration": 0,
    "start_time": "2023-02-21T16:06:15.345Z"
   },
   {
    "duration": 72297,
    "start_time": "2023-02-21T16:06:20.472Z"
   },
   {
    "duration": 69519,
    "start_time": "2023-02-21T16:11:20.545Z"
   },
   {
    "duration": 20,
    "start_time": "2023-02-21T16:13:14.773Z"
   },
   {
    "duration": 14,
    "start_time": "2023-02-21T16:14:18.493Z"
   },
   {
    "duration": 114,
    "start_time": "2023-02-21T16:15:12.564Z"
   },
   {
    "duration": 4,
    "start_time": "2023-02-21T16:35:55.486Z"
   },
   {
    "duration": 75444,
    "start_time": "2023-02-21T16:38:34.674Z"
   },
   {
    "duration": 24,
    "start_time": "2023-02-21T16:39:50.121Z"
   },
   {
    "duration": 1474,
    "start_time": "2023-02-21T16:44:26.530Z"
   },
   {
    "duration": 426,
    "start_time": "2023-02-21T16:44:28.008Z"
   },
   {
    "duration": 45,
    "start_time": "2023-02-21T16:44:28.436Z"
   },
   {
    "duration": 16,
    "start_time": "2023-02-21T16:44:28.483Z"
   },
   {
    "duration": 6,
    "start_time": "2023-02-21T16:44:28.501Z"
   },
   {
    "duration": 526,
    "start_time": "2023-02-21T16:44:28.509Z"
   },
   {
    "duration": 8,
    "start_time": "2023-02-21T16:44:29.101Z"
   },
   {
    "duration": 97,
    "start_time": "2023-02-21T16:44:29.111Z"
   },
   {
    "duration": 14,
    "start_time": "2023-02-21T16:44:29.209Z"
   },
   {
    "duration": 14,
    "start_time": "2023-02-21T16:44:29.225Z"
   },
   {
    "duration": 12,
    "start_time": "2023-02-21T16:44:29.241Z"
   },
   {
    "duration": 14,
    "start_time": "2023-02-21T16:44:29.255Z"
   },
   {
    "duration": 75987,
    "start_time": "2023-02-21T16:44:29.271Z"
   },
   {
    "duration": 18,
    "start_time": "2023-02-21T16:45:45.261Z"
   },
   {
    "duration": 153,
    "start_time": "2023-02-21T16:45:45.280Z"
   },
   {
    "duration": 1362,
    "start_time": "2023-02-22T10:16:24.431Z"
   },
   {
    "duration": 458,
    "start_time": "2023-02-22T10:16:25.796Z"
   },
   {
    "duration": 43,
    "start_time": "2023-02-22T10:16:26.255Z"
   },
   {
    "duration": 7,
    "start_time": "2023-02-22T10:16:26.300Z"
   },
   {
    "duration": 4,
    "start_time": "2023-02-22T10:16:38.124Z"
   },
   {
    "duration": 723,
    "start_time": "2023-02-22T10:16:38.620Z"
   },
   {
    "duration": 17,
    "start_time": "2023-02-22T10:16:49.992Z"
   },
   {
    "duration": 12,
    "start_time": "2023-02-22T10:16:52.086Z"
   },
   {
    "duration": 11,
    "start_time": "2023-02-22T10:16:54.328Z"
   },
   {
    "duration": 53,
    "start_time": "2023-02-22T20:34:37.587Z"
   },
   {
    "duration": 1452,
    "start_time": "2023-02-22T20:34:47.752Z"
   },
   {
    "duration": 902,
    "start_time": "2023-02-22T20:34:49.206Z"
   },
   {
    "duration": 35,
    "start_time": "2023-02-22T20:34:50.110Z"
   },
   {
    "duration": 7,
    "start_time": "2023-02-22T20:34:50.146Z"
   },
   {
    "duration": 24,
    "start_time": "2023-02-22T20:34:50.155Z"
   },
   {
    "duration": 528,
    "start_time": "2023-02-22T20:34:50.181Z"
   },
   {
    "duration": 79,
    "start_time": "2023-02-22T20:34:50.711Z"
   },
   {
    "duration": 3,
    "start_time": "2023-02-22T20:38:49.244Z"
   },
   {
    "duration": 5,
    "start_time": "2023-02-22T20:38:57.985Z"
   },
   {
    "duration": 104,
    "start_time": "2023-02-22T20:44:12.782Z"
   },
   {
    "duration": 3,
    "start_time": "2023-02-22T20:44:22.090Z"
   },
   {
    "duration": 5,
    "start_time": "2023-02-22T20:44:25.113Z"
   },
   {
    "duration": 5,
    "start_time": "2023-02-22T20:46:17.151Z"
   },
   {
    "duration": 9,
    "start_time": "2023-02-22T20:46:46.576Z"
   },
   {
    "duration": 5,
    "start_time": "2023-02-22T20:46:58.012Z"
   },
   {
    "duration": 372,
    "start_time": "2023-02-22T20:46:58.019Z"
   },
   {
    "duration": 39,
    "start_time": "2023-02-22T20:46:58.394Z"
   },
   {
    "duration": 6,
    "start_time": "2023-02-22T20:46:58.434Z"
   },
   {
    "duration": 13,
    "start_time": "2023-02-22T20:46:58.442Z"
   },
   {
    "duration": 462,
    "start_time": "2023-02-22T20:46:58.456Z"
   },
   {
    "duration": 65,
    "start_time": "2023-02-22T20:46:58.921Z"
   },
   {
    "duration": 107,
    "start_time": "2023-02-22T20:46:58.988Z"
   },
   {
    "duration": 9,
    "start_time": "2023-02-22T20:46:59.097Z"
   },
   {
    "duration": 8,
    "start_time": "2023-02-22T20:46:59.107Z"
   },
   {
    "duration": 11,
    "start_time": "2023-02-22T20:47:08.860Z"
   },
   {
    "duration": 11,
    "start_time": "2023-02-22T20:57:25.419Z"
   },
   {
    "duration": 9,
    "start_time": "2023-02-22T21:01:22.318Z"
   },
   {
    "duration": 13,
    "start_time": "2023-02-22T21:07:00.104Z"
   },
   {
    "duration": 11,
    "start_time": "2023-02-22T21:07:14.087Z"
   },
   {
    "duration": 7,
    "start_time": "2023-02-22T21:07:25.651Z"
   },
   {
    "duration": 4,
    "start_time": "2023-02-22T21:07:59.565Z"
   },
   {
    "duration": 13,
    "start_time": "2023-02-22T21:08:15.225Z"
   },
   {
    "duration": 6,
    "start_time": "2023-02-22T21:09:10.425Z"
   },
   {
    "duration": 8,
    "start_time": "2023-02-22T21:09:38.986Z"
   },
   {
    "duration": 6,
    "start_time": "2023-02-22T21:10:14.371Z"
   },
   {
    "duration": 5,
    "start_time": "2023-02-22T21:10:23.993Z"
   },
   {
    "duration": 4,
    "start_time": "2023-02-22T21:13:42.768Z"
   },
   {
    "duration": 4,
    "start_time": "2023-02-22T21:16:03.058Z"
   },
   {
    "duration": 5,
    "start_time": "2023-02-22T21:22:50.343Z"
   },
   {
    "duration": 65424,
    "start_time": "2023-02-22T21:25:28.256Z"
   },
   {
    "duration": 21,
    "start_time": "2023-02-22T21:27:39.817Z"
   },
   {
    "duration": 6,
    "start_time": "2023-02-22T21:31:35.054Z"
   },
   {
    "duration": 68606,
    "start_time": "2023-02-22T21:31:41.760Z"
   },
   {
    "duration": 19,
    "start_time": "2023-02-22T21:33:46.518Z"
   },
   {
    "duration": 7,
    "start_time": "2023-02-22T21:40:08.530Z"
   },
   {
    "duration": 80170,
    "start_time": "2023-02-22T21:40:13.265Z"
   },
   {
    "duration": 18,
    "start_time": "2023-02-22T21:41:33.438Z"
   },
   {
    "duration": 5,
    "start_time": "2023-02-22T21:43:22.927Z"
   },
   {
    "duration": 5,
    "start_time": "2023-02-22T21:45:20.712Z"
   },
   {
    "duration": 69015,
    "start_time": "2023-02-22T21:45:26.350Z"
   },
   {
    "duration": 19,
    "start_time": "2023-02-22T21:46:35.367Z"
   },
   {
    "duration": 139,
    "start_time": "2023-02-22T21:48:27.579Z"
   },
   {
    "duration": 121,
    "start_time": "2023-02-22T21:49:40.331Z"
   },
   {
    "duration": 134,
    "start_time": "2023-02-22T21:49:51.519Z"
   },
   {
    "duration": 119,
    "start_time": "2023-02-22T21:49:57.551Z"
   },
   {
    "duration": 209,
    "start_time": "2023-02-22T21:50:39.324Z"
   },
   {
    "duration": 218,
    "start_time": "2023-02-22T21:51:34.120Z"
   },
   {
    "duration": 194,
    "start_time": "2023-02-22T21:55:03.775Z"
   },
   {
    "duration": 202,
    "start_time": "2023-02-22T21:56:49.349Z"
   },
   {
    "duration": 200,
    "start_time": "2023-02-22T21:58:44.595Z"
   },
   {
    "duration": 187,
    "start_time": "2023-02-22T21:59:14.416Z"
   },
   {
    "duration": 1425,
    "start_time": "2023-02-22T22:15:05.007Z"
   },
   {
    "duration": 396,
    "start_time": "2023-02-22T22:15:06.434Z"
   },
   {
    "duration": 33,
    "start_time": "2023-02-22T22:15:06.831Z"
   },
   {
    "duration": 7,
    "start_time": "2023-02-22T22:15:06.866Z"
   },
   {
    "duration": 6,
    "start_time": "2023-02-22T22:15:06.885Z"
   },
   {
    "duration": 531,
    "start_time": "2023-02-22T22:15:06.894Z"
   },
   {
    "duration": 4,
    "start_time": "2023-02-22T22:15:07.487Z"
   },
   {
    "duration": 100,
    "start_time": "2023-02-22T22:15:07.493Z"
   },
   {
    "duration": 14,
    "start_time": "2023-02-22T22:15:07.595Z"
   },
   {
    "duration": 9,
    "start_time": "2023-02-22T22:15:07.610Z"
   },
   {
    "duration": 13,
    "start_time": "2023-02-22T22:15:07.620Z"
   },
   {
    "duration": 20,
    "start_time": "2023-02-22T22:15:07.635Z"
   },
   {
    "duration": 9,
    "start_time": "2023-02-22T22:15:07.657Z"
   },
   {
    "duration": 67300,
    "start_time": "2023-02-22T22:15:07.668Z"
   },
   {
    "duration": 22,
    "start_time": "2023-02-22T22:16:14.970Z"
   },
   {
    "duration": 220,
    "start_time": "2023-02-22T22:16:14.995Z"
   },
   {
    "duration": 6933,
    "start_time": "2023-02-22T22:19:01.256Z"
   },
   {
    "duration": 18,
    "start_time": "2023-02-22T22:19:08.192Z"
   },
   {
    "duration": 68676,
    "start_time": "2023-02-22T22:19:25.408Z"
   },
   {
    "duration": 28,
    "start_time": "2023-02-22T22:20:34.087Z"
   },
   {
    "duration": 233,
    "start_time": "2023-02-22T22:20:34.117Z"
   },
   {
    "duration": 1572,
    "start_time": "2023-02-24T14:17:45.730Z"
   },
   {
    "duration": 889,
    "start_time": "2023-02-24T14:17:47.304Z"
   },
   {
    "duration": 35,
    "start_time": "2023-02-24T14:17:48.194Z"
   },
   {
    "duration": 8,
    "start_time": "2023-02-24T14:17:48.230Z"
   },
   {
    "duration": 19,
    "start_time": "2023-02-24T14:17:48.239Z"
   },
   {
    "duration": 460,
    "start_time": "2023-02-24T14:17:48.260Z"
   },
   {
    "duration": 3,
    "start_time": "2023-02-24T14:17:48.799Z"
   },
   {
    "duration": 101,
    "start_time": "2023-02-24T14:17:48.804Z"
   },
   {
    "duration": 11,
    "start_time": "2023-02-24T14:17:48.906Z"
   },
   {
    "duration": 5,
    "start_time": "2023-02-24T14:17:48.919Z"
   },
   {
    "duration": 9,
    "start_time": "2023-02-24T14:17:48.926Z"
   },
   {
    "duration": 3,
    "start_time": "2023-02-24T14:17:48.937Z"
   },
   {
    "duration": 6,
    "start_time": "2023-02-24T14:17:48.942Z"
   },
   {
    "duration": 61421,
    "start_time": "2023-02-24T14:17:48.949Z"
   },
   {
    "duration": 28,
    "start_time": "2023-02-24T14:18:50.371Z"
   },
   {
    "duration": 196,
    "start_time": "2023-02-24T14:18:50.401Z"
   },
   {
    "duration": 6,
    "start_time": "2023-02-24T14:20:12.090Z"
   },
   {
    "duration": 61139,
    "start_time": "2023-02-24T14:20:14.819Z"
   },
   {
    "duration": 18,
    "start_time": "2023-02-24T14:21:15.960Z"
   },
   {
    "duration": 209,
    "start_time": "2023-02-24T14:21:15.980Z"
   }
  ],
  "kernelspec": {
   "display_name": "Python 3 (ipykernel)",
   "language": "python",
   "name": "python3"
  },
  "language_info": {
   "codemirror_mode": {
    "name": "ipython",
    "version": 3
   },
   "file_extension": ".py",
   "mimetype": "text/x-python",
   "name": "python",
   "nbconvert_exporter": "python",
   "pygments_lexer": "ipython3",
   "version": "3.8.10"
  },
  "toc": {
   "base_numbering": 1,
   "nav_menu": {},
   "number_sections": false,
   "sideBar": true,
   "skip_h1_title": true,
   "title_cell": "План работы",
   "title_sidebar": "Contents",
   "toc_cell": false,
   "toc_position": {
    "height": "788px",
    "left": "45px",
    "top": "200px",
    "width": "398px"
   },
   "toc_section_display": true,
   "toc_window_display": true
  }
 },
 "nbformat": 4,
 "nbformat_minor": 2
}

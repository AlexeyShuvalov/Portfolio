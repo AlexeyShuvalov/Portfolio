{
 "cells": [
  {
   "cell_type": "markdown",
   "metadata": {},
   "source": [
    "# Определение стоимости автомобилей"
   ]
  },
  {
   "cell_type": "markdown",
   "metadata": {},
   "source": [
    "Целью данной работы является создание модели предсказания цены автомобиля для приложения сервиса \"Не бит, не крашен\". Модель по переданным данным должна предсказывать рыночную цену для автомобиля пользователя.\n",
    "\n",
    "Нам предоставлены исторические данные с техническими характеристиками, комплектациями и ценами автомобилей. В данных имеются аномальные значения, пропуски, бесполезные признаки (с точки зрения полезности для прогнозирования). Нам необходимо привести данные в порядок, разбить данные на подвыборки (так как отдельной тестовой выборки у нас не имеется). \n",
    "\n",
    "После необходимо обучить несколько моделей предсказания, одной из которых должна быть модель градиентного бустинга, обученная библиотекой LightGBM. Обученные модели должны соответствовать определенным критериям заказчика:\n",
    "\n",
    "- **показатель качества модели** - качество следует измерять метрикой RMSE, в итоговой модели должно быть не выше 2500;\n",
    "\n",
    "\n",
    "- **время обучения модели**;\n",
    "\n",
    "\n",
    "- **время предсказания**."
   ]
  },
  {
   "cell_type": "markdown",
   "metadata": {},
   "source": [
    "**Описание данных:**\n",
    "\n",
    "- **DateCrawled** — дата скачивания анкеты из базы\n",
    "- **VehicleType** — тип автомобильного кузова\n",
    "- **RegistrationYear** — год регистрации автомобиля\n",
    "- **Gearbox** — тип коробки передач\n",
    "- **Power** — мощность (л. с.)\n",
    "- **Model** — модель автомобиля\n",
    "- **Kilometer** — пробег (км)\n",
    "- **RegistrationMonth** — месяц регистрации автомобиля\n",
    "- **FuelType** — тип топлива\n",
    "- **Brand** — марка автомобиля\n",
    "- **Repaired** — была машина в ремонте или нет\n",
    "- **DateCreated** — дата создания анкеты\n",
    "- **NumberOfPictures** — количество фотографий автомобиля\n",
    "- **PostalCode** — почтовый индекс владельца анкеты (пользователя)\n",
    "- **LastSeen** — дата последней активности пользователя"
   ]
  },
  {
   "cell_type": "markdown",
   "metadata": {},
   "source": [
    "**Целевой признак** - Price — цена (евро)"
   ]
  },
  {
   "cell_type": "markdown",
   "metadata": {},
   "source": [
    " "
   ]
  },
  {
   "cell_type": "markdown",
   "metadata": {
    "toc": true
   },
   "source": [
    "<h1>Содержание<span class=\"tocSkip\"></span></h1>\n",
    "<div class=\"toc\"><ul class=\"toc-item\"><li><span><a href=\"#Подготовка-данных\" data-toc-modified-id=\"Подготовка-данных-1\"><span class=\"toc-item-num\">1&nbsp;&nbsp;</span>Подготовка данных</a></span><ul class=\"toc-item\"><li><span><a href=\"#Загрузка-данных-и-библиотек\" data-toc-modified-id=\"Загрузка-данных-и-библиотек-1.1\"><span class=\"toc-item-num\">1.1&nbsp;&nbsp;</span>Загрузка данных и библиотек</a></span></li><li><span><a href=\"#Изменение-названий-столбцов,-работа-с-пропущенными-значениями\" data-toc-modified-id=\"Изменение-названий-столбцов,-работа-с-пропущенными-значениями-1.2\"><span class=\"toc-item-num\">1.2&nbsp;&nbsp;</span>Изменение названий столбцов, работа с пропущенными значениями</a></span></li><li><span><a href=\"#Удаление-аномальных-значений\" data-toc-modified-id=\"Удаление-аномальных-значений-1.3\"><span class=\"toc-item-num\">1.3&nbsp;&nbsp;</span>Удаление аномальных значений</a></span></li><li><span><a href=\"#OrdinalEncoding-для-категориальных-значений\" data-toc-modified-id=\"OrdinalEncoding-для-категориальных-значений-1.4\"><span class=\"toc-item-num\">1.4&nbsp;&nbsp;</span>OrdinalEncoding для категориальных значений</a></span></li></ul></li><li><span><a href=\"#Обучение-моделей\" data-toc-modified-id=\"Обучение-моделей-2\"><span class=\"toc-item-num\">2&nbsp;&nbsp;</span>Обучение моделей</a></span><ul class=\"toc-item\"><li><span><a href=\"#AdaBoost\" data-toc-modified-id=\"AdaBoost-2.1\"><span class=\"toc-item-num\">2.1&nbsp;&nbsp;</span>AdaBoost</a></span></li><li><span><a href=\"#Random-Forest\" data-toc-modified-id=\"Random-Forest-2.2\"><span class=\"toc-item-num\">2.2&nbsp;&nbsp;</span>Random Forest</a></span></li><li><span><a href=\"#LightGBM\" data-toc-modified-id=\"LightGBM-2.3\"><span class=\"toc-item-num\">2.3&nbsp;&nbsp;</span>LightGBM</a></span></li></ul></li><li><span><a href=\"#Анализ-моделей\" data-toc-modified-id=\"Анализ-моделей-3\"><span class=\"toc-item-num\">3&nbsp;&nbsp;</span>Анализ моделей</a></span><ul class=\"toc-item\"><li><span><a href=\"#AdaBoost\" data-toc-modified-id=\"AdaBoost-3.1\"><span class=\"toc-item-num\">3.1&nbsp;&nbsp;</span>AdaBoost</a></span></li><li><span><a href=\"#Random-Forest\" data-toc-modified-id=\"Random-Forest-3.2\"><span class=\"toc-item-num\">3.2&nbsp;&nbsp;</span>Random Forest</a></span></li><li><span><a href=\"#LightGBM\" data-toc-modified-id=\"LightGBM-3.3\"><span class=\"toc-item-num\">3.3&nbsp;&nbsp;</span>LightGBM</a></span></li></ul></li><li><span><a href=\"#Проверка-качества-на-тестовых-данных\" data-toc-modified-id=\"Проверка-качества-на-тестовых-данных-4\"><span class=\"toc-item-num\">4&nbsp;&nbsp;</span>Проверка качества на тестовых данных</a></span></li><li><span><a href=\"#Общий-вывод-по-работе\" data-toc-modified-id=\"Общий-вывод-по-работе-5\"><span class=\"toc-item-num\">5&nbsp;&nbsp;</span>Общий вывод по работе</a></span></li></ul></div>"
   ]
  },
  {
   "cell_type": "markdown",
   "metadata": {},
   "source": [
    "## Подготовка данных"
   ]
  },
  {
   "cell_type": "markdown",
   "metadata": {},
   "source": [
    "### Загрузка данных и библиотек"
   ]
  },
  {
   "cell_type": "code",
   "execution_count": 1,
   "metadata": {},
   "outputs": [],
   "source": [
    "# необходимые библиотеки\n",
    "# импортируем необходимые библиотеки\n",
    "import numpy as np\n",
    "import pandas as pd\n",
    "import matplotlib.pyplot as plt\n",
    "import seaborn as sns\n",
    "%matplotlib inline\n",
    "\n",
    "\n",
    "from sklearn.tree import DecisionTreeClassifier\n",
    "from sklearn.ensemble import RandomForestRegressor\n",
    "from sklearn.linear_model import Ridge\n",
    "from sklearn.metrics import mean_squared_error\n",
    "from sklearn.model_selection import train_test_split\n",
    "from sklearn.model_selection import GridSearchCV\n",
    "from sklearn.model_selection import cross_val_score\n",
    "from sklearn.preprocessing import OrdinalEncoder\n",
    "from sklearn.impute import KNNImputer\n",
    "from lightgbm import LGBMRegressor\n",
    "from sklearn.ensemble import AdaBoostRegressor\n",
    "\n",
    "import warnings\n",
    "warnings.filterwarnings('ignore')\n",
    "warnings.simplefilter('ignore')"
   ]
  },
  {
   "cell_type": "code",
   "execution_count": 2,
   "metadata": {},
   "outputs": [],
   "source": [
    "# если можно, открываем файл из локального носителя\n",
    "# или с Jupyter Hub\n",
    "try:\n",
    "    df = pd.read_csv('autos.csv')\n",
    "except:\n",
    "    df = pd.read_csv('/datasets/autos.csv')"
   ]
  },
  {
   "cell_type": "code",
   "execution_count": 3,
   "metadata": {},
   "outputs": [
    {
     "data": {
      "text/html": [
       "<div>\n",
       "<style scoped>\n",
       "    .dataframe tbody tr th:only-of-type {\n",
       "        vertical-align: middle;\n",
       "    }\n",
       "\n",
       "    .dataframe tbody tr th {\n",
       "        vertical-align: top;\n",
       "    }\n",
       "\n",
       "    .dataframe thead th {\n",
       "        text-align: right;\n",
       "    }\n",
       "</style>\n",
       "<table border=\"1\" class=\"dataframe\">\n",
       "  <thead>\n",
       "    <tr style=\"text-align: right;\">\n",
       "      <th></th>\n",
       "      <th>DateCrawled</th>\n",
       "      <th>Price</th>\n",
       "      <th>VehicleType</th>\n",
       "      <th>RegistrationYear</th>\n",
       "      <th>Gearbox</th>\n",
       "      <th>Power</th>\n",
       "      <th>Model</th>\n",
       "      <th>Kilometer</th>\n",
       "      <th>RegistrationMonth</th>\n",
       "      <th>FuelType</th>\n",
       "      <th>Brand</th>\n",
       "      <th>Repaired</th>\n",
       "      <th>DateCreated</th>\n",
       "      <th>NumberOfPictures</th>\n",
       "      <th>PostalCode</th>\n",
       "      <th>LastSeen</th>\n",
       "    </tr>\n",
       "  </thead>\n",
       "  <tbody>\n",
       "    <tr>\n",
       "      <th>0</th>\n",
       "      <td>2016-03-24 11:52:17</td>\n",
       "      <td>480</td>\n",
       "      <td>NaN</td>\n",
       "      <td>1993</td>\n",
       "      <td>manual</td>\n",
       "      <td>0</td>\n",
       "      <td>golf</td>\n",
       "      <td>150000</td>\n",
       "      <td>0</td>\n",
       "      <td>petrol</td>\n",
       "      <td>volkswagen</td>\n",
       "      <td>NaN</td>\n",
       "      <td>2016-03-24 00:00:00</td>\n",
       "      <td>0</td>\n",
       "      <td>70435</td>\n",
       "      <td>2016-04-07 03:16:57</td>\n",
       "    </tr>\n",
       "    <tr>\n",
       "      <th>1</th>\n",
       "      <td>2016-03-24 10:58:45</td>\n",
       "      <td>18300</td>\n",
       "      <td>coupe</td>\n",
       "      <td>2011</td>\n",
       "      <td>manual</td>\n",
       "      <td>190</td>\n",
       "      <td>NaN</td>\n",
       "      <td>125000</td>\n",
       "      <td>5</td>\n",
       "      <td>gasoline</td>\n",
       "      <td>audi</td>\n",
       "      <td>yes</td>\n",
       "      <td>2016-03-24 00:00:00</td>\n",
       "      <td>0</td>\n",
       "      <td>66954</td>\n",
       "      <td>2016-04-07 01:46:50</td>\n",
       "    </tr>\n",
       "    <tr>\n",
       "      <th>2</th>\n",
       "      <td>2016-03-14 12:52:21</td>\n",
       "      <td>9800</td>\n",
       "      <td>suv</td>\n",
       "      <td>2004</td>\n",
       "      <td>auto</td>\n",
       "      <td>163</td>\n",
       "      <td>grand</td>\n",
       "      <td>125000</td>\n",
       "      <td>8</td>\n",
       "      <td>gasoline</td>\n",
       "      <td>jeep</td>\n",
       "      <td>NaN</td>\n",
       "      <td>2016-03-14 00:00:00</td>\n",
       "      <td>0</td>\n",
       "      <td>90480</td>\n",
       "      <td>2016-04-05 12:47:46</td>\n",
       "    </tr>\n",
       "    <tr>\n",
       "      <th>3</th>\n",
       "      <td>2016-03-17 16:54:04</td>\n",
       "      <td>1500</td>\n",
       "      <td>small</td>\n",
       "      <td>2001</td>\n",
       "      <td>manual</td>\n",
       "      <td>75</td>\n",
       "      <td>golf</td>\n",
       "      <td>150000</td>\n",
       "      <td>6</td>\n",
       "      <td>petrol</td>\n",
       "      <td>volkswagen</td>\n",
       "      <td>no</td>\n",
       "      <td>2016-03-17 00:00:00</td>\n",
       "      <td>0</td>\n",
       "      <td>91074</td>\n",
       "      <td>2016-03-17 17:40:17</td>\n",
       "    </tr>\n",
       "    <tr>\n",
       "      <th>4</th>\n",
       "      <td>2016-03-31 17:25:20</td>\n",
       "      <td>3600</td>\n",
       "      <td>small</td>\n",
       "      <td>2008</td>\n",
       "      <td>manual</td>\n",
       "      <td>69</td>\n",
       "      <td>fabia</td>\n",
       "      <td>90000</td>\n",
       "      <td>7</td>\n",
       "      <td>gasoline</td>\n",
       "      <td>skoda</td>\n",
       "      <td>no</td>\n",
       "      <td>2016-03-31 00:00:00</td>\n",
       "      <td>0</td>\n",
       "      <td>60437</td>\n",
       "      <td>2016-04-06 10:17:21</td>\n",
       "    </tr>\n",
       "  </tbody>\n",
       "</table>\n",
       "</div>"
      ],
      "text/plain": [
       "           DateCrawled  Price VehicleType  RegistrationYear Gearbox  Power   \n",
       "0  2016-03-24 11:52:17    480         NaN              1993  manual      0  \\\n",
       "1  2016-03-24 10:58:45  18300       coupe              2011  manual    190   \n",
       "2  2016-03-14 12:52:21   9800         suv              2004    auto    163   \n",
       "3  2016-03-17 16:54:04   1500       small              2001  manual     75   \n",
       "4  2016-03-31 17:25:20   3600       small              2008  manual     69   \n",
       "\n",
       "   Model  Kilometer  RegistrationMonth  FuelType       Brand Repaired   \n",
       "0   golf     150000                  0    petrol  volkswagen      NaN  \\\n",
       "1    NaN     125000                  5  gasoline        audi      yes   \n",
       "2  grand     125000                  8  gasoline        jeep      NaN   \n",
       "3   golf     150000                  6    petrol  volkswagen       no   \n",
       "4  fabia      90000                  7  gasoline       skoda       no   \n",
       "\n",
       "           DateCreated  NumberOfPictures  PostalCode             LastSeen  \n",
       "0  2016-03-24 00:00:00                 0       70435  2016-04-07 03:16:57  \n",
       "1  2016-03-24 00:00:00                 0       66954  2016-04-07 01:46:50  \n",
       "2  2016-03-14 00:00:00                 0       90480  2016-04-05 12:47:46  \n",
       "3  2016-03-17 00:00:00                 0       91074  2016-03-17 17:40:17  \n",
       "4  2016-03-31 00:00:00                 0       60437  2016-04-06 10:17:21  "
      ]
     },
     "execution_count": 3,
     "metadata": {},
     "output_type": "execute_result"
    }
   ],
   "source": [
    "df.head()"
   ]
  },
  {
   "cell_type": "code",
   "execution_count": 4,
   "metadata": {},
   "outputs": [
    {
     "name": "stdout",
     "output_type": "stream",
     "text": [
      "<class 'pandas.core.frame.DataFrame'>\n",
      "RangeIndex: 354369 entries, 0 to 354368\n",
      "Data columns (total 16 columns):\n",
      " #   Column             Non-Null Count   Dtype \n",
      "---  ------             --------------   ----- \n",
      " 0   DateCrawled        354369 non-null  object\n",
      " 1   Price              354369 non-null  int64 \n",
      " 2   VehicleType        316879 non-null  object\n",
      " 3   RegistrationYear   354369 non-null  int64 \n",
      " 4   Gearbox            334536 non-null  object\n",
      " 5   Power              354369 non-null  int64 \n",
      " 6   Model              334664 non-null  object\n",
      " 7   Kilometer          354369 non-null  int64 \n",
      " 8   RegistrationMonth  354369 non-null  int64 \n",
      " 9   FuelType           321474 non-null  object\n",
      " 10  Brand              354369 non-null  object\n",
      " 11  Repaired           283215 non-null  object\n",
      " 12  DateCreated        354369 non-null  object\n",
      " 13  NumberOfPictures   354369 non-null  int64 \n",
      " 14  PostalCode         354369 non-null  int64 \n",
      " 15  LastSeen           354369 non-null  object\n",
      "dtypes: int64(7), object(9)\n",
      "memory usage: 43.3+ MB\n"
     ]
    }
   ],
   "source": [
    "df.info()"
   ]
  },
  {
   "cell_type": "markdown",
   "metadata": {},
   "source": [
    "В таблице 16 столбцов и 354369 значений. \n",
    "\n",
    "Наблюдаются пропуски в колонках `VehicleType`,`Gearbox`,`Model`,`FuelType`,`Repaired`. Названия колонок написаны в стиле CamelCase, что не является стандартной записью. На следующем шаге приведем названия столбцов к стандарту, заполним по возможности пропуски."
   ]
  },
  {
   "cell_type": "markdown",
   "metadata": {},
   "source": [
    " "
   ]
  },
  {
   "cell_type": "markdown",
   "metadata": {},
   "source": [
    "### Изменение названий столбцов, работа с пропущенными значениями"
   ]
  },
  {
   "cell_type": "markdown",
   "metadata": {},
   "source": [
    "Сразу уберем явные дубликаты:\n"
   ]
  },
  {
   "cell_type": "code",
   "execution_count": 5,
   "metadata": {},
   "outputs": [],
   "source": [
    "df = df.drop_duplicates()"
   ]
  },
  {
   "cell_type": "markdown",
   "metadata": {},
   "source": [
    "Меняем названия колонок согласно стандарту:"
   ]
  },
  {
   "cell_type": "code",
   "execution_count": 6,
   "metadata": {},
   "outputs": [],
   "source": [
    "df_columns = []\n",
    "for col in df.columns:\n",
    "    a = ''\n",
    "    for i in range(len(col)):\n",
    "        if col[i].isupper() and i != 0:\n",
    "            a += '_'\n",
    "            a += col[i]\n",
    "        else:\n",
    "            a += col[i]\n",
    "    df_columns.append(a.lower())"
   ]
  },
  {
   "cell_type": "code",
   "execution_count": 7,
   "metadata": {},
   "outputs": [],
   "source": [
    "df.columns = df_columns"
   ]
  },
  {
   "cell_type": "markdown",
   "metadata": {},
   "source": [
    " "
   ]
  },
  {
   "cell_type": "markdown",
   "metadata": {},
   "source": [
    "**Поработаем с пропусками.**\n",
    "\n",
    "В колонке \"model\" удалим строки с пропусками: нам неоткуда взять модель автомобиля, мы не можем нигде взять эту информацию. Также мы поступим с пропусками в колонке \"gearbox\": коробка передач также может быть разной у одной и той же модели. При этом заглушкой (\"unknown\") заполнять будет нецелесообразно.\n",
    "\n",
    "Удаление этих строк повлечет за собой удаления около 10% от всех данных, что не является критическим в нашем случае, так как заполнение этих строк синтетическими данными может оказать негативное влияние на качество построенных моделей.\n",
    "\n",
    "Пропуски в колнке \"repaired\" заполним заглушкой \"unknown\"."
   ]
  },
  {
   "cell_type": "code",
   "execution_count": 8,
   "metadata": {},
   "outputs": [],
   "source": [
    "df = df.query('model == model').reset_index(drop=True)\n",
    "df = df.query('gearbox == gearbox').reset_index(drop=True)\n",
    "df['repaired'] = df['repaired'].fillna('unknown')"
   ]
  },
  {
   "cell_type": "markdown",
   "metadata": {},
   "source": [
    "Пропуски в колонках \"vehicle_type\" и \"fuel_type\" будем заполнять с помощью KNN Imputer, предварительно трансформируя данные в этих колонках с помощью OrdinalEncoder. Для заполнения пропусков в этих колонках мы выберем только значимые для этих колонок фичи, пояснение:\n",
    "\n",
    "- \"vehicle_type\" и \"fuel_type\"- явно на тип авто и тип топлива являют такие хар-ки как \"registration_year\"(год регистрации), \"gearbox\"(коробка передач), \"power\"(количество л.с.), \"model\"(модель), \"brand\"(марка)."
   ]
  },
  {
   "cell_type": "markdown",
   "metadata": {},
   "source": [
    "Также следует обратить внимание на значения в колонке `\"fuel_type\"`: `gasoline` и `petrol` - это бензин. Выберем какое-то одно обозначение, чтобы не путать будущую модель:"
   ]
  },
  {
   "cell_type": "code",
   "execution_count": 9,
   "metadata": {},
   "outputs": [],
   "source": [
    "df['fuel_type'] = df['fuel_type'].map({'gasoline':'petrol',\n",
    "                                      'petrol':'petrol',\n",
    "                                      'lpg':'lpg',\n",
    "                                      'other':'other',\n",
    "                                      'hybrid':'hybrid',\n",
    "                                      'cng':'cng',\n",
    "                                      'electric':'electric'}, na_action='ignore')"
   ]
  },
  {
   "cell_type": "code",
   "execution_count": 10,
   "metadata": {},
   "outputs": [
    {
     "data": {
      "text/plain": [
       "array(['petrol', nan, 'lpg', 'other', 'hybrid', 'cng', 'electric'],\n",
       "      dtype=object)"
      ]
     },
     "execution_count": 10,
     "metadata": {},
     "output_type": "execute_result"
    }
   ],
   "source": [
    "# Проверим изменения\n",
    "df['fuel_type'].unique()"
   ]
  },
  {
   "cell_type": "markdown",
   "metadata": {},
   "source": [
    " "
   ]
  },
  {
   "cell_type": "markdown",
   "metadata": {},
   "source": [
    "Прежде чем использовать OrdinalEncoder удалим явно ненужные для построения модели столбцы: \n",
    "\n",
    "- \"date_crawled\" - дата скачивания анкеты.\n",
    "- \"date_created\" - дата создания анкеты.\n",
    "- \"last_seen\" - дата последней активности пользователя."
   ]
  },
  {
   "cell_type": "code",
   "execution_count": 11,
   "metadata": {},
   "outputs": [],
   "source": [
    "df = df.drop(columns=['date_crawled','date_created','last_seen'])"
   ]
  },
  {
   "cell_type": "markdown",
   "metadata": {},
   "source": [
    " "
   ]
  },
  {
   "cell_type": "markdown",
   "metadata": {},
   "source": [
    "Далее заполнение пропусков с помощью KNNImputer:"
   ]
  },
  {
   "cell_type": "code",
   "execution_count": 12,
   "metadata": {},
   "outputs": [],
   "source": [
    "# Если при выполнении ячейки вылетает ошибка, пожалуйста, перезапустите ядро и повторите снова\n",
    "# (предустановленная версия sklearn не предусматривает выполнение OrdinalEncoder на данных с Nan-значениями\n",
    "# поэтому sklearn был обновлен в ячейке выше)\n",
    "\n",
    "onehotencoder = OrdinalEncoder()\n",
    "df_for_na = df[[\"registration_year\", \"gearbox\", \"power\", \"model\", \"brand\",\"vehicle_type\",\"fuel_type\"]]\n",
    "df_one_hot_for_na = onehotencoder.fit_transform(\n",
    "    df_for_na[['gearbox','model','brand','fuel_type','vehicle_type']].values)\n",
    "\n",
    "        \n",
    "df_one_hot_for_na = pd.DataFrame(df_one_hot_for_na, columns=['gearbox','model','brand','fuel_type','vehicle_type'])"
   ]
  },
  {
   "cell_type": "code",
   "execution_count": 13,
   "metadata": {},
   "outputs": [
    {
     "data": {
      "text/html": [
       "<div>\n",
       "<style scoped>\n",
       "    .dataframe tbody tr th:only-of-type {\n",
       "        vertical-align: middle;\n",
       "    }\n",
       "\n",
       "    .dataframe tbody tr th {\n",
       "        vertical-align: top;\n",
       "    }\n",
       "\n",
       "    .dataframe thead th {\n",
       "        text-align: right;\n",
       "    }\n",
       "</style>\n",
       "<table border=\"1\" class=\"dataframe\">\n",
       "  <thead>\n",
       "    <tr style=\"text-align: right;\">\n",
       "      <th></th>\n",
       "      <th>registration_year</th>\n",
       "      <th>power</th>\n",
       "      <th>gearbox</th>\n",
       "      <th>model</th>\n",
       "      <th>brand</th>\n",
       "      <th>fuel_type</th>\n",
       "      <th>vehicle_type</th>\n",
       "    </tr>\n",
       "  </thead>\n",
       "  <tbody>\n",
       "    <tr>\n",
       "      <th>0</th>\n",
       "      <td>1993</td>\n",
       "      <td>0</td>\n",
       "      <td>1.0</td>\n",
       "      <td>116.0</td>\n",
       "      <td>37.0</td>\n",
       "      <td>5.0</td>\n",
       "      <td>NaN</td>\n",
       "    </tr>\n",
       "    <tr>\n",
       "      <th>1</th>\n",
       "      <td>2004</td>\n",
       "      <td>163</td>\n",
       "      <td>0.0</td>\n",
       "      <td>117.0</td>\n",
       "      <td>14.0</td>\n",
       "      <td>5.0</td>\n",
       "      <td>6.0</td>\n",
       "    </tr>\n",
       "    <tr>\n",
       "      <th>2</th>\n",
       "      <td>2001</td>\n",
       "      <td>75</td>\n",
       "      <td>1.0</td>\n",
       "      <td>116.0</td>\n",
       "      <td>37.0</td>\n",
       "      <td>5.0</td>\n",
       "      <td>5.0</td>\n",
       "    </tr>\n",
       "    <tr>\n",
       "      <th>3</th>\n",
       "      <td>2008</td>\n",
       "      <td>69</td>\n",
       "      <td>1.0</td>\n",
       "      <td>101.0</td>\n",
       "      <td>31.0</td>\n",
       "      <td>5.0</td>\n",
       "      <td>5.0</td>\n",
       "    </tr>\n",
       "    <tr>\n",
       "      <th>4</th>\n",
       "      <td>1995</td>\n",
       "      <td>102</td>\n",
       "      <td>1.0</td>\n",
       "      <td>11.0</td>\n",
       "      <td>2.0</td>\n",
       "      <td>5.0</td>\n",
       "      <td>4.0</td>\n",
       "    </tr>\n",
       "    <tr>\n",
       "      <th>...</th>\n",
       "      <td>...</td>\n",
       "      <td>...</td>\n",
       "      <td>...</td>\n",
       "      <td>...</td>\n",
       "      <td>...</td>\n",
       "      <td>...</td>\n",
       "      <td>...</td>\n",
       "    </tr>\n",
       "    <tr>\n",
       "      <th>318953</th>\n",
       "      <td>2000</td>\n",
       "      <td>0</td>\n",
       "      <td>1.0</td>\n",
       "      <td>249.0</td>\n",
       "      <td>24.0</td>\n",
       "      <td>5.0</td>\n",
       "      <td>0.0</td>\n",
       "    </tr>\n",
       "    <tr>\n",
       "      <th>318954</th>\n",
       "      <td>2005</td>\n",
       "      <td>0</td>\n",
       "      <td>1.0</td>\n",
       "      <td>78.0</td>\n",
       "      <td>22.0</td>\n",
       "      <td>5.0</td>\n",
       "      <td>NaN</td>\n",
       "    </tr>\n",
       "    <tr>\n",
       "      <th>318955</th>\n",
       "      <td>2000</td>\n",
       "      <td>101</td>\n",
       "      <td>0.0</td>\n",
       "      <td>106.0</td>\n",
       "      <td>32.0</td>\n",
       "      <td>5.0</td>\n",
       "      <td>1.0</td>\n",
       "    </tr>\n",
       "    <tr>\n",
       "      <th>318956</th>\n",
       "      <td>1996</td>\n",
       "      <td>102</td>\n",
       "      <td>1.0</td>\n",
       "      <td>224.0</td>\n",
       "      <td>37.0</td>\n",
       "      <td>5.0</td>\n",
       "      <td>0.0</td>\n",
       "    </tr>\n",
       "    <tr>\n",
       "      <th>318957</th>\n",
       "      <td>2002</td>\n",
       "      <td>100</td>\n",
       "      <td>1.0</td>\n",
       "      <td>116.0</td>\n",
       "      <td>37.0</td>\n",
       "      <td>5.0</td>\n",
       "      <td>7.0</td>\n",
       "    </tr>\n",
       "  </tbody>\n",
       "</table>\n",
       "<p>318958 rows × 7 columns</p>\n",
       "</div>"
      ],
      "text/plain": [
       "        registration_year  power  gearbox  model  brand  fuel_type   \n",
       "0                    1993      0      1.0  116.0   37.0        5.0  \\\n",
       "1                    2004    163      0.0  117.0   14.0        5.0   \n",
       "2                    2001     75      1.0  116.0   37.0        5.0   \n",
       "3                    2008     69      1.0  101.0   31.0        5.0   \n",
       "4                    1995    102      1.0   11.0    2.0        5.0   \n",
       "...                   ...    ...      ...    ...    ...        ...   \n",
       "318953               2000      0      1.0  249.0   24.0        5.0   \n",
       "318954               2005      0      1.0   78.0   22.0        5.0   \n",
       "318955               2000    101      0.0  106.0   32.0        5.0   \n",
       "318956               1996    102      1.0  224.0   37.0        5.0   \n",
       "318957               2002    100      1.0  116.0   37.0        5.0   \n",
       "\n",
       "        vehicle_type  \n",
       "0                NaN  \n",
       "1                6.0  \n",
       "2                5.0  \n",
       "3                5.0  \n",
       "4                4.0  \n",
       "...              ...  \n",
       "318953           0.0  \n",
       "318954           NaN  \n",
       "318955           1.0  \n",
       "318956           0.0  \n",
       "318957           7.0  \n",
       "\n",
       "[318958 rows x 7 columns]"
      ]
     },
     "execution_count": 13,
     "metadata": {},
     "output_type": "execute_result"
    }
   ],
   "source": [
    "# добавим новые столбцы в наши данные\n",
    "df_for_na = pd.concat([df_for_na.drop(columns=['gearbox','model','brand','fuel_type','vehicle_type']), df_one_hot_for_na], axis=1)\n",
    "df_for_na"
   ]
  },
  {
   "cell_type": "code",
   "execution_count": 14,
   "metadata": {},
   "outputs": [],
   "source": [
    "# Данная ячейка выполняется 18 минут: прошу прощения за ожидание, это KNN.\n",
    "\n",
    "# применяем импутер и перезаписываем в ту же таблицу\n",
    "imputer = KNNImputer(n_neighbors=3)\n",
    "df_for_na = pd.DataFrame(imputer.fit_transform(df_for_na), columns=df_for_na.columns)"
   ]
  },
  {
   "cell_type": "code",
   "execution_count": 15,
   "metadata": {},
   "outputs": [],
   "source": [
    "# округляем полученные значения и переводим все значения столбца в int\n",
    "df_for_na['fuel_type'] = df_for_na['fuel_type'].apply(lambda x: int(round(x)))\n",
    "df_for_na['vehicle_type'] = df_for_na['vehicle_type'].apply(lambda x: int(round(x)))"
   ]
  },
  {
   "cell_type": "code",
   "execution_count": 16,
   "metadata": {
    "scrolled": false
   },
   "outputs": [
    {
     "data": {
      "text/html": [
       "<div>\n",
       "<style scoped>\n",
       "    .dataframe tbody tr th:only-of-type {\n",
       "        vertical-align: middle;\n",
       "    }\n",
       "\n",
       "    .dataframe tbody tr th {\n",
       "        vertical-align: top;\n",
       "    }\n",
       "\n",
       "    .dataframe thead th {\n",
       "        text-align: right;\n",
       "    }\n",
       "</style>\n",
       "<table border=\"1\" class=\"dataframe\">\n",
       "  <thead>\n",
       "    <tr style=\"text-align: right;\">\n",
       "      <th></th>\n",
       "      <th>gearbox</th>\n",
       "      <th>model</th>\n",
       "      <th>brand</th>\n",
       "      <th>fuel_type</th>\n",
       "      <th>vehicle_type</th>\n",
       "    </tr>\n",
       "  </thead>\n",
       "  <tbody>\n",
       "    <tr>\n",
       "      <th>0</th>\n",
       "      <td>manual</td>\n",
       "      <td>golf</td>\n",
       "      <td>volkswagen</td>\n",
       "      <td>petrol</td>\n",
       "      <td>other</td>\n",
       "    </tr>\n",
       "    <tr>\n",
       "      <th>1</th>\n",
       "      <td>auto</td>\n",
       "      <td>grand</td>\n",
       "      <td>jeep</td>\n",
       "      <td>petrol</td>\n",
       "      <td>suv</td>\n",
       "    </tr>\n",
       "    <tr>\n",
       "      <th>2</th>\n",
       "      <td>manual</td>\n",
       "      <td>golf</td>\n",
       "      <td>volkswagen</td>\n",
       "      <td>petrol</td>\n",
       "      <td>small</td>\n",
       "    </tr>\n",
       "    <tr>\n",
       "      <th>3</th>\n",
       "      <td>manual</td>\n",
       "      <td>fabia</td>\n",
       "      <td>skoda</td>\n",
       "      <td>petrol</td>\n",
       "      <td>small</td>\n",
       "    </tr>\n",
       "    <tr>\n",
       "      <th>4</th>\n",
       "      <td>manual</td>\n",
       "      <td>3er</td>\n",
       "      <td>bmw</td>\n",
       "      <td>petrol</td>\n",
       "      <td>sedan</td>\n",
       "    </tr>\n",
       "    <tr>\n",
       "      <th>...</th>\n",
       "      <td>...</td>\n",
       "      <td>...</td>\n",
       "      <td>...</td>\n",
       "      <td>...</td>\n",
       "      <td>...</td>\n",
       "    </tr>\n",
       "    <tr>\n",
       "      <th>318953</th>\n",
       "      <td>manual</td>\n",
       "      <td>zafira</td>\n",
       "      <td>opel</td>\n",
       "      <td>petrol</td>\n",
       "      <td>bus</td>\n",
       "    </tr>\n",
       "    <tr>\n",
       "      <th>318954</th>\n",
       "      <td>manual</td>\n",
       "      <td>colt</td>\n",
       "      <td>mitsubishi</td>\n",
       "      <td>petrol</td>\n",
       "      <td>small</td>\n",
       "    </tr>\n",
       "    <tr>\n",
       "      <th>318955</th>\n",
       "      <td>auto</td>\n",
       "      <td>fortwo</td>\n",
       "      <td>smart</td>\n",
       "      <td>petrol</td>\n",
       "      <td>convertible</td>\n",
       "    </tr>\n",
       "    <tr>\n",
       "      <th>318956</th>\n",
       "      <td>manual</td>\n",
       "      <td>transporter</td>\n",
       "      <td>volkswagen</td>\n",
       "      <td>petrol</td>\n",
       "      <td>bus</td>\n",
       "    </tr>\n",
       "    <tr>\n",
       "      <th>318957</th>\n",
       "      <td>manual</td>\n",
       "      <td>golf</td>\n",
       "      <td>volkswagen</td>\n",
       "      <td>petrol</td>\n",
       "      <td>wagon</td>\n",
       "    </tr>\n",
       "  </tbody>\n",
       "</table>\n",
       "<p>318958 rows × 5 columns</p>\n",
       "</div>"
      ],
      "text/plain": [
       "       gearbox        model       brand fuel_type vehicle_type\n",
       "0       manual         golf  volkswagen    petrol        other\n",
       "1         auto        grand        jeep    petrol          suv\n",
       "2       manual         golf  volkswagen    petrol        small\n",
       "3       manual        fabia       skoda    petrol        small\n",
       "4       manual          3er         bmw    petrol        sedan\n",
       "...        ...          ...         ...       ...          ...\n",
       "318953  manual       zafira        opel    petrol          bus\n",
       "318954  manual         colt  mitsubishi    petrol        small\n",
       "318955    auto       fortwo       smart    petrol  convertible\n",
       "318956  manual  transporter  volkswagen    petrol          bus\n",
       "318957  manual         golf  volkswagen    petrol        wagon\n",
       "\n",
       "[318958 rows x 5 columns]"
      ]
     },
     "execution_count": 16,
     "metadata": {},
     "output_type": "execute_result"
    }
   ],
   "source": [
    "df_new = onehotencoder.inverse_transform(df_for_na[['gearbox','model','brand','fuel_type','vehicle_type']])\n",
    "df_new = pd.DataFrame(df_new, columns=['gearbox','model','brand','fuel_type','vehicle_type'])\n",
    "df_new"
   ]
  },
  {
   "cell_type": "markdown",
   "metadata": {},
   "source": [
    " "
   ]
  },
  {
   "cell_type": "markdown",
   "metadata": {},
   "source": [
    "Перезаписываем данные без пропусков в исходную таблицу:"
   ]
  },
  {
   "cell_type": "code",
   "execution_count": 17,
   "metadata": {},
   "outputs": [
    {
     "name": "stdout",
     "output_type": "stream",
     "text": [
      "<class 'pandas.core.frame.DataFrame'>\n",
      "RangeIndex: 318958 entries, 0 to 318957\n",
      "Data columns (total 13 columns):\n",
      " #   Column              Non-Null Count   Dtype \n",
      "---  ------              --------------   ----- \n",
      " 0   price               318958 non-null  int64 \n",
      " 1   vehicle_type        318958 non-null  object\n",
      " 2   registration_year   318958 non-null  int64 \n",
      " 3   gearbox             318958 non-null  object\n",
      " 4   power               318958 non-null  int64 \n",
      " 5   model               318958 non-null  object\n",
      " 6   kilometer           318958 non-null  int64 \n",
      " 7   registration_month  318958 non-null  int64 \n",
      " 8   fuel_type           318958 non-null  object\n",
      " 9   brand               318958 non-null  object\n",
      " 10  repaired            318958 non-null  object\n",
      " 11  number_of_pictures  318958 non-null  int64 \n",
      " 12  postal_code         318958 non-null  int64 \n",
      "dtypes: int64(7), object(6)\n",
      "memory usage: 31.6+ MB\n"
     ]
    }
   ],
   "source": [
    "df['vehicle_type'] = df_new['vehicle_type']\n",
    "df['fuel_type'] = df_new['fuel_type']\n",
    "df.info()"
   ]
  },
  {
   "cell_type": "markdown",
   "metadata": {},
   "source": [
    "С пропусками разобрались, далее уберем выбросы и перекодируем категориальные данные."
   ]
  },
  {
   "cell_type": "markdown",
   "metadata": {},
   "source": [
    " "
   ]
  },
  {
   "cell_type": "markdown",
   "metadata": {},
   "source": [
    "### Удаление аномальных значений"
   ]
  },
  {
   "cell_type": "markdown",
   "metadata": {},
   "source": [
    "7156 строк в исходных данных, где цена равна 0.\n",
    "\n",
    "Такое значение явно аномально, удалим его вручную."
   ]
  },
  {
   "cell_type": "code",
   "execution_count": 18,
   "metadata": {},
   "outputs": [
    {
     "data": {
      "text/html": [
       "<div>\n",
       "<style scoped>\n",
       "    .dataframe tbody tr th:only-of-type {\n",
       "        vertical-align: middle;\n",
       "    }\n",
       "\n",
       "    .dataframe tbody tr th {\n",
       "        vertical-align: top;\n",
       "    }\n",
       "\n",
       "    .dataframe thead th {\n",
       "        text-align: right;\n",
       "    }\n",
       "</style>\n",
       "<table border=\"1\" class=\"dataframe\">\n",
       "  <thead>\n",
       "    <tr style=\"text-align: right;\">\n",
       "      <th></th>\n",
       "      <th>price</th>\n",
       "      <th>vehicle_type</th>\n",
       "      <th>registration_year</th>\n",
       "      <th>gearbox</th>\n",
       "      <th>power</th>\n",
       "      <th>model</th>\n",
       "      <th>kilometer</th>\n",
       "      <th>registration_month</th>\n",
       "      <th>fuel_type</th>\n",
       "      <th>brand</th>\n",
       "      <th>repaired</th>\n",
       "      <th>number_of_pictures</th>\n",
       "      <th>postal_code</th>\n",
       "    </tr>\n",
       "  </thead>\n",
       "  <tbody>\n",
       "    <tr>\n",
       "      <th>6</th>\n",
       "      <td>0</td>\n",
       "      <td>sedan</td>\n",
       "      <td>1980</td>\n",
       "      <td>manual</td>\n",
       "      <td>50</td>\n",
       "      <td>other</td>\n",
       "      <td>40000</td>\n",
       "      <td>7</td>\n",
       "      <td>petrol</td>\n",
       "      <td>volkswagen</td>\n",
       "      <td>no</td>\n",
       "      <td>0</td>\n",
       "      <td>19348</td>\n",
       "    </tr>\n",
       "    <tr>\n",
       "      <th>99</th>\n",
       "      <td>0</td>\n",
       "      <td>coupe</td>\n",
       "      <td>2017</td>\n",
       "      <td>manual</td>\n",
       "      <td>0</td>\n",
       "      <td>golf</td>\n",
       "      <td>5000</td>\n",
       "      <td>12</td>\n",
       "      <td>petrol</td>\n",
       "      <td>volkswagen</td>\n",
       "      <td>unknown</td>\n",
       "      <td>0</td>\n",
       "      <td>21698</td>\n",
       "    </tr>\n",
       "    <tr>\n",
       "      <th>135</th>\n",
       "      <td>0</td>\n",
       "      <td>bus</td>\n",
       "      <td>2004</td>\n",
       "      <td>manual</td>\n",
       "      <td>101</td>\n",
       "      <td>meriva</td>\n",
       "      <td>150000</td>\n",
       "      <td>10</td>\n",
       "      <td>lpg</td>\n",
       "      <td>opel</td>\n",
       "      <td>yes</td>\n",
       "      <td>0</td>\n",
       "      <td>27432</td>\n",
       "    </tr>\n",
       "    <tr>\n",
       "      <th>207</th>\n",
       "      <td>0</td>\n",
       "      <td>wagon</td>\n",
       "      <td>2001</td>\n",
       "      <td>manual</td>\n",
       "      <td>115</td>\n",
       "      <td>mondeo</td>\n",
       "      <td>150000</td>\n",
       "      <td>0</td>\n",
       "      <td>petrol</td>\n",
       "      <td>ford</td>\n",
       "      <td>unknown</td>\n",
       "      <td>0</td>\n",
       "      <td>57627</td>\n",
       "    </tr>\n",
       "    <tr>\n",
       "      <th>414</th>\n",
       "      <td>0</td>\n",
       "      <td>sedan</td>\n",
       "      <td>2016</td>\n",
       "      <td>auto</td>\n",
       "      <td>197</td>\n",
       "      <td>3er</td>\n",
       "      <td>150000</td>\n",
       "      <td>12</td>\n",
       "      <td>petrol</td>\n",
       "      <td>bmw</td>\n",
       "      <td>no</td>\n",
       "      <td>0</td>\n",
       "      <td>99867</td>\n",
       "    </tr>\n",
       "    <tr>\n",
       "      <th>...</th>\n",
       "      <td>...</td>\n",
       "      <td>...</td>\n",
       "      <td>...</td>\n",
       "      <td>...</td>\n",
       "      <td>...</td>\n",
       "      <td>...</td>\n",
       "      <td>...</td>\n",
       "      <td>...</td>\n",
       "      <td>...</td>\n",
       "      <td>...</td>\n",
       "      <td>...</td>\n",
       "      <td>...</td>\n",
       "      <td>...</td>\n",
       "    </tr>\n",
       "    <tr>\n",
       "      <th>318809</th>\n",
       "      <td>0</td>\n",
       "      <td>small</td>\n",
       "      <td>2000</td>\n",
       "      <td>manual</td>\n",
       "      <td>65</td>\n",
       "      <td>corsa</td>\n",
       "      <td>150000</td>\n",
       "      <td>0</td>\n",
       "      <td>petrol</td>\n",
       "      <td>opel</td>\n",
       "      <td>yes</td>\n",
       "      <td>0</td>\n",
       "      <td>23758</td>\n",
       "    </tr>\n",
       "    <tr>\n",
       "      <th>318838</th>\n",
       "      <td>0</td>\n",
       "      <td>small</td>\n",
       "      <td>2002</td>\n",
       "      <td>manual</td>\n",
       "      <td>60</td>\n",
       "      <td>fiesta</td>\n",
       "      <td>150000</td>\n",
       "      <td>3</td>\n",
       "      <td>petrol</td>\n",
       "      <td>ford</td>\n",
       "      <td>unknown</td>\n",
       "      <td>0</td>\n",
       "      <td>33659</td>\n",
       "    </tr>\n",
       "    <tr>\n",
       "      <th>318847</th>\n",
       "      <td>0</td>\n",
       "      <td>small</td>\n",
       "      <td>1999</td>\n",
       "      <td>manual</td>\n",
       "      <td>53</td>\n",
       "      <td>swift</td>\n",
       "      <td>150000</td>\n",
       "      <td>3</td>\n",
       "      <td>petrol</td>\n",
       "      <td>suzuki</td>\n",
       "      <td>unknown</td>\n",
       "      <td>0</td>\n",
       "      <td>42329</td>\n",
       "    </tr>\n",
       "    <tr>\n",
       "      <th>318874</th>\n",
       "      <td>0</td>\n",
       "      <td>small</td>\n",
       "      <td>1999</td>\n",
       "      <td>manual</td>\n",
       "      <td>37</td>\n",
       "      <td>arosa</td>\n",
       "      <td>150000</td>\n",
       "      <td>7</td>\n",
       "      <td>petrol</td>\n",
       "      <td>seat</td>\n",
       "      <td>yes</td>\n",
       "      <td>0</td>\n",
       "      <td>22559</td>\n",
       "    </tr>\n",
       "    <tr>\n",
       "      <th>318954</th>\n",
       "      <td>0</td>\n",
       "      <td>small</td>\n",
       "      <td>2005</td>\n",
       "      <td>manual</td>\n",
       "      <td>0</td>\n",
       "      <td>colt</td>\n",
       "      <td>150000</td>\n",
       "      <td>7</td>\n",
       "      <td>petrol</td>\n",
       "      <td>mitsubishi</td>\n",
       "      <td>yes</td>\n",
       "      <td>0</td>\n",
       "      <td>2694</td>\n",
       "    </tr>\n",
       "  </tbody>\n",
       "</table>\n",
       "<p>7156 rows × 13 columns</p>\n",
       "</div>"
      ],
      "text/plain": [
       "        price vehicle_type  registration_year gearbox  power   model   \n",
       "6           0        sedan               1980  manual     50   other  \\\n",
       "99          0        coupe               2017  manual      0    golf   \n",
       "135         0          bus               2004  manual    101  meriva   \n",
       "207         0        wagon               2001  manual    115  mondeo   \n",
       "414         0        sedan               2016    auto    197     3er   \n",
       "...       ...          ...                ...     ...    ...     ...   \n",
       "318809      0        small               2000  manual     65   corsa   \n",
       "318838      0        small               2002  manual     60  fiesta   \n",
       "318847      0        small               1999  manual     53   swift   \n",
       "318874      0        small               1999  manual     37   arosa   \n",
       "318954      0        small               2005  manual      0    colt   \n",
       "\n",
       "        kilometer  registration_month fuel_type       brand repaired   \n",
       "6           40000                   7    petrol  volkswagen       no  \\\n",
       "99           5000                  12    petrol  volkswagen  unknown   \n",
       "135        150000                  10       lpg        opel      yes   \n",
       "207        150000                   0    petrol        ford  unknown   \n",
       "414        150000                  12    petrol         bmw       no   \n",
       "...           ...                 ...       ...         ...      ...   \n",
       "318809     150000                   0    petrol        opel      yes   \n",
       "318838     150000                   3    petrol        ford  unknown   \n",
       "318847     150000                   3    petrol      suzuki  unknown   \n",
       "318874     150000                   7    petrol        seat      yes   \n",
       "318954     150000                   7    petrol  mitsubishi      yes   \n",
       "\n",
       "        number_of_pictures  postal_code  \n",
       "6                        0        19348  \n",
       "99                       0        21698  \n",
       "135                      0        27432  \n",
       "207                      0        57627  \n",
       "414                      0        99867  \n",
       "...                    ...          ...  \n",
       "318809                   0        23758  \n",
       "318838                   0        33659  \n",
       "318847                   0        42329  \n",
       "318874                   0        22559  \n",
       "318954                   0         2694  \n",
       "\n",
       "[7156 rows x 13 columns]"
      ]
     },
     "execution_count": 18,
     "metadata": {},
     "output_type": "execute_result"
    }
   ],
   "source": [
    "df.query('price == 0')"
   ]
  },
  {
   "cell_type": "code",
   "execution_count": 19,
   "metadata": {},
   "outputs": [],
   "source": [
    "df = df.query('price >= 50')"
   ]
  },
  {
   "cell_type": "markdown",
   "metadata": {},
   "source": [
    " "
   ]
  },
  {
   "cell_type": "markdown",
   "metadata": {},
   "source": [
    "Остальные аномалии удалим на основании квартилей:"
   ]
  },
  {
   "cell_type": "code",
   "execution_count": 20,
   "metadata": {},
   "outputs": [
    {
     "data": {
      "text/plain": [
       "Index(['price', 'vehicle_type', 'registration_year', 'gearbox', 'power',\n",
       "       'model', 'kilometer', 'registration_month', 'fuel_type', 'brand',\n",
       "       'repaired', 'number_of_pictures', 'postal_code'],\n",
       "      dtype='object')"
      ]
     },
     "execution_count": 20,
     "metadata": {},
     "output_type": "execute_result"
    }
   ],
   "source": [
    "df.columns"
   ]
  },
  {
   "cell_type": "code",
   "execution_count": 21,
   "metadata": {
    "scrolled": false
   },
   "outputs": [
    {
     "data": {
      "image/png": "[encoded data removed]",
      "text/plain": [
       "<Figure size 1000x500 with 1 Axes>"
      ]
     },
     "metadata": {},
     "output_type": "display_data"
    },
    {
     "data": {
      "image/png": "[encoded data removed]",
      "text/plain": [
       "<Figure size 640x480 with 1 Axes>"
      ]
     },
     "metadata": {},
     "output_type": "display_data"
    }
   ],
   "source": [
    "# Строим box-plot, чтобы оценить выбросы в наших данных\n",
    "sns.set(style=\"darkgrid\")\n",
    "plt.figure(figsize=(10, 5))\n",
    "list_for_function = []\n",
    "for col in ['registration_year','power']:\n",
    "    if df[col].dtype == 'int' and df[col].nunique() > 2:\n",
    "        plt.xlim(0, (df[col].max() + df[col].max()*0.3))\n",
    "        list_for_function.append(col)\n",
    "        ax = sns.boxplot(x=df[col])\n",
    "        plt.title(f'Box-plot для колонки {col}')\n",
    "        plt.show()"
   ]
  },
  {
   "cell_type": "markdown",
   "metadata": {},
   "source": [
    "Удалим аномальные значения:"
   ]
  },
  {
   "cell_type": "code",
   "execution_count": 22,
   "metadata": {},
   "outputs": [],
   "source": [
    "for col in list_for_function:\n",
    "    q_25 = np.quantile(df[col], 0.25)\n",
    "    q_75 = np.quantile(df[col], 0.75)\n",
    "    col_x_max = q_75 + (q_75 - q_25) * 1.5\n",
    "    col_x_min = q_25 - (q_75 - q_25) * 1.5\n",
    "    \n",
    "    # Очищаем данные от выбросов\n",
    "    df = df.loc[(df[col]<col_x_max)&(df[col]>col_x_min)].reset_index(drop=True)"
   ]
  },
  {
   "cell_type": "markdown",
   "metadata": {},
   "source": [
    "### OrdinalEncoding для категориальных значений"
   ]
  },
  {
   "cell_type": "markdown",
   "metadata": {},
   "source": [
    "Выше мы применяли OrdinalEncoding для части наших значений только для того, чтобы восстановить пропущенные значения.\n",
    "\n",
    "Сейчас мы будем перекодировать наши категориальные значения для дальнейшего использования в модели линейной регрессии."
   ]
  },
  {
   "cell_type": "markdown",
   "metadata": {},
   "source": [
    "Далее разделим данные на подвыборки. В работе будем использовать кросс-валидацию, поэтому разделим только на трейн и тест."
   ]
  },
  {
   "cell_type": "code",
   "execution_count": 23,
   "metadata": {},
   "outputs": [],
   "source": [
    "# удалил единичный экземпляр (данная модель только одна во всей таблице)\n",
    "df = df.query('model != \"serie_1\"')"
   ]
  },
  {
   "cell_type": "code",
   "execution_count": 24,
   "metadata": {},
   "outputs": [
    {
     "data": {
      "text/plain": [
       "((239647, 12), (239647,), (59912, 12), (59912,))"
      ]
     },
     "execution_count": 24,
     "metadata": {},
     "output_type": "execute_result"
    }
   ],
   "source": [
    "features = df.drop('price', axis=1)\n",
    "target = df['price']\n",
    "\n",
    "features_train, features_test, target_train, target_test = train_test_split(\n",
    "    features, target, test_size=0.20, random_state=1)\n",
    "features_train = features_train.reset_index(drop=True)\n",
    "target_train = target_train.reset_index(drop=True)\n",
    "features_test = features_test.reset_index(drop=True)\n",
    "target_test = target_test.reset_index(drop=True)\n",
    "\n",
    "features_train.shape, target_train.shape, features_test.shape, target_test.shape"
   ]
  },
  {
   "cell_type": "code",
   "execution_count": 25,
   "metadata": {
    "scrolled": true
   },
   "outputs": [
    {
     "name": "stdout",
     "output_type": "stream",
     "text": [
      "<class 'pandas.core.frame.DataFrame'>\n",
      "RangeIndex: 239647 entries, 0 to 239646\n",
      "Data columns (total 12 columns):\n",
      " #   Column              Non-Null Count   Dtype  \n",
      "---  ------              --------------   -----  \n",
      " 0   vehicle_type        239647 non-null  float64\n",
      " 1   registration_year   239647 non-null  int64  \n",
      " 2   gearbox             239647 non-null  float64\n",
      " 3   power               239647 non-null  int64  \n",
      " 4   model               239647 non-null  float64\n",
      " 5   kilometer           239647 non-null  int64  \n",
      " 6   registration_month  239647 non-null  int64  \n",
      " 7   fuel_type           239647 non-null  float64\n",
      " 8   brand               239647 non-null  float64\n",
      " 9   repaired            239647 non-null  float64\n",
      " 10  number_of_pictures  239647 non-null  int64  \n",
      " 11  postal_code         239647 non-null  int64  \n",
      "dtypes: float64(6), int64(6)\n",
      "memory usage: 21.9 MB\n"
     ]
    }
   ],
   "source": [
    "ordinalencoder = OrdinalEncoder()\n",
    "df_new = ordinalencoder.fit_transform(features_train[['gearbox','model','brand','fuel_type','vehicle_type','repaired']].values)\n",
    "\n",
    "        \n",
    "df_new = pd.DataFrame(df_new, columns=['gearbox','model','brand','fuel_type','vehicle_type','repaired'])\n",
    "features_train[df_new.columns] = df_new\n",
    "features_train.info()"
   ]
  },
  {
   "cell_type": "markdown",
   "metadata": {},
   "source": [
    "По измененному типу данных (с `object` на `float64`) можно понять, что операция прошла успешно."
   ]
  },
  {
   "cell_type": "code",
   "execution_count": 26,
   "metadata": {},
   "outputs": [
    {
     "name": "stdout",
     "output_type": "stream",
     "text": [
      "<class 'pandas.core.frame.DataFrame'>\n",
      "RangeIndex: 59912 entries, 0 to 59911\n",
      "Data columns (total 12 columns):\n",
      " #   Column              Non-Null Count  Dtype  \n",
      "---  ------              --------------  -----  \n",
      " 0   vehicle_type        59912 non-null  float64\n",
      " 1   registration_year   59912 non-null  int64  \n",
      " 2   gearbox             59912 non-null  float64\n",
      " 3   power               59912 non-null  int64  \n",
      " 4   model               59912 non-null  float64\n",
      " 5   kilometer           59912 non-null  int64  \n",
      " 6   registration_month  59912 non-null  int64  \n",
      " 7   fuel_type           59912 non-null  float64\n",
      " 8   brand               59912 non-null  float64\n",
      " 9   repaired            59912 non-null  float64\n",
      " 10  number_of_pictures  59912 non-null  int64  \n",
      " 11  postal_code         59912 non-null  int64  \n",
      "dtypes: float64(6), int64(6)\n",
      "memory usage: 5.5 MB\n"
     ]
    }
   ],
   "source": [
    "df_new = ordinalencoder.transform(features_test[['gearbox','model','brand','fuel_type','vehicle_type','repaired']].values)\n",
    "\n",
    "        \n",
    "df_new = pd.DataFrame(df_new, columns=['gearbox','model','brand','fuel_type','vehicle_type','repaired'])\n",
    "features_test[df_new.columns] = df_new\n",
    "features_test.info()\n"
   ]
  },
  {
   "cell_type": "code",
   "execution_count": 27,
   "metadata": {},
   "outputs": [
    {
     "data": {
      "text/html": [
       "<div>\n",
       "<style scoped>\n",
       "    .dataframe tbody tr th:only-of-type {\n",
       "        vertical-align: middle;\n",
       "    }\n",
       "\n",
       "    .dataframe tbody tr th {\n",
       "        vertical-align: top;\n",
       "    }\n",
       "\n",
       "    .dataframe thead th {\n",
       "        text-align: right;\n",
       "    }\n",
       "</style>\n",
       "<table border=\"1\" class=\"dataframe\">\n",
       "  <thead>\n",
       "    <tr style=\"text-align: right;\">\n",
       "      <th></th>\n",
       "      <th>vehicle_type</th>\n",
       "      <th>registration_year</th>\n",
       "      <th>gearbox</th>\n",
       "      <th>power</th>\n",
       "      <th>model</th>\n",
       "      <th>kilometer</th>\n",
       "      <th>registration_month</th>\n",
       "      <th>fuel_type</th>\n",
       "      <th>brand</th>\n",
       "      <th>repaired</th>\n",
       "      <th>number_of_pictures</th>\n",
       "      <th>postal_code</th>\n",
       "    </tr>\n",
       "  </thead>\n",
       "  <tbody>\n",
       "    <tr>\n",
       "      <th>0</th>\n",
       "      <td>5.0</td>\n",
       "      <td>2001</td>\n",
       "      <td>1.0</td>\n",
       "      <td>75</td>\n",
       "      <td>75.0</td>\n",
       "      <td>100000</td>\n",
       "      <td>5</td>\n",
       "      <td>5.0</td>\n",
       "      <td>27.0</td>\n",
       "      <td>0.0</td>\n",
       "      <td>0</td>\n",
       "      <td>63739</td>\n",
       "    </tr>\n",
       "    <tr>\n",
       "      <th>1</th>\n",
       "      <td>4.0</td>\n",
       "      <td>2001</td>\n",
       "      <td>1.0</td>\n",
       "      <td>136</td>\n",
       "      <td>59.0</td>\n",
       "      <td>150000</td>\n",
       "      <td>10</td>\n",
       "      <td>5.0</td>\n",
       "      <td>20.0</td>\n",
       "      <td>0.0</td>\n",
       "      <td>0</td>\n",
       "      <td>45968</td>\n",
       "    </tr>\n",
       "    <tr>\n",
       "      <th>2</th>\n",
       "      <td>4.0</td>\n",
       "      <td>2004</td>\n",
       "      <td>0.0</td>\n",
       "      <td>211</td>\n",
       "      <td>166.0</td>\n",
       "      <td>150000</td>\n",
       "      <td>11</td>\n",
       "      <td>5.0</td>\n",
       "      <td>1.0</td>\n",
       "      <td>0.0</td>\n",
       "      <td>0</td>\n",
       "      <td>61279</td>\n",
       "    </tr>\n",
       "    <tr>\n",
       "      <th>3</th>\n",
       "      <td>7.0</td>\n",
       "      <td>2008</td>\n",
       "      <td>1.0</td>\n",
       "      <td>150</td>\n",
       "      <td>136.0</td>\n",
       "      <td>150000</td>\n",
       "      <td>2</td>\n",
       "      <td>5.0</td>\n",
       "      <td>27.0</td>\n",
       "      <td>0.0</td>\n",
       "      <td>0</td>\n",
       "      <td>58135</td>\n",
       "    </tr>\n",
       "    <tr>\n",
       "      <th>4</th>\n",
       "      <td>4.0</td>\n",
       "      <td>1999</td>\n",
       "      <td>1.0</td>\n",
       "      <td>101</td>\n",
       "      <td>170.0</td>\n",
       "      <td>150000</td>\n",
       "      <td>7</td>\n",
       "      <td>5.0</td>\n",
       "      <td>37.0</td>\n",
       "      <td>0.0</td>\n",
       "      <td>0</td>\n",
       "      <td>24146</td>\n",
       "    </tr>\n",
       "    <tr>\n",
       "      <th>...</th>\n",
       "      <td>...</td>\n",
       "      <td>...</td>\n",
       "      <td>...</td>\n",
       "      <td>...</td>\n",
       "      <td>...</td>\n",
       "      <td>...</td>\n",
       "      <td>...</td>\n",
       "      <td>...</td>\n",
       "      <td>...</td>\n",
       "      <td>...</td>\n",
       "      <td>...</td>\n",
       "      <td>...</td>\n",
       "    </tr>\n",
       "    <tr>\n",
       "      <th>239642</th>\n",
       "      <td>4.0</td>\n",
       "      <td>2008</td>\n",
       "      <td>0.0</td>\n",
       "      <td>160</td>\n",
       "      <td>116.0</td>\n",
       "      <td>100000</td>\n",
       "      <td>10</td>\n",
       "      <td>5.0</td>\n",
       "      <td>37.0</td>\n",
       "      <td>2.0</td>\n",
       "      <td>0</td>\n",
       "      <td>83122</td>\n",
       "    </tr>\n",
       "    <tr>\n",
       "      <th>239643</th>\n",
       "      <td>4.0</td>\n",
       "      <td>1997</td>\n",
       "      <td>1.0</td>\n",
       "      <td>136</td>\n",
       "      <td>164.0</td>\n",
       "      <td>125000</td>\n",
       "      <td>4</td>\n",
       "      <td>5.0</td>\n",
       "      <td>24.0</td>\n",
       "      <td>0.0</td>\n",
       "      <td>0</td>\n",
       "      <td>86753</td>\n",
       "    </tr>\n",
       "    <tr>\n",
       "      <th>239644</th>\n",
       "      <td>5.0</td>\n",
       "      <td>2000</td>\n",
       "      <td>1.0</td>\n",
       "      <td>60</td>\n",
       "      <td>173.0</td>\n",
       "      <td>150000</td>\n",
       "      <td>5</td>\n",
       "      <td>5.0</td>\n",
       "      <td>37.0</td>\n",
       "      <td>0.0</td>\n",
       "      <td>0</td>\n",
       "      <td>77866</td>\n",
       "    </tr>\n",
       "    <tr>\n",
       "      <th>239645</th>\n",
       "      <td>1.0</td>\n",
       "      <td>1997</td>\n",
       "      <td>1.0</td>\n",
       "      <td>90</td>\n",
       "      <td>116.0</td>\n",
       "      <td>150000</td>\n",
       "      <td>6</td>\n",
       "      <td>5.0</td>\n",
       "      <td>37.0</td>\n",
       "      <td>1.0</td>\n",
       "      <td>0</td>\n",
       "      <td>50389</td>\n",
       "    </tr>\n",
       "    <tr>\n",
       "      <th>239646</th>\n",
       "      <td>4.0</td>\n",
       "      <td>2017</td>\n",
       "      <td>1.0</td>\n",
       "      <td>0</td>\n",
       "      <td>120.0</td>\n",
       "      <td>150000</td>\n",
       "      <td>0</td>\n",
       "      <td>5.0</td>\n",
       "      <td>30.0</td>\n",
       "      <td>0.0</td>\n",
       "      <td>0</td>\n",
       "      <td>30900</td>\n",
       "    </tr>\n",
       "  </tbody>\n",
       "</table>\n",
       "<p>239647 rows × 12 columns</p>\n",
       "</div>"
      ],
      "text/plain": [
       "        vehicle_type  registration_year  gearbox  power  model  kilometer   \n",
       "0                5.0               2001      1.0     75   75.0     100000  \\\n",
       "1                4.0               2001      1.0    136   59.0     150000   \n",
       "2                4.0               2004      0.0    211  166.0     150000   \n",
       "3                7.0               2008      1.0    150  136.0     150000   \n",
       "4                4.0               1999      1.0    101  170.0     150000   \n",
       "...              ...                ...      ...    ...    ...        ...   \n",
       "239642           4.0               2008      0.0    160  116.0     100000   \n",
       "239643           4.0               1997      1.0    136  164.0     125000   \n",
       "239644           5.0               2000      1.0     60  173.0     150000   \n",
       "239645           1.0               1997      1.0     90  116.0     150000   \n",
       "239646           4.0               2017      1.0      0  120.0     150000   \n",
       "\n",
       "        registration_month  fuel_type  brand  repaired  number_of_pictures   \n",
       "0                        5        5.0   27.0       0.0                   0  \\\n",
       "1                       10        5.0   20.0       0.0                   0   \n",
       "2                       11        5.0    1.0       0.0                   0   \n",
       "3                        2        5.0   27.0       0.0                   0   \n",
       "4                        7        5.0   37.0       0.0                   0   \n",
       "...                    ...        ...    ...       ...                 ...   \n",
       "239642                  10        5.0   37.0       2.0                   0   \n",
       "239643                   4        5.0   24.0       0.0                   0   \n",
       "239644                   5        5.0   37.0       0.0                   0   \n",
       "239645                   6        5.0   37.0       1.0                   0   \n",
       "239646                   0        5.0   30.0       0.0                   0   \n",
       "\n",
       "        postal_code  \n",
       "0             63739  \n",
       "1             45968  \n",
       "2             61279  \n",
       "3             58135  \n",
       "4             24146  \n",
       "...             ...  \n",
       "239642        83122  \n",
       "239643        86753  \n",
       "239644        77866  \n",
       "239645        50389  \n",
       "239646        30900  \n",
       "\n",
       "[239647 rows x 12 columns]"
      ]
     },
     "execution_count": 27,
     "metadata": {},
     "output_type": "execute_result"
    }
   ],
   "source": [
    "features_train"
   ]
  },
  {
   "cell_type": "code",
   "execution_count": 28,
   "metadata": {},
   "outputs": [
    {
     "data": {
      "text/plain": [
       "((239647, 12), (239647,), (59912, 12), (59912,))"
      ]
     },
     "execution_count": 28,
     "metadata": {},
     "output_type": "execute_result"
    }
   ],
   "source": [
    "features_train.shape, target_train.shape, features_test.shape, target_test.shape"
   ]
  },
  {
   "cell_type": "markdown",
   "metadata": {},
   "source": [
    " "
   ]
  },
  {
   "cell_type": "markdown",
   "metadata": {},
   "source": [
    "Столбец `\"number_of_pictures\"` содержит только одно значение: `0`. Столбец неинформативен, удалим его:"
   ]
  },
  {
   "cell_type": "code",
   "execution_count": 29,
   "metadata": {},
   "outputs": [
    {
     "data": {
      "text/plain": [
       "number_of_pictures\n",
       "0    299559\n",
       "Name: count, dtype: int64"
      ]
     },
     "execution_count": 29,
     "metadata": {},
     "output_type": "execute_result"
    }
   ],
   "source": [
    "df['number_of_pictures'].value_counts()"
   ]
  },
  {
   "cell_type": "code",
   "execution_count": 30,
   "metadata": {},
   "outputs": [],
   "source": [
    "df = df.drop(columns=['number_of_pictures'])"
   ]
  },
  {
   "cell_type": "markdown",
   "metadata": {},
   "source": [
    " "
   ]
  },
  {
   "cell_type": "markdown",
   "metadata": {},
   "source": [
    " "
   ]
  },
  {
   "cell_type": "markdown",
   "metadata": {},
   "source": [
    "**Промежуточный вывод:**"
   ]
  },
  {
   "cell_type": "markdown",
   "metadata": {},
   "source": [
    "Данные подготовлены: категориальные значения перекодировали по технике OrdinalEncoding, от пропусков избавились (часть удалили, часть заполнили с помощью KNN), удалили выбросы, разделили данные на подвыборки."
   ]
  },
  {
   "cell_type": "markdown",
   "metadata": {},
   "source": [
    " "
   ]
  },
  {
   "cell_type": "markdown",
   "metadata": {},
   "source": [
    "## Обучение моделей"
   ]
  },
  {
   "cell_type": "markdown",
   "metadata": {},
   "source": [
    "Мною было выбраны 3 модели для последующего сравнения по критериям заказчика:\n",
    "\n",
    "- AdaBoost;\n",
    "\n",
    "\n",
    "- RandomForest;\n",
    "\n",
    "\n",
    "- LightGbm."
   ]
  },
  {
   "cell_type": "markdown",
   "metadata": {},
   "source": [
    "На этом шаге мы только обучим модели, ознакомимся в кратце с показателями качества на валидационных выборках.\n",
    "\n",
    "Анализ качества на тестовых выборках, а также оценку времени работы моделей будем проводить на следующем этапе."
   ]
  },
  {
   "cell_type": "markdown",
   "metadata": {},
   "source": [
    " "
   ]
  },
  {
   "cell_type": "markdown",
   "metadata": {},
   "source": [
    "### AdaBoost"
   ]
  },
  {
   "cell_type": "code",
   "execution_count": 31,
   "metadata": {},
   "outputs": [],
   "source": [
    "model_ada = AdaBoostRegressor(random_state=42)"
   ]
  },
  {
   "cell_type": "code",
   "execution_count": 32,
   "metadata": {},
   "outputs": [],
   "source": [
    "parametrs = {'learning_rate':[0.1],\n",
    "             'n_estimators':[50]}\n",
    "grid_search_model_ada = GridSearchCV(model_ada, parametrs, cv=3, n_jobs=-1, scoring='neg_mean_squared_error')"
   ]
  },
  {
   "cell_type": "code",
   "execution_count": 33,
   "metadata": {},
   "outputs": [
    {
     "data": {
      "text/plain": [
       "{'learning_rate': 0.1, 'n_estimators': 50}"
      ]
     },
     "execution_count": 33,
     "metadata": {},
     "output_type": "execute_result"
    }
   ],
   "source": [
    "grid_search_model_ada.fit(features_train, target_train)\n",
    "grid_search_model_ada.best_params_"
   ]
  },
  {
   "cell_type": "code",
   "execution_count": 34,
   "metadata": {},
   "outputs": [
    {
     "name": "stdout",
     "output_type": "stream",
     "text": [
      "Качество модели на трейн-выборке:\n",
      "2502.3414107888198\n"
     ]
    }
   ],
   "source": [
    "print(f'Качество модели на трейн-выборке:\\n{(grid_search_model_ada.best_score_ * -1)**0.5}')"
   ]
  },
  {
   "cell_type": "code",
   "execution_count": 35,
   "metadata": {},
   "outputs": [],
   "source": [
    "model_ada = AdaBoostRegressor(learning_rate=0.1, n_estimators=50, random_state=42)"
   ]
  },
  {
   "cell_type": "markdown",
   "metadata": {},
   "source": [
    " "
   ]
  },
  {
   "cell_type": "markdown",
   "metadata": {},
   "source": [
    "### Random Forest"
   ]
  },
  {
   "cell_type": "code",
   "execution_count": 36,
   "metadata": {},
   "outputs": [],
   "source": [
    "# Вариантов в параметрах было больше. Оставлены лучшие для ускорения выполнения ячейки\n",
    "\n",
    "model_forest = RandomForestRegressor(random_state=42)\n",
    "parametrs = {'n_estimators':[150], \n",
    "             'max_depth':[15]}\n",
    "grid_search_model_forest = GridSearchCV(model_forest, parametrs, cv=3, n_jobs=-1, scoring='neg_mean_squared_error')"
   ]
  },
  {
   "cell_type": "code",
   "execution_count": 37,
   "metadata": {},
   "outputs": [
    {
     "data": {
      "text/plain": [
       "{'max_depth': 15, 'n_estimators': 150}"
      ]
     },
     "execution_count": 37,
     "metadata": {},
     "output_type": "execute_result"
    }
   ],
   "source": [
    "grid_search_model_forest.fit(features_train, target_train)\n",
    "grid_search_model_forest.best_params_"
   ]
  },
  {
   "cell_type": "code",
   "execution_count": 38,
   "metadata": {},
   "outputs": [
    {
     "name": "stdout",
     "output_type": "stream",
     "text": [
      "Качество модели на трейн-выборке:\n",
      "1560.540120442597\n"
     ]
    }
   ],
   "source": [
    "print(f'Качество модели на трейн-выборке:\\n{(grid_search_model_forest.best_score_ * -1)**0.5}')"
   ]
  },
  {
   "cell_type": "code",
   "execution_count": 39,
   "metadata": {},
   "outputs": [],
   "source": [
    "model_forest = RandomForestRegressor(random_state=42, max_depth=15, n_estimators=150)"
   ]
  },
  {
   "cell_type": "code",
   "execution_count": 40,
   "metadata": {},
   "outputs": [
    {
     "data": {
      "text/html": [
       "<style>#sk-container-id-1 {color: black;background-color: white;}#sk-container-id-1 pre{padding: 0;}#sk-container-id-1 div.sk-toggleable {background-color: white;}#sk-container-id-1 label.sk-toggleable__label {cursor: pointer;display: block;width: 100%;margin-bottom: 0;padding: 0.3em;box-sizing: border-box;text-align: center;}#sk-container-id-1 label.sk-toggleable__label-arrow:before {content: \"▸\";float: left;margin-right: 0.25em;color: #696969;}#sk-container-id-1 label.sk-toggleable__label-arrow:hover:before {color: black;}#sk-container-id-1 div.sk-estimator:hover label.sk-toggleable__label-arrow:before {color: black;}#sk-container-id-1 div.sk-toggleable__content {max-height: 0;max-width: 0;overflow: hidden;text-align: left;background-color: #f0f8ff;}#sk-container-id-1 div.sk-toggleable__content pre {margin: 0.2em;color: black;border-radius: 0.25em;background-color: #f0f8ff;}#sk-container-id-1 input.sk-toggleable__control:checked~div.sk-toggleable__content {max-height: 200px;max-width: 100%;overflow: auto;}#sk-container-id-1 input.sk-toggleable__control:checked~label.sk-toggleable__label-arrow:before {content: \"▾\";}#sk-container-id-1 div.sk-estimator input.sk-toggleable__control:checked~label.sk-toggleable__label {background-color: #d4ebff;}#sk-container-id-1 div.sk-label input.sk-toggleable__control:checked~label.sk-toggleable__label {background-color: #d4ebff;}#sk-container-id-1 input.sk-hidden--visually {border: 0;clip: rect(1px 1px 1px 1px);clip: rect(1px, 1px, 1px, 1px);height: 1px;margin: -1px;overflow: hidden;padding: 0;position: absolute;width: 1px;}#sk-container-id-1 div.sk-estimator {font-family: monospace;background-color: #f0f8ff;border: 1px dotted black;border-radius: 0.25em;box-sizing: border-box;margin-bottom: 0.5em;}#sk-container-id-1 div.sk-estimator:hover {background-color: #d4ebff;}#sk-container-id-1 div.sk-parallel-item::after {content: \"\";width: 100%;border-bottom: 1px solid gray;flex-grow: 1;}#sk-container-id-1 div.sk-label:hover label.sk-toggleable__label {background-color: #d4ebff;}#sk-container-id-1 div.sk-serial::before {content: \"\";position: absolute;border-left: 1px solid gray;box-sizing: border-box;top: 0;bottom: 0;left: 50%;z-index: 0;}#sk-container-id-1 div.sk-serial {display: flex;flex-direction: column;align-items: center;background-color: white;padding-right: 0.2em;padding-left: 0.2em;position: relative;}#sk-container-id-1 div.sk-item {position: relative;z-index: 1;}#sk-container-id-1 div.sk-parallel {display: flex;align-items: stretch;justify-content: center;background-color: white;position: relative;}#sk-container-id-1 div.sk-item::before, #sk-container-id-1 div.sk-parallel-item::before {content: \"\";position: absolute;border-left: 1px solid gray;box-sizing: border-box;top: 0;bottom: 0;left: 50%;z-index: -1;}#sk-container-id-1 div.sk-parallel-item {display: flex;flex-direction: column;z-index: 1;position: relative;background-color: white;}#sk-container-id-1 div.sk-parallel-item:first-child::after {align-self: flex-end;width: 50%;}#sk-container-id-1 div.sk-parallel-item:last-child::after {align-self: flex-start;width: 50%;}#sk-container-id-1 div.sk-parallel-item:only-child::after {width: 0;}#sk-container-id-1 div.sk-dashed-wrapped {border: 1px dashed gray;margin: 0 0.4em 0.5em 0.4em;box-sizing: border-box;padding-bottom: 0.4em;background-color: white;}#sk-container-id-1 div.sk-label label {font-family: monospace;font-weight: bold;display: inline-block;line-height: 1.2em;}#sk-container-id-1 div.sk-label-container {text-align: center;}#sk-container-id-1 div.sk-container {/* jupyter's `normalize.less` sets `[hidden] { display: none; }` but bootstrap.min.css set `[hidden] { display: none !important; }` so we also need the `!important` here to be able to override the default hidden behavior on the sphinx rendered scikit-learn.org. See: https://github.com/scikit-learn/scikit-learn/issues/21755 */display: inline-block !important;position: relative;}#sk-container-id-1 div.sk-text-repr-fallback {display: none;}</style><div id=\"sk-container-id-1\" class=\"sk-top-container\"><div class=\"sk-text-repr-fallback\"><pre>RandomForestRegressor(max_depth=15, n_estimators=150, random_state=42)</pre><b>In a Jupyter environment, please rerun this cell to show the HTML representation or trust the notebook. <br />On GitHub, the HTML representation is unable to render, please try loading this page with nbviewer.org.</b></div><div class=\"sk-container\" hidden><div class=\"sk-item\"><div class=\"sk-estimator sk-toggleable\"><input class=\"sk-toggleable__control sk-hidden--visually\" id=\"sk-estimator-id-1\" type=\"checkbox\" checked><label for=\"sk-estimator-id-1\" class=\"sk-toggleable__label sk-toggleable__label-arrow\">RandomForestRegressor</label><div class=\"sk-toggleable__content\"><pre>RandomForestRegressor(max_depth=15, n_estimators=150, random_state=42)</pre></div></div></div></div></div>"
      ],
      "text/plain": [
       "RandomForestRegressor(max_depth=15, n_estimators=150, random_state=42)"
      ]
     },
     "execution_count": 40,
     "metadata": {},
     "output_type": "execute_result"
    }
   ],
   "source": [
    "model_forest.fit(features_train, target_train)"
   ]
  },
  {
   "cell_type": "markdown",
   "metadata": {},
   "source": [
    "Здесь оценим важность наших признаков с помощью feature_importances_:"
   ]
  },
  {
   "cell_type": "code",
   "execution_count": 60,
   "metadata": {},
   "outputs": [
    {
     "data": {
      "image/png": "[encoded data removed]",
      "text/plain": [
       "<Figure size 800x800 with 1 Axes>"
      ]
     },
     "metadata": {},
     "output_type": "display_data"
    }
   ],
   "source": [
    "feature_importances = model_forest.feature_importances_\n",
    "feature_importances_df = pd.DataFrame({'feature': list(features_train.columns),\n",
    "                                      'feature_importances':feature_importances})\n",
    "feature_importances_df = feature_importances_df.sort_values('feature_importances', ascending=False)\n",
    "plt.figure(figsize=(8, 8))\n",
    "plt.title('Важность признаков для модели RandomForest')\n",
    "sns.barplot(x=feature_importances_df.feature_importances, y=feature_importances_df.feature);"
   ]
  },
  {
   "cell_type": "markdown",
   "metadata": {},
   "source": [
    "По данному графику можно сделать вывод, что нет самыми важными признаками при построении модели являются год регистрации, количество л.с. и пробег (хоть пробег и намного ниже по важности).\n",
    "\n",
    "Тип топлива оказался совсем не значимой фичей для модели."
   ]
  },
  {
   "cell_type": "markdown",
   "metadata": {},
   "source": [
    " "
   ]
  },
  {
   "cell_type": "markdown",
   "metadata": {},
   "source": [
    "### LightGBM"
   ]
  },
  {
   "cell_type": "markdown",
   "metadata": {},
   "source": [
    "Выставим гиперпараметры. Выделим из трейн выборки часть на валидационную:"
   ]
  },
  {
   "cell_type": "code",
   "execution_count": 42,
   "metadata": {},
   "outputs": [],
   "source": [
    "features_train_lgbm, features_valid_lgbm, target_train_lgbm, target_valid_lgbm = train_test_split(\n",
    "    features_train, target_train, test_size=0.25, random_state=42)"
   ]
  },
  {
   "cell_type": "code",
   "execution_count": 43,
   "metadata": {},
   "outputs": [],
   "source": [
    "model_lgbm = LGBMRegressor(boosting_type='gbdt', num_leaves=63,\n",
    "                                    learning_rate=0.01, subsample=0.5, subsample_freq=20, \n",
    "                                    random_state=42, n_jobs=-1,\n",
    "                                   num_boost_round=2000, early_stopping_rounds=50)"
   ]
  },
  {
   "cell_type": "code",
   "execution_count": 44,
   "metadata": {
    "scrolled": true
   },
   "outputs": [
    {
     "name": "stdout",
     "output_type": "stream",
     "text": [
      "[LightGBM] [Warning] early_stopping_round is set=50, early_stopping_rounds=50 will be ignored. Current value: early_stopping_round=50\n",
      "[LightGBM] [Warning] num_iterations is set=2000, num_boost_round=2000 will be ignored. Current value: num_iterations=2000\n",
      "[1]\tvalid_0's rmse: 4354.86\tvalid_0's l2: 1.89648e+07\n",
      "[2]\tvalid_0's rmse: 4321.66\tvalid_0's l2: 1.86767e+07\n",
      "[3]\tvalid_0's rmse: 4288.86\tvalid_0's l2: 1.83944e+07\n",
      "[4]\tvalid_0's rmse: 4256.45\tvalid_0's l2: 1.81174e+07\n",
      "[5]\tvalid_0's rmse: 4224.5\tvalid_0's l2: 1.78464e+07\n",
      "[6]\tvalid_0's rmse: 4192.89\tvalid_0's l2: 1.75803e+07\n",
      "[7]\tvalid_0's rmse: 4161.72\tvalid_0's l2: 1.73199e+07\n",
      "[8]\tvalid_0's rmse: 4130.82\tvalid_0's l2: 1.70637e+07\n",
      "[9]\tvalid_0's rmse: 4100.42\tvalid_0's l2: 1.68134e+07\n",
      "[10]\tvalid_0's rmse: 4070.42\tvalid_0's l2: 1.65683e+07\n",
      "[11]\tvalid_0's rmse: 4040.64\tvalid_0's l2: 1.63268e+07\n",
      "[12]\tvalid_0's rmse: 4011.32\tvalid_0's l2: 1.60907e+07\n",
      "[13]\tvalid_0's rmse: 3982.46\tvalid_0's l2: 1.586e+07\n",
      "[14]\tvalid_0's rmse: 3953.8\tvalid_0's l2: 1.56325e+07\n",
      "[15]\tvalid_0's rmse: 3925.57\tvalid_0's l2: 1.54101e+07\n",
      "[16]\tvalid_0's rmse: 3897.76\tvalid_0's l2: 1.51926e+07\n",
      "[17]\tvalid_0's rmse: 3870.13\tvalid_0's l2: 1.49779e+07\n",
      "[18]\tvalid_0's rmse: 3842.99\tvalid_0's l2: 1.47686e+07\n",
      "[19]\tvalid_0's rmse: 3816.13\tvalid_0's l2: 1.45629e+07\n",
      "[20]\tvalid_0's rmse: 3789.49\tvalid_0's l2: 1.43603e+07\n",
      "[21]\tvalid_0's rmse: 3763.15\tvalid_0's l2: 1.41613e+07\n",
      "[22]\tvalid_0's rmse: 3737.17\tvalid_0's l2: 1.39664e+07\n",
      "[23]\tvalid_0's rmse: 3711.52\tvalid_0's l2: 1.37754e+07\n",
      "[24]\tvalid_0's rmse: 3686.25\tvalid_0's l2: 1.35884e+07\n",
      "[25]\tvalid_0's rmse: 3661.19\tvalid_0's l2: 1.34043e+07\n",
      "[26]\tvalid_0's rmse: 3636.57\tvalid_0's l2: 1.32246e+07\n",
      "[27]\tvalid_0's rmse: 3612.26\tvalid_0's l2: 1.30484e+07\n",
      "[28]\tvalid_0's rmse: 3588.17\tvalid_0's l2: 1.2875e+07\n",
      "[29]\tvalid_0's rmse: 3564.39\tvalid_0's l2: 1.27049e+07\n",
      "[30]\tvalid_0's rmse: 3540.86\tvalid_0's l2: 1.25377e+07\n",
      "[31]\tvalid_0's rmse: 3517.71\tvalid_0's l2: 1.23743e+07\n",
      "[32]\tvalid_0's rmse: 3494.82\tvalid_0's l2: 1.22137e+07\n",
      "[33]\tvalid_0's rmse: 3472.22\tvalid_0's l2: 1.20563e+07\n",
      "[34]\tvalid_0's rmse: 3449.96\tvalid_0's l2: 1.19022e+07\n",
      "[35]\tvalid_0's rmse: 3427.92\tvalid_0's l2: 1.17507e+07\n",
      "[36]\tvalid_0's rmse: 3406.18\tvalid_0's l2: 1.1602e+07\n",
      "[37]\tvalid_0's rmse: 3384.68\tvalid_0's l2: 1.14561e+07\n",
      "[38]\tvalid_0's rmse: 3363.53\tvalid_0's l2: 1.13134e+07\n",
      "[39]\tvalid_0's rmse: 3342.65\tvalid_0's l2: 1.11733e+07\n",
      "[40]\tvalid_0's rmse: 3322.17\tvalid_0's l2: 1.10368e+07\n",
      "[41]\tvalid_0's rmse: 3301.53\tvalid_0's l2: 1.09001e+07\n",
      "[42]\tvalid_0's rmse: 3281.2\tvalid_0's l2: 1.07663e+07\n",
      "[43]\tvalid_0's rmse: 3261.13\tvalid_0's l2: 1.0635e+07\n",
      "[44]\tvalid_0's rmse: 3241.35\tvalid_0's l2: 1.05063e+07\n",
      "[45]\tvalid_0's rmse: 3221.98\tvalid_0's l2: 1.03812e+07\n",
      "[46]\tvalid_0's rmse: 3202.77\tvalid_0's l2: 1.02577e+07\n",
      "[47]\tvalid_0's rmse: 3183.94\tvalid_0's l2: 1.01375e+07\n",
      "[48]\tvalid_0's rmse: 3165.35\tvalid_0's l2: 1.00194e+07\n",
      "[49]\tvalid_0's rmse: 3146.83\tvalid_0's l2: 9.90254e+06\n",
      "[50]\tvalid_0's rmse: 3128.7\tvalid_0's l2: 9.78874e+06\n",
      "[51]\tvalid_0's rmse: 3110.66\tvalid_0's l2: 9.67622e+06\n",
      "[52]\tvalid_0's rmse: 3092.94\tvalid_0's l2: 9.56629e+06\n",
      "[53]\tvalid_0's rmse: 3075.45\tvalid_0's l2: 9.45837e+06\n",
      "[54]\tvalid_0's rmse: 3058.16\tvalid_0's l2: 9.35235e+06\n",
      "[55]\tvalid_0's rmse: 3040.87\tvalid_0's l2: 9.24687e+06\n",
      "[56]\tvalid_0's rmse: 3024.15\tvalid_0's l2: 9.14551e+06\n",
      "[57]\tvalid_0's rmse: 3007.32\tvalid_0's l2: 9.04396e+06\n",
      "[58]\tvalid_0's rmse: 2991.04\tvalid_0's l2: 8.94632e+06\n",
      "[59]\tvalid_0's rmse: 2974.78\tvalid_0's l2: 8.84929e+06\n",
      "[60]\tvalid_0's rmse: 2958.77\tvalid_0's l2: 8.75435e+06\n",
      "[61]\tvalid_0's rmse: 2943.07\tvalid_0's l2: 8.66165e+06\n",
      "[62]\tvalid_0's rmse: 2927.56\tvalid_0's l2: 8.57062e+06\n",
      "[63]\tvalid_0's rmse: 2912.32\tvalid_0's l2: 8.48162e+06\n",
      "[64]\tvalid_0's rmse: 2897.31\tvalid_0's l2: 8.39439e+06\n",
      "[65]\tvalid_0's rmse: 2882.52\tvalid_0's l2: 8.30893e+06\n",
      "[66]\tvalid_0's rmse: 2868\tvalid_0's l2: 8.22541e+06\n",
      "[67]\tvalid_0's rmse: 2853.54\tvalid_0's l2: 8.1427e+06\n",
      "[68]\tvalid_0's rmse: 2839.31\tvalid_0's l2: 8.0617e+06\n",
      "[69]\tvalid_0's rmse: 2825.35\tvalid_0's l2: 7.9826e+06\n",
      "[70]\tvalid_0's rmse: 2811.46\tvalid_0's l2: 7.90432e+06\n",
      "[71]\tvalid_0's rmse: 2797.84\tvalid_0's l2: 7.8279e+06\n",
      "[72]\tvalid_0's rmse: 2784.39\tvalid_0's l2: 7.75285e+06\n",
      "[73]\tvalid_0's rmse: 2771.14\tvalid_0's l2: 7.67923e+06\n",
      "[74]\tvalid_0's rmse: 2758.06\tvalid_0's l2: 7.60689e+06\n",
      "[75]\tvalid_0's rmse: 2745.07\tvalid_0's l2: 7.53543e+06\n",
      "[76]\tvalid_0's rmse: 2732.01\tvalid_0's l2: 7.46386e+06\n",
      "[77]\tvalid_0's rmse: 2719.27\tvalid_0's l2: 7.39444e+06\n",
      "[78]\tvalid_0's rmse: 2706.87\tvalid_0's l2: 7.32716e+06\n",
      "[79]\tvalid_0's rmse: 2694.63\tvalid_0's l2: 7.26105e+06\n",
      "[80]\tvalid_0's rmse: 2682.17\tvalid_0's l2: 7.19405e+06\n",
      "[81]\tvalid_0's rmse: 2669.8\tvalid_0's l2: 7.12783e+06\n",
      "[82]\tvalid_0's rmse: 2657.56\tvalid_0's l2: 7.06263e+06\n",
      "[83]\tvalid_0's rmse: 2645.57\tvalid_0's l2: 6.99902e+06\n",
      "[84]\tvalid_0's rmse: 2633.81\tvalid_0's l2: 6.93693e+06\n",
      "[85]\tvalid_0's rmse: 2622.12\tvalid_0's l2: 6.87549e+06\n",
      "[86]\tvalid_0's rmse: 2610.66\tvalid_0's l2: 6.81556e+06\n",
      "[87]\tvalid_0's rmse: 2599.39\tvalid_0's l2: 6.75683e+06\n",
      "[88]\tvalid_0's rmse: 2588.23\tvalid_0's l2: 6.69893e+06\n",
      "[89]\tvalid_0's rmse: 2577.33\tvalid_0's l2: 6.64265e+06\n",
      "[90]\tvalid_0's rmse: 2566.5\tvalid_0's l2: 6.58692e+06\n",
      "[91]\tvalid_0's rmse: 2555.86\tvalid_0's l2: 6.53241e+06\n",
      "[92]\tvalid_0's rmse: 2545.26\tvalid_0's l2: 6.47836e+06\n",
      "[93]\tvalid_0's rmse: 2534.9\tvalid_0's l2: 6.42572e+06\n",
      "[94]\tvalid_0's rmse: 2524.53\tvalid_0's l2: 6.37327e+06\n",
      "[95]\tvalid_0's rmse: 2514.4\tvalid_0's l2: 6.32222e+06\n",
      "[96]\tvalid_0's rmse: 2504.41\tvalid_0's l2: 6.27209e+06\n",
      "[97]\tvalid_0's rmse: 2494.69\tvalid_0's l2: 6.2235e+06\n",
      "[98]\tvalid_0's rmse: 2484.89\tvalid_0's l2: 6.1747e+06\n",
      "[99]\tvalid_0's rmse: 2475.48\tvalid_0's l2: 6.128e+06\n",
      "[100]\tvalid_0's rmse: 2466.04\tvalid_0's l2: 6.08137e+06\n",
      "[101]\tvalid_0's rmse: 2456.38\tvalid_0's l2: 6.03382e+06\n",
      "[102]\tvalid_0's rmse: 2446.93\tvalid_0's l2: 5.98747e+06\n",
      "[103]\tvalid_0's rmse: 2437.51\tvalid_0's l2: 5.94148e+06\n",
      "[104]\tvalid_0's rmse: 2428.26\tvalid_0's l2: 5.89643e+06\n",
      "[105]\tvalid_0's rmse: 2419.26\tvalid_0's l2: 5.85281e+06\n",
      "[106]\tvalid_0's rmse: 2410.35\tvalid_0's l2: 5.80976e+06\n",
      "[107]\tvalid_0's rmse: 2401.51\tvalid_0's l2: 5.76727e+06\n",
      "[108]\tvalid_0's rmse: 2392.86\tvalid_0's l2: 5.72577e+06\n",
      "[109]\tvalid_0's rmse: 2384.4\tvalid_0's l2: 5.68534e+06\n",
      "[110]\tvalid_0's rmse: 2375.99\tvalid_0's l2: 5.64534e+06\n",
      "[111]\tvalid_0's rmse: 2367.7\tvalid_0's l2: 5.606e+06\n",
      "[112]\tvalid_0's rmse: 2359.61\tvalid_0's l2: 5.56777e+06\n",
      "[113]\tvalid_0's rmse: 2351.64\tvalid_0's l2: 5.53023e+06\n",
      "[114]\tvalid_0's rmse: 2343.61\tvalid_0's l2: 5.4925e+06\n",
      "[115]\tvalid_0's rmse: 2335.91\tvalid_0's l2: 5.45647e+06\n",
      "[116]\tvalid_0's rmse: 2328.04\tvalid_0's l2: 5.41977e+06\n",
      "[117]\tvalid_0's rmse: 2320.29\tvalid_0's l2: 5.38374e+06\n",
      "[118]\tvalid_0's rmse: 2312.84\tvalid_0's l2: 5.34922e+06\n",
      "[119]\tvalid_0's rmse: 2305.35\tvalid_0's l2: 5.31464e+06\n",
      "[120]\tvalid_0's rmse: 2298.02\tvalid_0's l2: 5.2809e+06\n",
      "[121]\tvalid_0's rmse: 2291\tvalid_0's l2: 5.24868e+06\n",
      "[122]\tvalid_0's rmse: 2284.1\tvalid_0's l2: 5.21709e+06\n",
      "[123]\tvalid_0's rmse: 2277.22\tvalid_0's l2: 5.18572e+06\n",
      "[124]\tvalid_0's rmse: 2270.54\tvalid_0's l2: 5.15536e+06\n",
      "[125]\tvalid_0's rmse: 2263.78\tvalid_0's l2: 5.12469e+06\n",
      "[126]\tvalid_0's rmse: 2257.09\tvalid_0's l2: 5.09444e+06\n",
      "[127]\tvalid_0's rmse: 2250.69\tvalid_0's l2: 5.06561e+06\n",
      "[128]\tvalid_0's rmse: 2244.12\tvalid_0's l2: 5.03605e+06\n",
      "[129]\tvalid_0's rmse: 2237.75\tvalid_0's l2: 5.00752e+06\n",
      "[130]\tvalid_0's rmse: 2231.27\tvalid_0's l2: 4.97858e+06\n",
      "[131]\tvalid_0's rmse: 2224.99\tvalid_0's l2: 4.9506e+06\n",
      "[132]\tvalid_0's rmse: 2218.94\tvalid_0's l2: 4.92371e+06\n",
      "[133]\tvalid_0's rmse: 2212.74\tvalid_0's l2: 4.8962e+06\n",
      "[134]\tvalid_0's rmse: 2206.6\tvalid_0's l2: 4.86909e+06\n",
      "[135]\tvalid_0's rmse: 2200.71\tvalid_0's l2: 4.84314e+06\n",
      "[136]\tvalid_0's rmse: 2194.57\tvalid_0's l2: 4.81612e+06\n",
      "[137]\tvalid_0's rmse: 2188.74\tvalid_0's l2: 4.79057e+06\n",
      "[138]\tvalid_0's rmse: 2183.03\tvalid_0's l2: 4.76562e+06\n",
      "[139]\tvalid_0's rmse: 2177.14\tvalid_0's l2: 4.73992e+06\n",
      "[140]\tvalid_0's rmse: 2171.7\tvalid_0's l2: 4.71627e+06\n",
      "[141]\tvalid_0's rmse: 2165.92\tvalid_0's l2: 4.69121e+06\n",
      "[142]\tvalid_0's rmse: 2160.28\tvalid_0's l2: 4.6668e+06\n",
      "[143]\tvalid_0's rmse: 2154.69\tvalid_0's l2: 4.64267e+06\n",
      "[144]\tvalid_0's rmse: 2149.22\tvalid_0's l2: 4.61914e+06\n",
      "[145]\tvalid_0's rmse: 2143.84\tvalid_0's l2: 4.59605e+06\n"
     ]
    },
    {
     "name": "stdout",
     "output_type": "stream",
     "text": [
      "[146]\tvalid_0's rmse: 2138.41\tvalid_0's l2: 4.57278e+06\n",
      "[147]\tvalid_0's rmse: 2133.09\tvalid_0's l2: 4.55006e+06\n",
      "[148]\tvalid_0's rmse: 2127.92\tvalid_0's l2: 4.52803e+06\n",
      "[149]\tvalid_0's rmse: 2122.86\tvalid_0's l2: 4.50655e+06\n",
      "[150]\tvalid_0's rmse: 2117.88\tvalid_0's l2: 4.48541e+06\n",
      "[151]\tvalid_0's rmse: 2112.62\tvalid_0's l2: 4.46316e+06\n",
      "[152]\tvalid_0's rmse: 2107.73\tvalid_0's l2: 4.44254e+06\n",
      "[153]\tvalid_0's rmse: 2102.59\tvalid_0's l2: 4.42088e+06\n",
      "[154]\tvalid_0's rmse: 2097.95\tvalid_0's l2: 4.40139e+06\n",
      "[155]\tvalid_0's rmse: 2092.93\tvalid_0's l2: 4.38037e+06\n",
      "[156]\tvalid_0's rmse: 2087.92\tvalid_0's l2: 4.3594e+06\n",
      "[157]\tvalid_0's rmse: 2083.41\tvalid_0's l2: 4.34062e+06\n",
      "[158]\tvalid_0's rmse: 2078.63\tvalid_0's l2: 4.32069e+06\n",
      "[159]\tvalid_0's rmse: 2074.26\tvalid_0's l2: 4.30254e+06\n",
      "[160]\tvalid_0's rmse: 2069.74\tvalid_0's l2: 4.28383e+06\n",
      "[161]\tvalid_0's rmse: 2065.29\tvalid_0's l2: 4.26541e+06\n",
      "[162]\tvalid_0's rmse: 2060.88\tvalid_0's l2: 4.24725e+06\n",
      "[163]\tvalid_0's rmse: 2056.51\tvalid_0's l2: 4.22925e+06\n",
      "[164]\tvalid_0's rmse: 2052.49\tvalid_0's l2: 4.21271e+06\n",
      "[165]\tvalid_0's rmse: 2048.19\tvalid_0's l2: 4.19508e+06\n",
      "[166]\tvalid_0's rmse: 2043.94\tvalid_0's l2: 4.17767e+06\n",
      "[167]\tvalid_0's rmse: 2039.64\tvalid_0's l2: 4.16015e+06\n",
      "[168]\tvalid_0's rmse: 2035.7\tvalid_0's l2: 4.14409e+06\n",
      "[169]\tvalid_0's rmse: 2031.43\tvalid_0's l2: 4.1267e+06\n",
      "[170]\tvalid_0's rmse: 2027.41\tvalid_0's l2: 4.11039e+06\n",
      "[171]\tvalid_0's rmse: 2023.67\tvalid_0's l2: 4.09522e+06\n",
      "[172]\tvalid_0's rmse: 2019.61\tvalid_0's l2: 4.07884e+06\n",
      "[173]\tvalid_0's rmse: 2015.69\tvalid_0's l2: 4.06301e+06\n",
      "[174]\tvalid_0's rmse: 2012.02\tvalid_0's l2: 4.04823e+06\n",
      "[175]\tvalid_0's rmse: 2008.2\tvalid_0's l2: 4.03288e+06\n",
      "[176]\tvalid_0's rmse: 2004.41\tvalid_0's l2: 4.01764e+06\n",
      "[177]\tvalid_0's rmse: 2000.85\tvalid_0's l2: 4.00339e+06\n",
      "[178]\tvalid_0's rmse: 1997.15\tvalid_0's l2: 3.98861e+06\n",
      "[179]\tvalid_0's rmse: 1993.51\tvalid_0's l2: 3.97409e+06\n",
      "[180]\tvalid_0's rmse: 1990.13\tvalid_0's l2: 3.9606e+06\n",
      "[181]\tvalid_0's rmse: 1986.61\tvalid_0's l2: 3.94663e+06\n",
      "[182]\tvalid_0's rmse: 1983.18\tvalid_0's l2: 3.93299e+06\n",
      "[183]\tvalid_0's rmse: 1979.8\tvalid_0's l2: 3.91961e+06\n",
      "[184]\tvalid_0's rmse: 1976.52\tvalid_0's l2: 3.90664e+06\n",
      "[185]\tvalid_0's rmse: 1973.16\tvalid_0's l2: 3.89336e+06\n",
      "[186]\tvalid_0's rmse: 1969.83\tvalid_0's l2: 3.88024e+06\n",
      "[187]\tvalid_0's rmse: 1966.5\tvalid_0's l2: 3.86713e+06\n",
      "[188]\tvalid_0's rmse: 1963.42\tvalid_0's l2: 3.85503e+06\n",
      "[189]\tvalid_0's rmse: 1960.27\tvalid_0's l2: 3.84267e+06\n",
      "[190]\tvalid_0's rmse: 1957.06\tvalid_0's l2: 3.83007e+06\n",
      "[191]\tvalid_0's rmse: 1953.8\tvalid_0's l2: 3.81734e+06\n",
      "[192]\tvalid_0's rmse: 1950.82\tvalid_0's l2: 3.80571e+06\n",
      "[193]\tvalid_0's rmse: 1947.73\tvalid_0's l2: 3.79365e+06\n",
      "[194]\tvalid_0's rmse: 1944.52\tvalid_0's l2: 3.78114e+06\n",
      "[195]\tvalid_0's rmse: 1941.61\tvalid_0's l2: 3.76985e+06\n",
      "[196]\tvalid_0's rmse: 1938.67\tvalid_0's l2: 3.75844e+06\n",
      "[197]\tvalid_0's rmse: 1935.63\tvalid_0's l2: 3.74666e+06\n",
      "[198]\tvalid_0's rmse: 1932.76\tvalid_0's l2: 3.73558e+06\n",
      "[199]\tvalid_0's rmse: 1929.98\tvalid_0's l2: 3.72483e+06\n",
      "[200]\tvalid_0's rmse: 1927.11\tvalid_0's l2: 3.71373e+06\n",
      "[201]\tvalid_0's rmse: 1924.27\tvalid_0's l2: 3.7028e+06\n",
      "[202]\tvalid_0's rmse: 1921.47\tvalid_0's l2: 3.69205e+06\n",
      "[203]\tvalid_0's rmse: 1918.73\tvalid_0's l2: 3.68153e+06\n",
      "[204]\tvalid_0's rmse: 1916.12\tvalid_0's l2: 3.67151e+06\n",
      "[205]\tvalid_0's rmse: 1913.42\tvalid_0's l2: 3.66118e+06\n",
      "[206]\tvalid_0's rmse: 1910.93\tvalid_0's l2: 3.65164e+06\n",
      "[207]\tvalid_0's rmse: 1908.41\tvalid_0's l2: 3.64201e+06\n",
      "[208]\tvalid_0's rmse: 1906.02\tvalid_0's l2: 3.63292e+06\n",
      "[209]\tvalid_0's rmse: 1903.56\tvalid_0's l2: 3.62354e+06\n",
      "[210]\tvalid_0's rmse: 1901.28\tvalid_0's l2: 3.61487e+06\n",
      "[211]\tvalid_0's rmse: 1898.86\tvalid_0's l2: 3.60567e+06\n",
      "[212]\tvalid_0's rmse: 1896.55\tvalid_0's l2: 3.5969e+06\n",
      "[213]\tvalid_0's rmse: 1894.11\tvalid_0's l2: 3.58764e+06\n",
      "[214]\tvalid_0's rmse: 1891.66\tvalid_0's l2: 3.57837e+06\n",
      "[215]\tvalid_0's rmse: 1889.37\tvalid_0's l2: 3.56971e+06\n",
      "[216]\tvalid_0's rmse: 1886.99\tvalid_0's l2: 3.56074e+06\n",
      "[217]\tvalid_0's rmse: 1884.73\tvalid_0's l2: 3.5522e+06\n",
      "[218]\tvalid_0's rmse: 1882.44\tvalid_0's l2: 3.5436e+06\n",
      "[219]\tvalid_0's rmse: 1880.19\tvalid_0's l2: 3.5351e+06\n",
      "[220]\tvalid_0's rmse: 1878.04\tvalid_0's l2: 3.52702e+06\n",
      "[221]\tvalid_0's rmse: 1875.75\tvalid_0's l2: 3.51844e+06\n",
      "[222]\tvalid_0's rmse: 1873.32\tvalid_0's l2: 3.50932e+06\n",
      "[223]\tvalid_0's rmse: 1870.86\tvalid_0's l2: 3.50012e+06\n",
      "[224]\tvalid_0's rmse: 1868.7\tvalid_0's l2: 3.49204e+06\n",
      "[225]\tvalid_0's rmse: 1866.54\tvalid_0's l2: 3.48395e+06\n",
      "[226]\tvalid_0's rmse: 1864.38\tvalid_0's l2: 3.47593e+06\n",
      "[227]\tvalid_0's rmse: 1862.26\tvalid_0's l2: 3.468e+06\n",
      "[228]\tvalid_0's rmse: 1860.21\tvalid_0's l2: 3.46037e+06\n",
      "[229]\tvalid_0's rmse: 1858.15\tvalid_0's l2: 3.45271e+06\n",
      "[230]\tvalid_0's rmse: 1856.05\tvalid_0's l2: 3.44491e+06\n",
      "[231]\tvalid_0's rmse: 1854.04\tvalid_0's l2: 3.43746e+06\n",
      "[232]\tvalid_0's rmse: 1851.94\tvalid_0's l2: 3.42968e+06\n",
      "[233]\tvalid_0's rmse: 1850.07\tvalid_0's l2: 3.42276e+06\n",
      "[234]\tvalid_0's rmse: 1848.11\tvalid_0's l2: 3.41551e+06\n",
      "[235]\tvalid_0's rmse: 1845.88\tvalid_0's l2: 3.40726e+06\n",
      "[236]\tvalid_0's rmse: 1843.97\tvalid_0's l2: 3.40021e+06\n",
      "[237]\tvalid_0's rmse: 1842.15\tvalid_0's l2: 3.39352e+06\n",
      "[238]\tvalid_0's rmse: 1840.17\tvalid_0's l2: 3.38624e+06\n",
      "[239]\tvalid_0's rmse: 1838.04\tvalid_0's l2: 3.37838e+06\n",
      "[240]\tvalid_0's rmse: 1836.4\tvalid_0's l2: 3.37236e+06\n",
      "[241]\tvalid_0's rmse: 1834.45\tvalid_0's l2: 3.36521e+06\n",
      "[242]\tvalid_0's rmse: 1832.46\tvalid_0's l2: 3.3579e+06\n",
      "[243]\tvalid_0's rmse: 1830.49\tvalid_0's l2: 3.35068e+06\n",
      "[244]\tvalid_0's rmse: 1828.44\tvalid_0's l2: 3.34319e+06\n",
      "[245]\tvalid_0's rmse: 1826.53\tvalid_0's l2: 3.33621e+06\n",
      "[246]\tvalid_0's rmse: 1824.76\tvalid_0's l2: 3.32975e+06\n",
      "[247]\tvalid_0's rmse: 1822.88\tvalid_0's l2: 3.32288e+06\n",
      "[248]\tvalid_0's rmse: 1821.06\tvalid_0's l2: 3.31627e+06\n",
      "[249]\tvalid_0's rmse: 1819.31\tvalid_0's l2: 3.3099e+06\n",
      "[250]\tvalid_0's rmse: 1817.67\tvalid_0's l2: 3.30393e+06\n",
      "[251]\tvalid_0's rmse: 1815.82\tvalid_0's l2: 3.29721e+06\n",
      "[252]\tvalid_0's rmse: 1814.16\tvalid_0's l2: 3.29119e+06\n",
      "[253]\tvalid_0's rmse: 1812.46\tvalid_0's l2: 3.28502e+06\n",
      "[254]\tvalid_0's rmse: 1810.8\tvalid_0's l2: 3.279e+06\n",
      "[255]\tvalid_0's rmse: 1809.32\tvalid_0's l2: 3.27365e+06\n",
      "[256]\tvalid_0's rmse: 1807.82\tvalid_0's l2: 3.26823e+06\n",
      "[257]\tvalid_0's rmse: 1806.33\tvalid_0's l2: 3.26282e+06\n",
      "[258]\tvalid_0's rmse: 1804.74\tvalid_0's l2: 3.25707e+06\n",
      "[259]\tvalid_0's rmse: 1803.19\tvalid_0's l2: 3.2515e+06\n",
      "[260]\tvalid_0's rmse: 1801.76\tvalid_0's l2: 3.24636e+06\n",
      "[261]\tvalid_0's rmse: 1800.36\tvalid_0's l2: 3.24129e+06\n",
      "[262]\tvalid_0's rmse: 1798.98\tvalid_0's l2: 3.23632e+06\n",
      "[263]\tvalid_0's rmse: 1797.63\tvalid_0's l2: 3.23147e+06\n",
      "[264]\tvalid_0's rmse: 1796.38\tvalid_0's l2: 3.22697e+06\n",
      "[265]\tvalid_0's rmse: 1794.85\tvalid_0's l2: 3.22149e+06\n",
      "[266]\tvalid_0's rmse: 1793.59\tvalid_0's l2: 3.21695e+06\n",
      "[267]\tvalid_0's rmse: 1792.18\tvalid_0's l2: 3.2119e+06\n",
      "[268]\tvalid_0's rmse: 1790.95\tvalid_0's l2: 3.20751e+06\n",
      "[269]\tvalid_0's rmse: 1789.79\tvalid_0's l2: 3.20335e+06\n",
      "[270]\tvalid_0's rmse: 1788.31\tvalid_0's l2: 3.19804e+06\n",
      "[271]\tvalid_0's rmse: 1787.08\tvalid_0's l2: 3.19365e+06\n",
      "[272]\tvalid_0's rmse: 1785.62\tvalid_0's l2: 3.18844e+06\n",
      "[273]\tvalid_0's rmse: 1784.55\tvalid_0's l2: 3.18461e+06\n",
      "[274]\tvalid_0's rmse: 1783.15\tvalid_0's l2: 3.17963e+06\n",
      "[275]\tvalid_0's rmse: 1781.95\tvalid_0's l2: 3.17536e+06\n",
      "[276]\tvalid_0's rmse: 1780.65\tvalid_0's l2: 3.17072e+06\n",
      "[277]\tvalid_0's rmse: 1779.35\tvalid_0's l2: 3.16608e+06\n",
      "[278]\tvalid_0's rmse: 1778\tvalid_0's l2: 3.16129e+06\n",
      "[279]\tvalid_0's rmse: 1776.71\tvalid_0's l2: 3.15672e+06\n",
      "[280]\tvalid_0's rmse: 1775.37\tvalid_0's l2: 3.15193e+06\n",
      "[281]\tvalid_0's rmse: 1774.2\tvalid_0's l2: 3.1478e+06\n",
      "[282]\tvalid_0's rmse: 1773.02\tvalid_0's l2: 3.14359e+06\n",
      "[283]\tvalid_0's rmse: 1771.76\tvalid_0's l2: 3.13915e+06\n",
      "[284]\tvalid_0's rmse: 1770.56\tvalid_0's l2: 3.13489e+06\n",
      "[285]\tvalid_0's rmse: 1769.48\tvalid_0's l2: 3.13104e+06\n",
      "[286]\tvalid_0's rmse: 1768.37\tvalid_0's l2: 3.12713e+06\n",
      "[287]\tvalid_0's rmse: 1767.21\tvalid_0's l2: 3.12303e+06\n",
      "[288]\tvalid_0's rmse: 1765.94\tvalid_0's l2: 3.11856e+06\n",
      "[289]\tvalid_0's rmse: 1764.78\tvalid_0's l2: 3.11444e+06\n",
      "[290]\tvalid_0's rmse: 1763.75\tvalid_0's l2: 3.11081e+06\n",
      "[291]\tvalid_0's rmse: 1762.61\tvalid_0's l2: 3.1068e+06\n",
      "[292]\tvalid_0's rmse: 1761.63\tvalid_0's l2: 3.10335e+06\n",
      "[293]\tvalid_0's rmse: 1760.54\tvalid_0's l2: 3.09951e+06\n"
     ]
    },
    {
     "name": "stdout",
     "output_type": "stream",
     "text": [
      "[294]\tvalid_0's rmse: 1759.59\tvalid_0's l2: 3.09616e+06\n",
      "[295]\tvalid_0's rmse: 1758.36\tvalid_0's l2: 3.09183e+06\n",
      "[296]\tvalid_0's rmse: 1757.25\tvalid_0's l2: 3.08792e+06\n",
      "[297]\tvalid_0's rmse: 1755.98\tvalid_0's l2: 3.08346e+06\n",
      "[298]\tvalid_0's rmse: 1755.07\tvalid_0's l2: 3.08028e+06\n",
      "[299]\tvalid_0's rmse: 1753.83\tvalid_0's l2: 3.07594e+06\n",
      "[300]\tvalid_0's rmse: 1752.72\tvalid_0's l2: 3.07204e+06\n",
      "[301]\tvalid_0's rmse: 1751.69\tvalid_0's l2: 3.06843e+06\n",
      "[302]\tvalid_0's rmse: 1750.68\tvalid_0's l2: 3.06489e+06\n",
      "[303]\tvalid_0's rmse: 1749.67\tvalid_0's l2: 3.06134e+06\n",
      "[304]\tvalid_0's rmse: 1748.53\tvalid_0's l2: 3.05736e+06\n",
      "[305]\tvalid_0's rmse: 1747.47\tvalid_0's l2: 3.05366e+06\n",
      "[306]\tvalid_0's rmse: 1746.59\tvalid_0's l2: 3.05058e+06\n",
      "[307]\tvalid_0's rmse: 1745.53\tvalid_0's l2: 3.04689e+06\n",
      "[308]\tvalid_0's rmse: 1744.52\tvalid_0's l2: 3.04334e+06\n",
      "[309]\tvalid_0's rmse: 1743.67\tvalid_0's l2: 3.04039e+06\n",
      "[310]\tvalid_0's rmse: 1742.69\tvalid_0's l2: 3.03698e+06\n",
      "[311]\tvalid_0's rmse: 1741.68\tvalid_0's l2: 3.03346e+06\n",
      "[312]\tvalid_0's rmse: 1740.76\tvalid_0's l2: 3.03025e+06\n",
      "[313]\tvalid_0's rmse: 1739.84\tvalid_0's l2: 3.02704e+06\n",
      "[314]\tvalid_0's rmse: 1738.88\tvalid_0's l2: 3.02369e+06\n",
      "[315]\tvalid_0's rmse: 1737.96\tvalid_0's l2: 3.02051e+06\n",
      "[316]\tvalid_0's rmse: 1737.16\tvalid_0's l2: 3.01773e+06\n",
      "[317]\tvalid_0's rmse: 1736.23\tvalid_0's l2: 3.01449e+06\n",
      "[318]\tvalid_0's rmse: 1735.35\tvalid_0's l2: 3.01145e+06\n",
      "[319]\tvalid_0's rmse: 1734.47\tvalid_0's l2: 3.00838e+06\n",
      "[320]\tvalid_0's rmse: 1733.68\tvalid_0's l2: 3.00564e+06\n",
      "[321]\tvalid_0's rmse: 1732.67\tvalid_0's l2: 3.00215e+06\n",
      "[322]\tvalid_0's rmse: 1731.69\tvalid_0's l2: 2.99875e+06\n",
      "[323]\tvalid_0's rmse: 1730.71\tvalid_0's l2: 2.99536e+06\n",
      "[324]\tvalid_0's rmse: 1729.74\tvalid_0's l2: 2.99202e+06\n",
      "[325]\tvalid_0's rmse: 1728.85\tvalid_0's l2: 2.98891e+06\n",
      "[326]\tvalid_0's rmse: 1727.99\tvalid_0's l2: 2.98595e+06\n",
      "[327]\tvalid_0's rmse: 1727.15\tvalid_0's l2: 2.98303e+06\n",
      "[328]\tvalid_0's rmse: 1726.1\tvalid_0's l2: 2.97943e+06\n",
      "[329]\tvalid_0's rmse: 1725.22\tvalid_0's l2: 2.9764e+06\n",
      "[330]\tvalid_0's rmse: 1724.22\tvalid_0's l2: 2.97293e+06\n",
      "[331]\tvalid_0's rmse: 1723.23\tvalid_0's l2: 2.96951e+06\n",
      "[332]\tvalid_0's rmse: 1722.33\tvalid_0's l2: 2.96643e+06\n",
      "[333]\tvalid_0's rmse: 1721.38\tvalid_0's l2: 2.96314e+06\n",
      "[334]\tvalid_0's rmse: 1720.72\tvalid_0's l2: 2.96087e+06\n",
      "[335]\tvalid_0's rmse: 1719.8\tvalid_0's l2: 2.95771e+06\n",
      "[336]\tvalid_0's rmse: 1719.16\tvalid_0's l2: 2.95551e+06\n",
      "[337]\tvalid_0's rmse: 1718.04\tvalid_0's l2: 2.95166e+06\n",
      "[338]\tvalid_0's rmse: 1717.41\tvalid_0's l2: 2.94949e+06\n",
      "[339]\tvalid_0's rmse: 1716.3\tvalid_0's l2: 2.94569e+06\n",
      "[340]\tvalid_0's rmse: 1715.68\tvalid_0's l2: 2.94354e+06\n",
      "[341]\tvalid_0's rmse: 1714.8\tvalid_0's l2: 2.94055e+06\n",
      "[342]\tvalid_0's rmse: 1713.93\tvalid_0's l2: 2.93755e+06\n",
      "[343]\tvalid_0's rmse: 1712.98\tvalid_0's l2: 2.93431e+06\n",
      "[344]\tvalid_0's rmse: 1712.14\tvalid_0's l2: 2.93142e+06\n",
      "[345]\tvalid_0's rmse: 1711.32\tvalid_0's l2: 2.92862e+06\n",
      "[346]\tvalid_0's rmse: 1710.52\tvalid_0's l2: 2.92587e+06\n",
      "[347]\tvalid_0's rmse: 1709.74\tvalid_0's l2: 2.9232e+06\n",
      "[348]\tvalid_0's rmse: 1708.82\tvalid_0's l2: 2.92008e+06\n",
      "[349]\tvalid_0's rmse: 1708.08\tvalid_0's l2: 2.91754e+06\n",
      "[350]\tvalid_0's rmse: 1707.35\tvalid_0's l2: 2.91506e+06\n",
      "[351]\tvalid_0's rmse: 1706.62\tvalid_0's l2: 2.91256e+06\n",
      "[352]\tvalid_0's rmse: 1706.11\tvalid_0's l2: 2.91081e+06\n",
      "[353]\tvalid_0's rmse: 1705.27\tvalid_0's l2: 2.90793e+06\n",
      "[354]\tvalid_0's rmse: 1704.64\tvalid_0's l2: 2.90578e+06\n",
      "[355]\tvalid_0's rmse: 1703.94\tvalid_0's l2: 2.90343e+06\n",
      "[356]\tvalid_0's rmse: 1703.38\tvalid_0's l2: 2.9015e+06\n",
      "[357]\tvalid_0's rmse: 1702.9\tvalid_0's l2: 2.89988e+06\n",
      "[358]\tvalid_0's rmse: 1702.24\tvalid_0's l2: 2.89764e+06\n",
      "[359]\tvalid_0's rmse: 1701.65\tvalid_0's l2: 2.8956e+06\n",
      "[360]\tvalid_0's rmse: 1701.04\tvalid_0's l2: 2.89355e+06\n",
      "[361]\tvalid_0's rmse: 1700.42\tvalid_0's l2: 2.89144e+06\n",
      "[362]\tvalid_0's rmse: 1699.82\tvalid_0's l2: 2.88938e+06\n",
      "[363]\tvalid_0's rmse: 1699.22\tvalid_0's l2: 2.88736e+06\n",
      "[364]\tvalid_0's rmse: 1698.68\tvalid_0's l2: 2.88551e+06\n",
      "[365]\tvalid_0's rmse: 1698.07\tvalid_0's l2: 2.88343e+06\n",
      "[366]\tvalid_0's rmse: 1697.51\tvalid_0's l2: 2.88154e+06\n",
      "[367]\tvalid_0's rmse: 1696.89\tvalid_0's l2: 2.87943e+06\n",
      "[368]\tvalid_0's rmse: 1696.26\tvalid_0's l2: 2.87729e+06\n",
      "[369]\tvalid_0's rmse: 1695.75\tvalid_0's l2: 2.87557e+06\n",
      "[370]\tvalid_0's rmse: 1695.27\tvalid_0's l2: 2.87393e+06\n",
      "[371]\tvalid_0's rmse: 1694.65\tvalid_0's l2: 2.87184e+06\n",
      "[372]\tvalid_0's rmse: 1694.2\tvalid_0's l2: 2.8703e+06\n",
      "[373]\tvalid_0's rmse: 1693.72\tvalid_0's l2: 2.86868e+06\n",
      "[374]\tvalid_0's rmse: 1693.23\tvalid_0's l2: 2.86702e+06\n",
      "[375]\tvalid_0's rmse: 1692.74\tvalid_0's l2: 2.86538e+06\n",
      "[376]\tvalid_0's rmse: 1692.18\tvalid_0's l2: 2.86346e+06\n",
      "[377]\tvalid_0's rmse: 1691.71\tvalid_0's l2: 2.86189e+06\n",
      "[378]\tvalid_0's rmse: 1691.15\tvalid_0's l2: 2.85998e+06\n",
      "[379]\tvalid_0's rmse: 1690.6\tvalid_0's l2: 2.85812e+06\n",
      "[380]\tvalid_0's rmse: 1689.92\tvalid_0's l2: 2.85584e+06\n",
      "[381]\tvalid_0's rmse: 1689.09\tvalid_0's l2: 2.85304e+06\n",
      "[382]\tvalid_0's rmse: 1688.54\tvalid_0's l2: 2.85118e+06\n",
      "[383]\tvalid_0's rmse: 1687.72\tvalid_0's l2: 2.84839e+06\n",
      "[384]\tvalid_0's rmse: 1687.19\tvalid_0's l2: 2.84659e+06\n",
      "[385]\tvalid_0's rmse: 1686.4\tvalid_0's l2: 2.84394e+06\n",
      "[386]\tvalid_0's rmse: 1685.78\tvalid_0's l2: 2.84185e+06\n",
      "[387]\tvalid_0's rmse: 1685.14\tvalid_0's l2: 2.83971e+06\n",
      "[388]\tvalid_0's rmse: 1684.34\tvalid_0's l2: 2.83702e+06\n",
      "[389]\tvalid_0's rmse: 1683.89\tvalid_0's l2: 2.8355e+06\n",
      "[390]\tvalid_0's rmse: 1683.47\tvalid_0's l2: 2.83406e+06\n",
      "[391]\tvalid_0's rmse: 1682.69\tvalid_0's l2: 2.83144e+06\n",
      "[392]\tvalid_0's rmse: 1682.18\tvalid_0's l2: 2.82972e+06\n",
      "[393]\tvalid_0's rmse: 1681.44\tvalid_0's l2: 2.82723e+06\n",
      "[394]\tvalid_0's rmse: 1681\tvalid_0's l2: 2.82576e+06\n",
      "[395]\tvalid_0's rmse: 1680.58\tvalid_0's l2: 2.82433e+06\n",
      "[396]\tvalid_0's rmse: 1680.16\tvalid_0's l2: 2.82293e+06\n",
      "[397]\tvalid_0's rmse: 1679.44\tvalid_0's l2: 2.8205e+06\n",
      "[398]\tvalid_0's rmse: 1678.95\tvalid_0's l2: 2.81887e+06\n",
      "[399]\tvalid_0's rmse: 1678.22\tvalid_0's l2: 2.81644e+06\n",
      "[400]\tvalid_0's rmse: 1677.79\tvalid_0's l2: 2.81499e+06\n",
      "[401]\tvalid_0's rmse: 1677.17\tvalid_0's l2: 2.81291e+06\n",
      "[402]\tvalid_0's rmse: 1676.61\tvalid_0's l2: 2.81101e+06\n",
      "[403]\tvalid_0's rmse: 1675.92\tvalid_0's l2: 2.80869e+06\n",
      "[404]\tvalid_0's rmse: 1675.33\tvalid_0's l2: 2.80672e+06\n",
      "[405]\tvalid_0's rmse: 1674.88\tvalid_0's l2: 2.80523e+06\n",
      "[406]\tvalid_0's rmse: 1674.43\tvalid_0's l2: 2.80373e+06\n",
      "[407]\tvalid_0's rmse: 1673.79\tvalid_0's l2: 2.80157e+06\n",
      "[408]\tvalid_0's rmse: 1673.18\tvalid_0's l2: 2.79955e+06\n",
      "[409]\tvalid_0's rmse: 1672.68\tvalid_0's l2: 2.79787e+06\n",
      "[410]\tvalid_0's rmse: 1672.11\tvalid_0's l2: 2.79596e+06\n",
      "[411]\tvalid_0's rmse: 1671.61\tvalid_0's l2: 2.79429e+06\n",
      "[412]\tvalid_0's rmse: 1671.01\tvalid_0's l2: 2.79227e+06\n",
      "[413]\tvalid_0's rmse: 1670.53\tvalid_0's l2: 2.79066e+06\n",
      "[414]\tvalid_0's rmse: 1669.92\tvalid_0's l2: 2.78864e+06\n",
      "[415]\tvalid_0's rmse: 1669.53\tvalid_0's l2: 2.78733e+06\n",
      "[416]\tvalid_0's rmse: 1668.95\tvalid_0's l2: 2.78541e+06\n",
      "[417]\tvalid_0's rmse: 1668.57\tvalid_0's l2: 2.78413e+06\n",
      "[418]\tvalid_0's rmse: 1668.15\tvalid_0's l2: 2.78271e+06\n",
      "[419]\tvalid_0's rmse: 1667.68\tvalid_0's l2: 2.78116e+06\n",
      "[420]\tvalid_0's rmse: 1667.12\tvalid_0's l2: 2.7793e+06\n",
      "[421]\tvalid_0's rmse: 1666.56\tvalid_0's l2: 2.77743e+06\n",
      "[422]\tvalid_0's rmse: 1666.02\tvalid_0's l2: 2.77563e+06\n",
      "[423]\tvalid_0's rmse: 1665.48\tvalid_0's l2: 2.77384e+06\n",
      "[424]\tvalid_0's rmse: 1664.96\tvalid_0's l2: 2.7721e+06\n",
      "[425]\tvalid_0's rmse: 1664.45\tvalid_0's l2: 2.77038e+06\n",
      "[426]\tvalid_0's rmse: 1663.98\tvalid_0's l2: 2.76882e+06\n",
      "[427]\tvalid_0's rmse: 1663.53\tvalid_0's l2: 2.76733e+06\n",
      "[428]\tvalid_0's rmse: 1663.08\tvalid_0's l2: 2.76583e+06\n",
      "[429]\tvalid_0's rmse: 1662.54\tvalid_0's l2: 2.76403e+06\n",
      "[430]\tvalid_0's rmse: 1661.99\tvalid_0's l2: 2.7622e+06\n",
      "[431]\tvalid_0's rmse: 1661.57\tvalid_0's l2: 2.7608e+06\n",
      "[432]\tvalid_0's rmse: 1661.09\tvalid_0's l2: 2.75921e+06\n",
      "[433]\tvalid_0's rmse: 1660.54\tvalid_0's l2: 2.75739e+06\n",
      "[434]\tvalid_0's rmse: 1660.05\tvalid_0's l2: 2.75578e+06\n",
      "[435]\tvalid_0's rmse: 1659.49\tvalid_0's l2: 2.7539e+06\n",
      "[436]\tvalid_0's rmse: 1659.01\tvalid_0's l2: 2.75231e+06\n",
      "[437]\tvalid_0's rmse: 1658.6\tvalid_0's l2: 2.75095e+06\n",
      "[438]\tvalid_0's rmse: 1658.16\tvalid_0's l2: 2.7495e+06\n",
      "[439]\tvalid_0's rmse: 1657.69\tvalid_0's l2: 2.74795e+06\n",
      "[440]\tvalid_0's rmse: 1657.3\tvalid_0's l2: 2.74663e+06\n",
      "[441]\tvalid_0's rmse: 1656.78\tvalid_0's l2: 2.74491e+06\n",
      "[442]\tvalid_0's rmse: 1656.29\tvalid_0's l2: 2.74331e+06\n",
      "[443]\tvalid_0's rmse: 1655.77\tvalid_0's l2: 2.74158e+06\n"
     ]
    },
    {
     "name": "stdout",
     "output_type": "stream",
     "text": [
      "[444]\tvalid_0's rmse: 1655.27\tvalid_0's l2: 2.73992e+06\n",
      "[445]\tvalid_0's rmse: 1654.79\tvalid_0's l2: 2.73834e+06\n",
      "[446]\tvalid_0's rmse: 1654.31\tvalid_0's l2: 2.73675e+06\n",
      "[447]\tvalid_0's rmse: 1653.8\tvalid_0's l2: 2.73506e+06\n",
      "[448]\tvalid_0's rmse: 1653.33\tvalid_0's l2: 2.73352e+06\n",
      "[449]\tvalid_0's rmse: 1652.88\tvalid_0's l2: 2.73202e+06\n",
      "[450]\tvalid_0's rmse: 1652.41\tvalid_0's l2: 2.73047e+06\n",
      "[451]\tvalid_0's rmse: 1651.98\tvalid_0's l2: 2.72904e+06\n",
      "[452]\tvalid_0's rmse: 1651.53\tvalid_0's l2: 2.72755e+06\n",
      "[453]\tvalid_0's rmse: 1651.13\tvalid_0's l2: 2.72621e+06\n",
      "[454]\tvalid_0's rmse: 1650.68\tvalid_0's l2: 2.72476e+06\n",
      "[455]\tvalid_0's rmse: 1650.24\tvalid_0's l2: 2.7233e+06\n",
      "[456]\tvalid_0's rmse: 1649.79\tvalid_0's l2: 2.7218e+06\n",
      "[457]\tvalid_0's rmse: 1649.34\tvalid_0's l2: 2.72032e+06\n",
      "[458]\tvalid_0's rmse: 1648.9\tvalid_0's l2: 2.71886e+06\n",
      "[459]\tvalid_0's rmse: 1648.49\tvalid_0's l2: 2.71751e+06\n",
      "[460]\tvalid_0's rmse: 1648.07\tvalid_0's l2: 2.71614e+06\n",
      "[461]\tvalid_0's rmse: 1647.81\tvalid_0's l2: 2.71527e+06\n",
      "[462]\tvalid_0's rmse: 1647.54\tvalid_0's l2: 2.7144e+06\n",
      "[463]\tvalid_0's rmse: 1647.29\tvalid_0's l2: 2.71358e+06\n",
      "[464]\tvalid_0's rmse: 1647.05\tvalid_0's l2: 2.71277e+06\n",
      "[465]\tvalid_0's rmse: 1646.72\tvalid_0's l2: 2.71167e+06\n",
      "[466]\tvalid_0's rmse: 1646.47\tvalid_0's l2: 2.71088e+06\n",
      "[467]\tvalid_0's rmse: 1646.11\tvalid_0's l2: 2.70968e+06\n",
      "[468]\tvalid_0's rmse: 1645.89\tvalid_0's l2: 2.70896e+06\n",
      "[469]\tvalid_0's rmse: 1645.54\tvalid_0's l2: 2.70779e+06\n",
      "[470]\tvalid_0's rmse: 1645.29\tvalid_0's l2: 2.70696e+06\n",
      "[471]\tvalid_0's rmse: 1644.92\tvalid_0's l2: 2.70577e+06\n",
      "[472]\tvalid_0's rmse: 1644.64\tvalid_0's l2: 2.70483e+06\n",
      "[473]\tvalid_0's rmse: 1644.42\tvalid_0's l2: 2.70412e+06\n",
      "[474]\tvalid_0's rmse: 1644.11\tvalid_0's l2: 2.7031e+06\n",
      "[475]\tvalid_0's rmse: 1643.87\tvalid_0's l2: 2.7023e+06\n",
      "[476]\tvalid_0's rmse: 1643.57\tvalid_0's l2: 2.70134e+06\n",
      "[477]\tvalid_0's rmse: 1643.2\tvalid_0's l2: 2.7001e+06\n",
      "[478]\tvalid_0's rmse: 1642.91\tvalid_0's l2: 2.69914e+06\n",
      "[479]\tvalid_0's rmse: 1642.47\tvalid_0's l2: 2.6977e+06\n",
      "[480]\tvalid_0's rmse: 1642.21\tvalid_0's l2: 2.69685e+06\n",
      "[481]\tvalid_0's rmse: 1641.79\tvalid_0's l2: 2.69547e+06\n",
      "[482]\tvalid_0's rmse: 1641.41\tvalid_0's l2: 2.69424e+06\n",
      "[483]\tvalid_0's rmse: 1641.01\tvalid_0's l2: 2.69291e+06\n",
      "[484]\tvalid_0's rmse: 1640.67\tvalid_0's l2: 2.69179e+06\n",
      "[485]\tvalid_0's rmse: 1640.15\tvalid_0's l2: 2.6901e+06\n",
      "[486]\tvalid_0's rmse: 1639.76\tvalid_0's l2: 2.68882e+06\n",
      "[487]\tvalid_0's rmse: 1639.44\tvalid_0's l2: 2.68776e+06\n",
      "[488]\tvalid_0's rmse: 1639.04\tvalid_0's l2: 2.68645e+06\n",
      "[489]\tvalid_0's rmse: 1638.63\tvalid_0's l2: 2.6851e+06\n",
      "[490]\tvalid_0's rmse: 1638.29\tvalid_0's l2: 2.68399e+06\n",
      "[491]\tvalid_0's rmse: 1637.91\tvalid_0's l2: 2.68275e+06\n",
      "[492]\tvalid_0's rmse: 1637.51\tvalid_0's l2: 2.68144e+06\n",
      "[493]\tvalid_0's rmse: 1637.19\tvalid_0's l2: 2.68039e+06\n",
      "[494]\tvalid_0's rmse: 1636.85\tvalid_0's l2: 2.67926e+06\n",
      "[495]\tvalid_0's rmse: 1636.39\tvalid_0's l2: 2.67778e+06\n",
      "[496]\tvalid_0's rmse: 1636.08\tvalid_0's l2: 2.67677e+06\n",
      "[497]\tvalid_0's rmse: 1635.75\tvalid_0's l2: 2.67568e+06\n",
      "[498]\tvalid_0's rmse: 1635.4\tvalid_0's l2: 2.67455e+06\n",
      "[499]\tvalid_0's rmse: 1635.02\tvalid_0's l2: 2.67327e+06\n",
      "[500]\tvalid_0's rmse: 1634.63\tvalid_0's l2: 2.67202e+06\n",
      "[501]\tvalid_0's rmse: 1634.25\tvalid_0's l2: 2.67078e+06\n",
      "[502]\tvalid_0's rmse: 1633.88\tvalid_0's l2: 2.66957e+06\n",
      "[503]\tvalid_0's rmse: 1633.48\tvalid_0's l2: 2.66825e+06\n",
      "[504]\tvalid_0's rmse: 1633.11\tvalid_0's l2: 2.66704e+06\n",
      "[505]\tvalid_0's rmse: 1632.72\tvalid_0's l2: 2.66578e+06\n",
      "[506]\tvalid_0's rmse: 1632.37\tvalid_0's l2: 2.66464e+06\n",
      "[507]\tvalid_0's rmse: 1632.13\tvalid_0's l2: 2.66384e+06\n",
      "[508]\tvalid_0's rmse: 1631.77\tvalid_0's l2: 2.66267e+06\n",
      "[509]\tvalid_0's rmse: 1631.53\tvalid_0's l2: 2.6619e+06\n",
      "[510]\tvalid_0's rmse: 1631.22\tvalid_0's l2: 2.66088e+06\n",
      "[511]\tvalid_0's rmse: 1631\tvalid_0's l2: 2.66016e+06\n",
      "[512]\tvalid_0's rmse: 1630.66\tvalid_0's l2: 2.65906e+06\n",
      "[513]\tvalid_0's rmse: 1630.45\tvalid_0's l2: 2.65835e+06\n",
      "[514]\tvalid_0's rmse: 1630\tvalid_0's l2: 2.6569e+06\n",
      "[515]\tvalid_0's rmse: 1629.65\tvalid_0's l2: 2.65576e+06\n",
      "[516]\tvalid_0's rmse: 1629.39\tvalid_0's l2: 2.65493e+06\n",
      "[517]\tvalid_0's rmse: 1629.19\tvalid_0's l2: 2.65426e+06\n",
      "[518]\tvalid_0's rmse: 1628.97\tvalid_0's l2: 2.65354e+06\n",
      "[519]\tvalid_0's rmse: 1628.54\tvalid_0's l2: 2.65214e+06\n",
      "[520]\tvalid_0's rmse: 1628.21\tvalid_0's l2: 2.65106e+06\n",
      "[521]\tvalid_0's rmse: 1627.81\tvalid_0's l2: 2.64976e+06\n",
      "[522]\tvalid_0's rmse: 1627.43\tvalid_0's l2: 2.64854e+06\n",
      "[523]\tvalid_0's rmse: 1627.07\tvalid_0's l2: 2.64736e+06\n",
      "[524]\tvalid_0's rmse: 1626.72\tvalid_0's l2: 2.64622e+06\n",
      "[525]\tvalid_0's rmse: 1626.24\tvalid_0's l2: 2.64465e+06\n",
      "[526]\tvalid_0's rmse: 1625.9\tvalid_0's l2: 2.64355e+06\n",
      "[527]\tvalid_0's rmse: 1625.43\tvalid_0's l2: 2.64203e+06\n",
      "[528]\tvalid_0's rmse: 1625.1\tvalid_0's l2: 2.64094e+06\n",
      "[529]\tvalid_0's rmse: 1624.62\tvalid_0's l2: 2.63938e+06\n",
      "[530]\tvalid_0's rmse: 1624.3\tvalid_0's l2: 2.63835e+06\n",
      "[531]\tvalid_0's rmse: 1623.96\tvalid_0's l2: 2.63725e+06\n",
      "[532]\tvalid_0's rmse: 1623.5\tvalid_0's l2: 2.63575e+06\n",
      "[533]\tvalid_0's rmse: 1623.17\tvalid_0's l2: 2.6347e+06\n",
      "[534]\tvalid_0's rmse: 1622.75\tvalid_0's l2: 2.63333e+06\n",
      "[535]\tvalid_0's rmse: 1622.46\tvalid_0's l2: 2.63239e+06\n",
      "[536]\tvalid_0's rmse: 1622.28\tvalid_0's l2: 2.63179e+06\n",
      "[537]\tvalid_0's rmse: 1621.89\tvalid_0's l2: 2.63052e+06\n",
      "[538]\tvalid_0's rmse: 1621.71\tvalid_0's l2: 2.62996e+06\n",
      "[539]\tvalid_0's rmse: 1621.54\tvalid_0's l2: 2.62939e+06\n",
      "[540]\tvalid_0's rmse: 1621.36\tvalid_0's l2: 2.62881e+06\n",
      "[541]\tvalid_0's rmse: 1621.04\tvalid_0's l2: 2.62778e+06\n",
      "[542]\tvalid_0's rmse: 1620.79\tvalid_0's l2: 2.62697e+06\n",
      "[543]\tvalid_0's rmse: 1620.55\tvalid_0's l2: 2.6262e+06\n",
      "[544]\tvalid_0's rmse: 1620.25\tvalid_0's l2: 2.62521e+06\n",
      "[545]\tvalid_0's rmse: 1620.01\tvalid_0's l2: 2.62443e+06\n",
      "[546]\tvalid_0's rmse: 1619.74\tvalid_0's l2: 2.62355e+06\n",
      "[547]\tvalid_0's rmse: 1619.5\tvalid_0's l2: 2.62279e+06\n",
      "[548]\tvalid_0's rmse: 1619.26\tvalid_0's l2: 2.62199e+06\n",
      "[549]\tvalid_0's rmse: 1619.05\tvalid_0's l2: 2.62131e+06\n",
      "[550]\tvalid_0's rmse: 1618.86\tvalid_0's l2: 2.6207e+06\n",
      "[551]\tvalid_0's rmse: 1618.6\tvalid_0's l2: 2.61988e+06\n",
      "[552]\tvalid_0's rmse: 1618.39\tvalid_0's l2: 2.61918e+06\n",
      "[553]\tvalid_0's rmse: 1617.98\tvalid_0's l2: 2.61787e+06\n",
      "[554]\tvalid_0's rmse: 1617.74\tvalid_0's l2: 2.61709e+06\n",
      "[555]\tvalid_0's rmse: 1617.51\tvalid_0's l2: 2.61634e+06\n",
      "[556]\tvalid_0's rmse: 1617.37\tvalid_0's l2: 2.61589e+06\n",
      "[557]\tvalid_0's rmse: 1617.15\tvalid_0's l2: 2.61518e+06\n",
      "[558]\tvalid_0's rmse: 1617.02\tvalid_0's l2: 2.61475e+06\n",
      "[559]\tvalid_0's rmse: 1616.69\tvalid_0's l2: 2.61368e+06\n",
      "[560]\tvalid_0's rmse: 1616.54\tvalid_0's l2: 2.61321e+06\n",
      "[561]\tvalid_0's rmse: 1616.15\tvalid_0's l2: 2.61196e+06\n",
      "[562]\tvalid_0's rmse: 1615.78\tvalid_0's l2: 2.61075e+06\n",
      "[563]\tvalid_0's rmse: 1615.41\tvalid_0's l2: 2.60956e+06\n",
      "[564]\tvalid_0's rmse: 1615.06\tvalid_0's l2: 2.60841e+06\n",
      "[565]\tvalid_0's rmse: 1614.7\tvalid_0's l2: 2.60726e+06\n",
      "[566]\tvalid_0's rmse: 1614.36\tvalid_0's l2: 2.60617e+06\n",
      "[567]\tvalid_0's rmse: 1614.01\tvalid_0's l2: 2.60501e+06\n",
      "[568]\tvalid_0's rmse: 1613.9\tvalid_0's l2: 2.60468e+06\n",
      "[569]\tvalid_0's rmse: 1613.58\tvalid_0's l2: 2.60362e+06\n",
      "[570]\tvalid_0's rmse: 1613.3\tvalid_0's l2: 2.60275e+06\n",
      "[571]\tvalid_0's rmse: 1613.08\tvalid_0's l2: 2.60202e+06\n",
      "[572]\tvalid_0's rmse: 1612.77\tvalid_0's l2: 2.60101e+06\n",
      "[573]\tvalid_0's rmse: 1612.55\tvalid_0's l2: 2.60031e+06\n",
      "[574]\tvalid_0's rmse: 1612.22\tvalid_0's l2: 2.59925e+06\n",
      "[575]\tvalid_0's rmse: 1612.01\tvalid_0's l2: 2.59859e+06\n",
      "[576]\tvalid_0's rmse: 1611.8\tvalid_0's l2: 2.59791e+06\n",
      "[577]\tvalid_0's rmse: 1611.48\tvalid_0's l2: 2.59687e+06\n",
      "[578]\tvalid_0's rmse: 1611.28\tvalid_0's l2: 2.59624e+06\n",
      "[579]\tvalid_0's rmse: 1610.97\tvalid_0's l2: 2.59521e+06\n",
      "[580]\tvalid_0's rmse: 1610.82\tvalid_0's l2: 2.59473e+06\n",
      "[581]\tvalid_0's rmse: 1610.55\tvalid_0's l2: 2.59387e+06\n",
      "[582]\tvalid_0's rmse: 1610.28\tvalid_0's l2: 2.59301e+06\n",
      "[583]\tvalid_0's rmse: 1610.03\tvalid_0's l2: 2.59221e+06\n",
      "[584]\tvalid_0's rmse: 1609.78\tvalid_0's l2: 2.59139e+06\n",
      "[585]\tvalid_0's rmse: 1609.53\tvalid_0's l2: 2.59059e+06\n",
      "[586]\tvalid_0's rmse: 1609.32\tvalid_0's l2: 2.5899e+06\n",
      "[587]\tvalid_0's rmse: 1609.08\tvalid_0's l2: 2.58915e+06\n",
      "[588]\tvalid_0's rmse: 1608.91\tvalid_0's l2: 2.58861e+06\n",
      "[589]\tvalid_0's rmse: 1608.68\tvalid_0's l2: 2.58784e+06\n",
      "[590]\tvalid_0's rmse: 1608.48\tvalid_0's l2: 2.58721e+06\n",
      "[591]\tvalid_0's rmse: 1608.24\tvalid_0's l2: 2.58645e+06\n",
      "[592]\tvalid_0's rmse: 1608.08\tvalid_0's l2: 2.58592e+06\n",
      "[593]\tvalid_0's rmse: 1607.84\tvalid_0's l2: 2.58514e+06\n"
     ]
    },
    {
     "name": "stdout",
     "output_type": "stream",
     "text": [
      "[594]\tvalid_0's rmse: 1607.68\tvalid_0's l2: 2.58462e+06\n",
      "[595]\tvalid_0's rmse: 1607.45\tvalid_0's l2: 2.58391e+06\n",
      "[596]\tvalid_0's rmse: 1607.3\tvalid_0's l2: 2.58341e+06\n",
      "[597]\tvalid_0's rmse: 1607.1\tvalid_0's l2: 2.58276e+06\n",
      "[598]\tvalid_0's rmse: 1606.92\tvalid_0's l2: 2.58219e+06\n",
      "[599]\tvalid_0's rmse: 1606.75\tvalid_0's l2: 2.58163e+06\n",
      "[600]\tvalid_0's rmse: 1606.53\tvalid_0's l2: 2.58092e+06\n",
      "[601]\tvalid_0's rmse: 1606.25\tvalid_0's l2: 2.58004e+06\n",
      "[602]\tvalid_0's rmse: 1606.01\tvalid_0's l2: 2.57926e+06\n",
      "[603]\tvalid_0's rmse: 1605.75\tvalid_0's l2: 2.57845e+06\n",
      "[604]\tvalid_0's rmse: 1605.54\tvalid_0's l2: 2.57776e+06\n",
      "[605]\tvalid_0's rmse: 1605.31\tvalid_0's l2: 2.57701e+06\n",
      "[606]\tvalid_0's rmse: 1605.06\tvalid_0's l2: 2.57622e+06\n",
      "[607]\tvalid_0's rmse: 1604.84\tvalid_0's l2: 2.57553e+06\n",
      "[608]\tvalid_0's rmse: 1604.65\tvalid_0's l2: 2.57491e+06\n",
      "[609]\tvalid_0's rmse: 1604.44\tvalid_0's l2: 2.57424e+06\n",
      "[610]\tvalid_0's rmse: 1604.24\tvalid_0's l2: 2.5736e+06\n",
      "[611]\tvalid_0's rmse: 1604.05\tvalid_0's l2: 2.57297e+06\n",
      "[612]\tvalid_0's rmse: 1603.85\tvalid_0's l2: 2.57233e+06\n",
      "[613]\tvalid_0's rmse: 1603.66\tvalid_0's l2: 2.57174e+06\n",
      "[614]\tvalid_0's rmse: 1603.48\tvalid_0's l2: 2.57116e+06\n",
      "[615]\tvalid_0's rmse: 1603.32\tvalid_0's l2: 2.57064e+06\n",
      "[616]\tvalid_0's rmse: 1603.14\tvalid_0's l2: 2.57005e+06\n",
      "[617]\tvalid_0's rmse: 1603\tvalid_0's l2: 2.56962e+06\n",
      "[618]\tvalid_0's rmse: 1602.88\tvalid_0's l2: 2.56921e+06\n",
      "[619]\tvalid_0's rmse: 1602.73\tvalid_0's l2: 2.56873e+06\n",
      "[620]\tvalid_0's rmse: 1602.4\tvalid_0's l2: 2.56769e+06\n",
      "[621]\tvalid_0's rmse: 1602.1\tvalid_0's l2: 2.56671e+06\n",
      "[622]\tvalid_0's rmse: 1601.8\tvalid_0's l2: 2.56576e+06\n",
      "[623]\tvalid_0's rmse: 1601.5\tvalid_0's l2: 2.56481e+06\n",
      "[624]\tvalid_0's rmse: 1601.22\tvalid_0's l2: 2.56391e+06\n",
      "[625]\tvalid_0's rmse: 1600.9\tvalid_0's l2: 2.56287e+06\n",
      "[626]\tvalid_0's rmse: 1600.58\tvalid_0's l2: 2.56185e+06\n",
      "[627]\tvalid_0's rmse: 1600.28\tvalid_0's l2: 2.56091e+06\n",
      "[628]\tvalid_0's rmse: 1600.01\tvalid_0's l2: 2.56004e+06\n",
      "[629]\tvalid_0's rmse: 1599.78\tvalid_0's l2: 2.5593e+06\n",
      "[630]\tvalid_0's rmse: 1599.52\tvalid_0's l2: 2.55846e+06\n",
      "[631]\tvalid_0's rmse: 1599.32\tvalid_0's l2: 2.55784e+06\n",
      "[632]\tvalid_0's rmse: 1599.25\tvalid_0's l2: 2.55759e+06\n",
      "[633]\tvalid_0's rmse: 1598.94\tvalid_0's l2: 2.55661e+06\n",
      "[634]\tvalid_0's rmse: 1598.65\tvalid_0's l2: 2.55568e+06\n",
      "[635]\tvalid_0's rmse: 1598.59\tvalid_0's l2: 2.55548e+06\n",
      "[636]\tvalid_0's rmse: 1598.52\tvalid_0's l2: 2.55528e+06\n",
      "[637]\tvalid_0's rmse: 1598.28\tvalid_0's l2: 2.55449e+06\n",
      "[638]\tvalid_0's rmse: 1598.18\tvalid_0's l2: 2.55418e+06\n",
      "[639]\tvalid_0's rmse: 1597.89\tvalid_0's l2: 2.55324e+06\n",
      "[640]\tvalid_0's rmse: 1597.62\tvalid_0's l2: 2.5524e+06\n",
      "[641]\tvalid_0's rmse: 1597.52\tvalid_0's l2: 2.55207e+06\n",
      "[642]\tvalid_0's rmse: 1597.42\tvalid_0's l2: 2.55174e+06\n",
      "[643]\tvalid_0's rmse: 1597.31\tvalid_0's l2: 2.55142e+06\n",
      "[644]\tvalid_0's rmse: 1597.22\tvalid_0's l2: 2.55112e+06\n",
      "[645]\tvalid_0's rmse: 1597.13\tvalid_0's l2: 2.55084e+06\n",
      "[646]\tvalid_0's rmse: 1597.05\tvalid_0's l2: 2.55055e+06\n",
      "[647]\tvalid_0's rmse: 1596.97\tvalid_0's l2: 2.55031e+06\n",
      "[648]\tvalid_0's rmse: 1596.87\tvalid_0's l2: 2.54999e+06\n",
      "[649]\tvalid_0's rmse: 1596.8\tvalid_0's l2: 2.54978e+06\n",
      "[650]\tvalid_0's rmse: 1596.7\tvalid_0's l2: 2.54944e+06\n",
      "[651]\tvalid_0's rmse: 1596.6\tvalid_0's l2: 2.54914e+06\n",
      "[652]\tvalid_0's rmse: 1596.51\tvalid_0's l2: 2.54886e+06\n",
      "[653]\tvalid_0's rmse: 1596.41\tvalid_0's l2: 2.54852e+06\n",
      "[654]\tvalid_0's rmse: 1596.31\tvalid_0's l2: 2.5482e+06\n",
      "[655]\tvalid_0's rmse: 1596.23\tvalid_0's l2: 2.54796e+06\n",
      "[656]\tvalid_0's rmse: 1596.13\tvalid_0's l2: 2.54763e+06\n",
      "[657]\tvalid_0's rmse: 1596.04\tvalid_0's l2: 2.54735e+06\n",
      "[658]\tvalid_0's rmse: 1595.94\tvalid_0's l2: 2.54704e+06\n",
      "[659]\tvalid_0's rmse: 1595.84\tvalid_0's l2: 2.54669e+06\n",
      "[660]\tvalid_0's rmse: 1595.75\tvalid_0's l2: 2.54643e+06\n",
      "[661]\tvalid_0's rmse: 1595.6\tvalid_0's l2: 2.54594e+06\n",
      "[662]\tvalid_0's rmse: 1595.44\tvalid_0's l2: 2.54543e+06\n",
      "[663]\tvalid_0's rmse: 1595.29\tvalid_0's l2: 2.54496e+06\n",
      "[664]\tvalid_0's rmse: 1595.14\tvalid_0's l2: 2.54448e+06\n",
      "[665]\tvalid_0's rmse: 1595.04\tvalid_0's l2: 2.54415e+06\n",
      "[666]\tvalid_0's rmse: 1594.95\tvalid_0's l2: 2.54387e+06\n",
      "[667]\tvalid_0's rmse: 1594.85\tvalid_0's l2: 2.54356e+06\n",
      "[668]\tvalid_0's rmse: 1594.71\tvalid_0's l2: 2.54309e+06\n",
      "[669]\tvalid_0's rmse: 1594.64\tvalid_0's l2: 2.54287e+06\n",
      "[670]\tvalid_0's rmse: 1594.54\tvalid_0's l2: 2.54255e+06\n",
      "[671]\tvalid_0's rmse: 1594.41\tvalid_0's l2: 2.54215e+06\n",
      "[672]\tvalid_0's rmse: 1594.33\tvalid_0's l2: 2.5419e+06\n",
      "[673]\tvalid_0's rmse: 1594.22\tvalid_0's l2: 2.54152e+06\n",
      "[674]\tvalid_0's rmse: 1594.09\tvalid_0's l2: 2.54112e+06\n",
      "[675]\tvalid_0's rmse: 1594.03\tvalid_0's l2: 2.54093e+06\n",
      "[676]\tvalid_0's rmse: 1593.89\tvalid_0's l2: 2.54047e+06\n",
      "[677]\tvalid_0's rmse: 1593.79\tvalid_0's l2: 2.54016e+06\n",
      "[678]\tvalid_0's rmse: 1593.64\tvalid_0's l2: 2.5397e+06\n",
      "[679]\tvalid_0's rmse: 1593.59\tvalid_0's l2: 2.53951e+06\n",
      "[680]\tvalid_0's rmse: 1593.47\tvalid_0's l2: 2.53914e+06\n",
      "[681]\tvalid_0's rmse: 1593.26\tvalid_0's l2: 2.53848e+06\n",
      "[682]\tvalid_0's rmse: 1593.06\tvalid_0's l2: 2.53783e+06\n",
      "[683]\tvalid_0's rmse: 1592.87\tvalid_0's l2: 2.53724e+06\n",
      "[684]\tvalid_0's rmse: 1592.68\tvalid_0's l2: 2.53663e+06\n",
      "[685]\tvalid_0's rmse: 1592.46\tvalid_0's l2: 2.53593e+06\n",
      "[686]\tvalid_0's rmse: 1592.24\tvalid_0's l2: 2.53523e+06\n",
      "[687]\tvalid_0's rmse: 1592.1\tvalid_0's l2: 2.53477e+06\n",
      "[688]\tvalid_0's rmse: 1591.89\tvalid_0's l2: 2.53411e+06\n",
      "[689]\tvalid_0's rmse: 1591.68\tvalid_0's l2: 2.53345e+06\n",
      "[690]\tvalid_0's rmse: 1591.49\tvalid_0's l2: 2.53285e+06\n",
      "[691]\tvalid_0's rmse: 1591.28\tvalid_0's l2: 2.53218e+06\n",
      "[692]\tvalid_0's rmse: 1591.07\tvalid_0's l2: 2.53152e+06\n",
      "[693]\tvalid_0's rmse: 1590.92\tvalid_0's l2: 2.53103e+06\n",
      "[694]\tvalid_0's rmse: 1590.71\tvalid_0's l2: 2.53036e+06\n",
      "[695]\tvalid_0's rmse: 1590.55\tvalid_0's l2: 2.52986e+06\n",
      "[696]\tvalid_0's rmse: 1590.4\tvalid_0's l2: 2.52938e+06\n",
      "[697]\tvalid_0's rmse: 1590.23\tvalid_0's l2: 2.52884e+06\n",
      "[698]\tvalid_0's rmse: 1590.1\tvalid_0's l2: 2.52843e+06\n",
      "[699]\tvalid_0's rmse: 1589.94\tvalid_0's l2: 2.52792e+06\n",
      "[700]\tvalid_0's rmse: 1589.79\tvalid_0's l2: 2.52742e+06\n",
      "[701]\tvalid_0's rmse: 1589.7\tvalid_0's l2: 2.52713e+06\n",
      "[702]\tvalid_0's rmse: 1589.6\tvalid_0's l2: 2.52683e+06\n",
      "[703]\tvalid_0's rmse: 1589.51\tvalid_0's l2: 2.52655e+06\n",
      "[704]\tvalid_0's rmse: 1589.4\tvalid_0's l2: 2.5262e+06\n",
      "[705]\tvalid_0's rmse: 1589.29\tvalid_0's l2: 2.52583e+06\n",
      "[706]\tvalid_0's rmse: 1589.19\tvalid_0's l2: 2.52554e+06\n",
      "[707]\tvalid_0's rmse: 1589.11\tvalid_0's l2: 2.52527e+06\n",
      "[708]\tvalid_0's rmse: 1589.02\tvalid_0's l2: 2.52498e+06\n",
      "[709]\tvalid_0's rmse: 1588.94\tvalid_0's l2: 2.52473e+06\n",
      "[710]\tvalid_0's rmse: 1588.76\tvalid_0's l2: 2.52415e+06\n",
      "[711]\tvalid_0's rmse: 1588.68\tvalid_0's l2: 2.52389e+06\n",
      "[712]\tvalid_0's rmse: 1588.59\tvalid_0's l2: 2.52363e+06\n",
      "[713]\tvalid_0's rmse: 1588.5\tvalid_0's l2: 2.52334e+06\n",
      "[714]\tvalid_0's rmse: 1588.32\tvalid_0's l2: 2.52277e+06\n",
      "[715]\tvalid_0's rmse: 1588.24\tvalid_0's l2: 2.52251e+06\n",
      "[716]\tvalid_0's rmse: 1588.09\tvalid_0's l2: 2.52201e+06\n",
      "[717]\tvalid_0's rmse: 1587.96\tvalid_0's l2: 2.52163e+06\n",
      "[718]\tvalid_0's rmse: 1587.87\tvalid_0's l2: 2.52132e+06\n",
      "[719]\tvalid_0's rmse: 1587.67\tvalid_0's l2: 2.52071e+06\n",
      "[720]\tvalid_0's rmse: 1587.6\tvalid_0's l2: 2.52047e+06\n",
      "[721]\tvalid_0's rmse: 1587.49\tvalid_0's l2: 2.52013e+06\n",
      "[722]\tvalid_0's rmse: 1587.38\tvalid_0's l2: 2.51978e+06\n",
      "[723]\tvalid_0's rmse: 1587.29\tvalid_0's l2: 2.51949e+06\n",
      "[724]\tvalid_0's rmse: 1587.2\tvalid_0's l2: 2.51921e+06\n",
      "[725]\tvalid_0's rmse: 1587.09\tvalid_0's l2: 2.51885e+06\n",
      "[726]\tvalid_0's rmse: 1587.01\tvalid_0's l2: 2.5186e+06\n",
      "[727]\tvalid_0's rmse: 1586.91\tvalid_0's l2: 2.51829e+06\n",
      "[728]\tvalid_0's rmse: 1586.84\tvalid_0's l2: 2.51808e+06\n",
      "[729]\tvalid_0's rmse: 1586.78\tvalid_0's l2: 2.51788e+06\n",
      "[730]\tvalid_0's rmse: 1586.71\tvalid_0's l2: 2.51764e+06\n",
      "[731]\tvalid_0's rmse: 1586.65\tvalid_0's l2: 2.51746e+06\n",
      "[732]\tvalid_0's rmse: 1586.57\tvalid_0's l2: 2.51722e+06\n",
      "[733]\tvalid_0's rmse: 1586.4\tvalid_0's l2: 2.51666e+06\n",
      "[734]\tvalid_0's rmse: 1586.3\tvalid_0's l2: 2.51636e+06\n",
      "[735]\tvalid_0's rmse: 1586.22\tvalid_0's l2: 2.51608e+06\n",
      "[736]\tvalid_0's rmse: 1586.05\tvalid_0's l2: 2.51555e+06\n",
      "[737]\tvalid_0's rmse: 1585.9\tvalid_0's l2: 2.51507e+06\n",
      "[738]\tvalid_0's rmse: 1585.7\tvalid_0's l2: 2.51445e+06\n",
      "[739]\tvalid_0's rmse: 1585.65\tvalid_0's l2: 2.5143e+06\n",
      "[740]\tvalid_0's rmse: 1585.46\tvalid_0's l2: 2.5137e+06\n",
      "[741]\tvalid_0's rmse: 1585.35\tvalid_0's l2: 2.51333e+06\n",
      "[742]\tvalid_0's rmse: 1585.24\tvalid_0's l2: 2.51298e+06\n",
      "[743]\tvalid_0's rmse: 1585.13\tvalid_0's l2: 2.51264e+06\n"
     ]
    },
    {
     "name": "stdout",
     "output_type": "stream",
     "text": [
      "[744]\tvalid_0's rmse: 1585.02\tvalid_0's l2: 2.51228e+06\n",
      "[745]\tvalid_0's rmse: 1584.93\tvalid_0's l2: 2.512e+06\n",
      "[746]\tvalid_0's rmse: 1584.84\tvalid_0's l2: 2.51172e+06\n",
      "[747]\tvalid_0's rmse: 1584.73\tvalid_0's l2: 2.51136e+06\n",
      "[748]\tvalid_0's rmse: 1584.6\tvalid_0's l2: 2.51097e+06\n",
      "[749]\tvalid_0's rmse: 1584.49\tvalid_0's l2: 2.5106e+06\n",
      "[750]\tvalid_0's rmse: 1584.37\tvalid_0's l2: 2.51023e+06\n",
      "[751]\tvalid_0's rmse: 1584.26\tvalid_0's l2: 2.50987e+06\n",
      "[752]\tvalid_0's rmse: 1584.16\tvalid_0's l2: 2.50955e+06\n",
      "[753]\tvalid_0's rmse: 1584.04\tvalid_0's l2: 2.50919e+06\n",
      "[754]\tvalid_0's rmse: 1583.96\tvalid_0's l2: 2.50892e+06\n",
      "[755]\tvalid_0's rmse: 1583.85\tvalid_0's l2: 2.50858e+06\n",
      "[756]\tvalid_0's rmse: 1583.76\tvalid_0's l2: 2.50829e+06\n",
      "[757]\tvalid_0's rmse: 1583.66\tvalid_0's l2: 2.50798e+06\n",
      "[758]\tvalid_0's rmse: 1583.6\tvalid_0's l2: 2.50778e+06\n",
      "[759]\tvalid_0's rmse: 1583.44\tvalid_0's l2: 2.50727e+06\n",
      "[760]\tvalid_0's rmse: 1583.34\tvalid_0's l2: 2.50697e+06\n",
      "[761]\tvalid_0's rmse: 1583.13\tvalid_0's l2: 2.5063e+06\n",
      "[762]\tvalid_0's rmse: 1583.01\tvalid_0's l2: 2.50591e+06\n",
      "[763]\tvalid_0's rmse: 1582.8\tvalid_0's l2: 2.50527e+06\n",
      "[764]\tvalid_0's rmse: 1582.71\tvalid_0's l2: 2.50499e+06\n",
      "[765]\tvalid_0's rmse: 1582.5\tvalid_0's l2: 2.50431e+06\n",
      "[766]\tvalid_0's rmse: 1582.4\tvalid_0's l2: 2.504e+06\n",
      "[767]\tvalid_0's rmse: 1582.2\tvalid_0's l2: 2.50335e+06\n",
      "[768]\tvalid_0's rmse: 1582.07\tvalid_0's l2: 2.50293e+06\n",
      "[769]\tvalid_0's rmse: 1581.95\tvalid_0's l2: 2.50257e+06\n",
      "[770]\tvalid_0's rmse: 1581.81\tvalid_0's l2: 2.50211e+06\n",
      "[771]\tvalid_0's rmse: 1581.69\tvalid_0's l2: 2.50175e+06\n",
      "[772]\tvalid_0's rmse: 1581.51\tvalid_0's l2: 2.50117e+06\n",
      "[773]\tvalid_0's rmse: 1581.33\tvalid_0's l2: 2.50059e+06\n",
      "[774]\tvalid_0's rmse: 1581.05\tvalid_0's l2: 2.49972e+06\n",
      "[775]\tvalid_0's rmse: 1580.89\tvalid_0's l2: 2.4992e+06\n",
      "[776]\tvalid_0's rmse: 1580.63\tvalid_0's l2: 2.49838e+06\n",
      "[777]\tvalid_0's rmse: 1580.37\tvalid_0's l2: 2.49756e+06\n",
      "[778]\tvalid_0's rmse: 1580.21\tvalid_0's l2: 2.49708e+06\n",
      "[779]\tvalid_0's rmse: 1579.96\tvalid_0's l2: 2.49628e+06\n",
      "[780]\tvalid_0's rmse: 1579.82\tvalid_0's l2: 2.49582e+06\n",
      "[781]\tvalid_0's rmse: 1579.62\tvalid_0's l2: 2.4952e+06\n",
      "[782]\tvalid_0's rmse: 1579.44\tvalid_0's l2: 2.49462e+06\n",
      "[783]\tvalid_0's rmse: 1579.22\tvalid_0's l2: 2.49395e+06\n",
      "[784]\tvalid_0's rmse: 1579.02\tvalid_0's l2: 2.49329e+06\n",
      "[785]\tvalid_0's rmse: 1578.83\tvalid_0's l2: 2.49269e+06\n",
      "[786]\tvalid_0's rmse: 1578.66\tvalid_0's l2: 2.49215e+06\n",
      "[787]\tvalid_0's rmse: 1578.5\tvalid_0's l2: 2.49166e+06\n",
      "[788]\tvalid_0's rmse: 1578.33\tvalid_0's l2: 2.49114e+06\n",
      "[789]\tvalid_0's rmse: 1578.18\tvalid_0's l2: 2.49064e+06\n",
      "[790]\tvalid_0's rmse: 1578.01\tvalid_0's l2: 2.4901e+06\n",
      "[791]\tvalid_0's rmse: 1577.83\tvalid_0's l2: 2.48956e+06\n",
      "[792]\tvalid_0's rmse: 1577.61\tvalid_0's l2: 2.48886e+06\n",
      "[793]\tvalid_0's rmse: 1577.42\tvalid_0's l2: 2.48825e+06\n",
      "[794]\tvalid_0's rmse: 1577.19\tvalid_0's l2: 2.48754e+06\n",
      "[795]\tvalid_0's rmse: 1576.99\tvalid_0's l2: 2.48689e+06\n",
      "[796]\tvalid_0's rmse: 1576.8\tvalid_0's l2: 2.48629e+06\n",
      "[797]\tvalid_0's rmse: 1576.59\tvalid_0's l2: 2.48564e+06\n",
      "[798]\tvalid_0's rmse: 1576.43\tvalid_0's l2: 2.48514e+06\n",
      "[799]\tvalid_0's rmse: 1576.22\tvalid_0's l2: 2.48447e+06\n",
      "[800]\tvalid_0's rmse: 1576.1\tvalid_0's l2: 2.4841e+06\n",
      "[801]\tvalid_0's rmse: 1575.99\tvalid_0's l2: 2.48375e+06\n",
      "[802]\tvalid_0's rmse: 1575.89\tvalid_0's l2: 2.48343e+06\n",
      "[803]\tvalid_0's rmse: 1575.82\tvalid_0's l2: 2.4832e+06\n",
      "[804]\tvalid_0's rmse: 1575.74\tvalid_0's l2: 2.48297e+06\n",
      "[805]\tvalid_0's rmse: 1575.68\tvalid_0's l2: 2.48277e+06\n",
      "[806]\tvalid_0's rmse: 1575.55\tvalid_0's l2: 2.48235e+06\n",
      "[807]\tvalid_0's rmse: 1575.45\tvalid_0's l2: 2.48206e+06\n",
      "[808]\tvalid_0's rmse: 1575.35\tvalid_0's l2: 2.48172e+06\n",
      "[809]\tvalid_0's rmse: 1575.26\tvalid_0's l2: 2.48145e+06\n",
      "[810]\tvalid_0's rmse: 1575.18\tvalid_0's l2: 2.48121e+06\n",
      "[811]\tvalid_0's rmse: 1575.1\tvalid_0's l2: 2.48093e+06\n",
      "[812]\tvalid_0's rmse: 1575.02\tvalid_0's l2: 2.48069e+06\n",
      "[813]\tvalid_0's rmse: 1574.95\tvalid_0's l2: 2.48047e+06\n",
      "[814]\tvalid_0's rmse: 1574.86\tvalid_0's l2: 2.48018e+06\n",
      "[815]\tvalid_0's rmse: 1574.74\tvalid_0's l2: 2.47981e+06\n",
      "[816]\tvalid_0's rmse: 1574.63\tvalid_0's l2: 2.47946e+06\n",
      "[817]\tvalid_0's rmse: 1574.53\tvalid_0's l2: 2.47913e+06\n",
      "[818]\tvalid_0's rmse: 1574.45\tvalid_0's l2: 2.47889e+06\n",
      "[819]\tvalid_0's rmse: 1574.33\tvalid_0's l2: 2.47852e+06\n",
      "[820]\tvalid_0's rmse: 1574.24\tvalid_0's l2: 2.47824e+06\n",
      "[821]\tvalid_0's rmse: 1573.99\tvalid_0's l2: 2.47744e+06\n",
      "[822]\tvalid_0's rmse: 1573.74\tvalid_0's l2: 2.47665e+06\n",
      "[823]\tvalid_0's rmse: 1573.5\tvalid_0's l2: 2.47589e+06\n",
      "[824]\tvalid_0's rmse: 1573.28\tvalid_0's l2: 2.47522e+06\n",
      "[825]\tvalid_0's rmse: 1573.07\tvalid_0's l2: 2.47456e+06\n",
      "[826]\tvalid_0's rmse: 1572.87\tvalid_0's l2: 2.47393e+06\n",
      "[827]\tvalid_0's rmse: 1572.68\tvalid_0's l2: 2.47332e+06\n",
      "[828]\tvalid_0's rmse: 1572.5\tvalid_0's l2: 2.47275e+06\n",
      "[829]\tvalid_0's rmse: 1572.31\tvalid_0's l2: 2.47216e+06\n",
      "[830]\tvalid_0's rmse: 1572.14\tvalid_0's l2: 2.47162e+06\n",
      "[831]\tvalid_0's rmse: 1571.95\tvalid_0's l2: 2.47103e+06\n",
      "[832]\tvalid_0's rmse: 1571.79\tvalid_0's l2: 2.47053e+06\n",
      "[833]\tvalid_0's rmse: 1571.63\tvalid_0's l2: 2.47003e+06\n",
      "[834]\tvalid_0's rmse: 1571.47\tvalid_0's l2: 2.46952e+06\n",
      "[835]\tvalid_0's rmse: 1571.25\tvalid_0's l2: 2.46881e+06\n",
      "[836]\tvalid_0's rmse: 1571.07\tvalid_0's l2: 2.46826e+06\n",
      "[837]\tvalid_0's rmse: 1570.91\tvalid_0's l2: 2.46777e+06\n",
      "[838]\tvalid_0's rmse: 1570.79\tvalid_0's l2: 2.46738e+06\n",
      "[839]\tvalid_0's rmse: 1570.6\tvalid_0's l2: 2.46677e+06\n",
      "[840]\tvalid_0's rmse: 1570.46\tvalid_0's l2: 2.46636e+06\n",
      "[841]\tvalid_0's rmse: 1570.43\tvalid_0's l2: 2.46625e+06\n",
      "[842]\tvalid_0's rmse: 1570.4\tvalid_0's l2: 2.46615e+06\n",
      "[843]\tvalid_0's rmse: 1570.35\tvalid_0's l2: 2.466e+06\n",
      "[844]\tvalid_0's rmse: 1570.3\tvalid_0's l2: 2.46585e+06\n",
      "[845]\tvalid_0's rmse: 1570.25\tvalid_0's l2: 2.46568e+06\n",
      "[846]\tvalid_0's rmse: 1570.21\tvalid_0's l2: 2.46555e+06\n",
      "[847]\tvalid_0's rmse: 1570.15\tvalid_0's l2: 2.46537e+06\n",
      "[848]\tvalid_0's rmse: 1570.11\tvalid_0's l2: 2.46525e+06\n",
      "[849]\tvalid_0's rmse: 1570.06\tvalid_0's l2: 2.46508e+06\n",
      "[850]\tvalid_0's rmse: 1569.98\tvalid_0's l2: 2.46483e+06\n",
      "[851]\tvalid_0's rmse: 1569.9\tvalid_0's l2: 2.46459e+06\n",
      "[852]\tvalid_0's rmse: 1569.82\tvalid_0's l2: 2.46434e+06\n",
      "[853]\tvalid_0's rmse: 1569.77\tvalid_0's l2: 2.46418e+06\n",
      "[854]\tvalid_0's rmse: 1569.7\tvalid_0's l2: 2.46396e+06\n",
      "[855]\tvalid_0's rmse: 1569.64\tvalid_0's l2: 2.46377e+06\n",
      "[856]\tvalid_0's rmse: 1569.6\tvalid_0's l2: 2.46363e+06\n",
      "[857]\tvalid_0's rmse: 1569.53\tvalid_0's l2: 2.46344e+06\n",
      "[858]\tvalid_0's rmse: 1569.46\tvalid_0's l2: 2.46321e+06\n",
      "[859]\tvalid_0's rmse: 1569.27\tvalid_0's l2: 2.46261e+06\n",
      "[860]\tvalid_0's rmse: 1569.09\tvalid_0's l2: 2.46205e+06\n",
      "[861]\tvalid_0's rmse: 1569.05\tvalid_0's l2: 2.46192e+06\n",
      "[862]\tvalid_0's rmse: 1569.01\tvalid_0's l2: 2.46179e+06\n",
      "[863]\tvalid_0's rmse: 1568.97\tvalid_0's l2: 2.46167e+06\n",
      "[864]\tvalid_0's rmse: 1568.93\tvalid_0's l2: 2.46155e+06\n",
      "[865]\tvalid_0's rmse: 1568.89\tvalid_0's l2: 2.46141e+06\n",
      "[866]\tvalid_0's rmse: 1568.86\tvalid_0's l2: 2.46131e+06\n",
      "[867]\tvalid_0's rmse: 1568.81\tvalid_0's l2: 2.46118e+06\n",
      "[868]\tvalid_0's rmse: 1568.77\tvalid_0's l2: 2.46104e+06\n",
      "[869]\tvalid_0's rmse: 1568.74\tvalid_0's l2: 2.46095e+06\n",
      "[870]\tvalid_0's rmse: 1568.7\tvalid_0's l2: 2.46083e+06\n",
      "[871]\tvalid_0's rmse: 1568.66\tvalid_0's l2: 2.4607e+06\n",
      "[872]\tvalid_0's rmse: 1568.61\tvalid_0's l2: 2.46055e+06\n",
      "[873]\tvalid_0's rmse: 1568.58\tvalid_0's l2: 2.46045e+06\n",
      "[874]\tvalid_0's rmse: 1568.57\tvalid_0's l2: 2.4604e+06\n",
      "[875]\tvalid_0's rmse: 1568.53\tvalid_0's l2: 2.46028e+06\n",
      "[876]\tvalid_0's rmse: 1568.49\tvalid_0's l2: 2.46016e+06\n",
      "[877]\tvalid_0's rmse: 1568.45\tvalid_0's l2: 2.46004e+06\n",
      "[878]\tvalid_0's rmse: 1568.39\tvalid_0's l2: 2.45985e+06\n",
      "[879]\tvalid_0's rmse: 1568.32\tvalid_0's l2: 2.45962e+06\n",
      "[880]\tvalid_0's rmse: 1568.29\tvalid_0's l2: 2.45954e+06\n",
      "[881]\tvalid_0's rmse: 1568.19\tvalid_0's l2: 2.45921e+06\n",
      "[882]\tvalid_0's rmse: 1568.08\tvalid_0's l2: 2.45888e+06\n",
      "[883]\tvalid_0's rmse: 1567.97\tvalid_0's l2: 2.45852e+06\n",
      "[884]\tvalid_0's rmse: 1567.86\tvalid_0's l2: 2.45818e+06\n",
      "[885]\tvalid_0's rmse: 1567.73\tvalid_0's l2: 2.45779e+06\n",
      "[886]\tvalid_0's rmse: 1567.62\tvalid_0's l2: 2.45743e+06\n",
      "[887]\tvalid_0's rmse: 1567.48\tvalid_0's l2: 2.45699e+06\n",
      "[888]\tvalid_0's rmse: 1567.36\tvalid_0's l2: 2.45663e+06\n",
      "[889]\tvalid_0's rmse: 1567.25\tvalid_0's l2: 2.45628e+06\n",
      "[890]\tvalid_0's rmse: 1567.12\tvalid_0's l2: 2.45586e+06\n",
      "[891]\tvalid_0's rmse: 1567.02\tvalid_0's l2: 2.45556e+06\n",
      "[892]\tvalid_0's rmse: 1566.89\tvalid_0's l2: 2.45514e+06\n",
      "[893]\tvalid_0's rmse: 1566.79\tvalid_0's l2: 2.45483e+06\n",
      "[894]\tvalid_0's rmse: 1566.69\tvalid_0's l2: 2.45452e+06\n",
      "[895]\tvalid_0's rmse: 1566.55\tvalid_0's l2: 2.45407e+06\n"
     ]
    },
    {
     "name": "stdout",
     "output_type": "stream",
     "text": [
      "[896]\tvalid_0's rmse: 1566.44\tvalid_0's l2: 2.45374e+06\n",
      "[897]\tvalid_0's rmse: 1566.3\tvalid_0's l2: 2.4533e+06\n",
      "[898]\tvalid_0's rmse: 1566.17\tvalid_0's l2: 2.45288e+06\n",
      "[899]\tvalid_0's rmse: 1566.02\tvalid_0's l2: 2.45243e+06\n",
      "[900]\tvalid_0's rmse: 1565.89\tvalid_0's l2: 2.45201e+06\n",
      "[901]\tvalid_0's rmse: 1565.73\tvalid_0's l2: 2.4515e+06\n",
      "[902]\tvalid_0's rmse: 1565.58\tvalid_0's l2: 2.45104e+06\n",
      "[903]\tvalid_0's rmse: 1565.45\tvalid_0's l2: 2.45063e+06\n",
      "[904]\tvalid_0's rmse: 1565.34\tvalid_0's l2: 2.45028e+06\n",
      "[905]\tvalid_0's rmse: 1565.24\tvalid_0's l2: 2.44996e+06\n",
      "[906]\tvalid_0's rmse: 1565.17\tvalid_0's l2: 2.44977e+06\n",
      "[907]\tvalid_0's rmse: 1565.09\tvalid_0's l2: 2.4495e+06\n",
      "[908]\tvalid_0's rmse: 1565.04\tvalid_0's l2: 2.44934e+06\n",
      "[909]\tvalid_0's rmse: 1564.93\tvalid_0's l2: 2.44899e+06\n",
      "[910]\tvalid_0's rmse: 1564.85\tvalid_0's l2: 2.44876e+06\n",
      "[911]\tvalid_0's rmse: 1564.78\tvalid_0's l2: 2.44854e+06\n",
      "[912]\tvalid_0's rmse: 1564.67\tvalid_0's l2: 2.44819e+06\n",
      "[913]\tvalid_0's rmse: 1564.61\tvalid_0's l2: 2.448e+06\n",
      "[914]\tvalid_0's rmse: 1564.51\tvalid_0's l2: 2.44769e+06\n",
      "[915]\tvalid_0's rmse: 1564.43\tvalid_0's l2: 2.44744e+06\n",
      "[916]\tvalid_0's rmse: 1564.36\tvalid_0's l2: 2.44723e+06\n",
      "[917]\tvalid_0's rmse: 1564.24\tvalid_0's l2: 2.44685e+06\n",
      "[918]\tvalid_0's rmse: 1564.13\tvalid_0's l2: 2.4465e+06\n",
      "[919]\tvalid_0's rmse: 1564.04\tvalid_0's l2: 2.44623e+06\n",
      "[920]\tvalid_0's rmse: 1563.99\tvalid_0's l2: 2.44607e+06\n",
      "[921]\tvalid_0's rmse: 1563.86\tvalid_0's l2: 2.44567e+06\n",
      "[922]\tvalid_0's rmse: 1563.73\tvalid_0's l2: 2.44526e+06\n",
      "[923]\tvalid_0's rmse: 1563.58\tvalid_0's l2: 2.44478e+06\n",
      "[924]\tvalid_0's rmse: 1563.45\tvalid_0's l2: 2.44439e+06\n",
      "[925]\tvalid_0's rmse: 1563.29\tvalid_0's l2: 2.44389e+06\n",
      "[926]\tvalid_0's rmse: 1563.12\tvalid_0's l2: 2.44333e+06\n",
      "[927]\tvalid_0's rmse: 1563\tvalid_0's l2: 2.44298e+06\n",
      "[928]\tvalid_0's rmse: 1562.84\tvalid_0's l2: 2.44246e+06\n",
      "[929]\tvalid_0's rmse: 1562.69\tvalid_0's l2: 2.44199e+06\n",
      "[930]\tvalid_0's rmse: 1562.53\tvalid_0's l2: 2.44151e+06\n",
      "[931]\tvalid_0's rmse: 1562.43\tvalid_0's l2: 2.4412e+06\n",
      "[932]\tvalid_0's rmse: 1562.29\tvalid_0's l2: 2.44076e+06\n",
      "[933]\tvalid_0's rmse: 1562.16\tvalid_0's l2: 2.44036e+06\n",
      "[934]\tvalid_0's rmse: 1562.03\tvalid_0's l2: 2.43993e+06\n",
      "[935]\tvalid_0's rmse: 1561.94\tvalid_0's l2: 2.43965e+06\n",
      "[936]\tvalid_0's rmse: 1561.83\tvalid_0's l2: 2.43931e+06\n",
      "[937]\tvalid_0's rmse: 1561.75\tvalid_0's l2: 2.43906e+06\n",
      "[938]\tvalid_0's rmse: 1561.62\tvalid_0's l2: 2.43866e+06\n",
      "[939]\tvalid_0's rmse: 1561.57\tvalid_0's l2: 2.43849e+06\n",
      "[940]\tvalid_0's rmse: 1561.46\tvalid_0's l2: 2.43816e+06\n",
      "[941]\tvalid_0's rmse: 1561.3\tvalid_0's l2: 2.43765e+06\n",
      "[942]\tvalid_0's rmse: 1561.13\tvalid_0's l2: 2.43713e+06\n",
      "[943]\tvalid_0's rmse: 1560.95\tvalid_0's l2: 2.43656e+06\n",
      "[944]\tvalid_0's rmse: 1560.8\tvalid_0's l2: 2.43609e+06\n",
      "[945]\tvalid_0's rmse: 1560.65\tvalid_0's l2: 2.43562e+06\n",
      "[946]\tvalid_0's rmse: 1560.49\tvalid_0's l2: 2.43514e+06\n",
      "[947]\tvalid_0's rmse: 1560.34\tvalid_0's l2: 2.43467e+06\n",
      "[948]\tvalid_0's rmse: 1560.23\tvalid_0's l2: 2.4343e+06\n",
      "[949]\tvalid_0's rmse: 1560.08\tvalid_0's l2: 2.43386e+06\n",
      "[950]\tvalid_0's rmse: 1559.97\tvalid_0's l2: 2.43352e+06\n",
      "[951]\tvalid_0's rmse: 1559.84\tvalid_0's l2: 2.43311e+06\n",
      "[952]\tvalid_0's rmse: 1559.74\tvalid_0's l2: 2.43278e+06\n",
      "[953]\tvalid_0's rmse: 1559.57\tvalid_0's l2: 2.43226e+06\n",
      "[954]\tvalid_0's rmse: 1559.44\tvalid_0's l2: 2.43186e+06\n",
      "[955]\tvalid_0's rmse: 1559.31\tvalid_0's l2: 2.43145e+06\n",
      "[956]\tvalid_0's rmse: 1559.21\tvalid_0's l2: 2.43114e+06\n",
      "[957]\tvalid_0's rmse: 1559.09\tvalid_0's l2: 2.43075e+06\n",
      "[958]\tvalid_0's rmse: 1558.93\tvalid_0's l2: 2.43025e+06\n",
      "[959]\tvalid_0's rmse: 1558.84\tvalid_0's l2: 2.42999e+06\n",
      "[960]\tvalid_0's rmse: 1558.73\tvalid_0's l2: 2.42963e+06\n",
      "[961]\tvalid_0's rmse: 1558.61\tvalid_0's l2: 2.42926e+06\n",
      "[962]\tvalid_0's rmse: 1558.5\tvalid_0's l2: 2.42892e+06\n",
      "[963]\tvalid_0's rmse: 1558.38\tvalid_0's l2: 2.42856e+06\n",
      "[964]\tvalid_0's rmse: 1558.28\tvalid_0's l2: 2.42823e+06\n",
      "[965]\tvalid_0's rmse: 1558.18\tvalid_0's l2: 2.42792e+06\n",
      "[966]\tvalid_0's rmse: 1558.1\tvalid_0's l2: 2.42768e+06\n",
      "[967]\tvalid_0's rmse: 1558\tvalid_0's l2: 2.42737e+06\n",
      "[968]\tvalid_0's rmse: 1557.94\tvalid_0's l2: 2.42718e+06\n",
      "[969]\tvalid_0's rmse: 1557.84\tvalid_0's l2: 2.42687e+06\n",
      "[970]\tvalid_0's rmse: 1557.78\tvalid_0's l2: 2.42667e+06\n",
      "[971]\tvalid_0's rmse: 1557.7\tvalid_0's l2: 2.42642e+06\n",
      "[972]\tvalid_0's rmse: 1557.66\tvalid_0's l2: 2.4263e+06\n",
      "[973]\tvalid_0's rmse: 1557.56\tvalid_0's l2: 2.42599e+06\n",
      "[974]\tvalid_0's rmse: 1557.51\tvalid_0's l2: 2.42585e+06\n",
      "[975]\tvalid_0's rmse: 1557.44\tvalid_0's l2: 2.42562e+06\n",
      "[976]\tvalid_0's rmse: 1557.4\tvalid_0's l2: 2.4255e+06\n",
      "[977]\tvalid_0's rmse: 1557.32\tvalid_0's l2: 2.42524e+06\n",
      "[978]\tvalid_0's rmse: 1557.26\tvalid_0's l2: 2.42505e+06\n",
      "[979]\tvalid_0's rmse: 1557.18\tvalid_0's l2: 2.4248e+06\n",
      "[980]\tvalid_0's rmse: 1557.13\tvalid_0's l2: 2.42467e+06\n",
      "[981]\tvalid_0's rmse: 1557.05\tvalid_0's l2: 2.42439e+06\n",
      "[982]\tvalid_0's rmse: 1556.98\tvalid_0's l2: 2.42419e+06\n",
      "[983]\tvalid_0's rmse: 1556.9\tvalid_0's l2: 2.42395e+06\n",
      "[984]\tvalid_0's rmse: 1556.84\tvalid_0's l2: 2.42376e+06\n",
      "[985]\tvalid_0's rmse: 1556.78\tvalid_0's l2: 2.42355e+06\n",
      "[986]\tvalid_0's rmse: 1556.72\tvalid_0's l2: 2.42338e+06\n",
      "[987]\tvalid_0's rmse: 1556.65\tvalid_0's l2: 2.42316e+06\n",
      "[988]\tvalid_0's rmse: 1556.6\tvalid_0's l2: 2.42301e+06\n",
      "[989]\tvalid_0's rmse: 1556.55\tvalid_0's l2: 2.42283e+06\n",
      "[990]\tvalid_0's rmse: 1556.5\tvalid_0's l2: 2.42269e+06\n",
      "[991]\tvalid_0's rmse: 1556.46\tvalid_0's l2: 2.42256e+06\n",
      "[992]\tvalid_0's rmse: 1556.41\tvalid_0's l2: 2.4224e+06\n",
      "[993]\tvalid_0's rmse: 1556.36\tvalid_0's l2: 2.42226e+06\n",
      "[994]\tvalid_0's rmse: 1556.34\tvalid_0's l2: 2.42218e+06\n",
      "[995]\tvalid_0's rmse: 1556.3\tvalid_0's l2: 2.42206e+06\n",
      "[996]\tvalid_0's rmse: 1556.27\tvalid_0's l2: 2.42198e+06\n",
      "[997]\tvalid_0's rmse: 1556.22\tvalid_0's l2: 2.42183e+06\n",
      "[998]\tvalid_0's rmse: 1556.18\tvalid_0's l2: 2.4217e+06\n",
      "[999]\tvalid_0's rmse: 1556.14\tvalid_0's l2: 2.42157e+06\n",
      "[1000]\tvalid_0's rmse: 1556.09\tvalid_0's l2: 2.42142e+06\n",
      "[1001]\tvalid_0's rmse: 1555.93\tvalid_0's l2: 2.42091e+06\n",
      "[1002]\tvalid_0's rmse: 1555.78\tvalid_0's l2: 2.42044e+06\n",
      "[1003]\tvalid_0's rmse: 1555.62\tvalid_0's l2: 2.41997e+06\n",
      "[1004]\tvalid_0's rmse: 1555.54\tvalid_0's l2: 2.41969e+06\n",
      "[1005]\tvalid_0's rmse: 1555.4\tvalid_0's l2: 2.41926e+06\n",
      "[1006]\tvalid_0's rmse: 1555.26\tvalid_0's l2: 2.41883e+06\n",
      "[1007]\tvalid_0's rmse: 1555.13\tvalid_0's l2: 2.41844e+06\n",
      "[1008]\tvalid_0's rmse: 1554.99\tvalid_0's l2: 2.41799e+06\n",
      "[1009]\tvalid_0's rmse: 1554.85\tvalid_0's l2: 2.41755e+06\n",
      "[1010]\tvalid_0's rmse: 1554.71\tvalid_0's l2: 2.41711e+06\n",
      "[1011]\tvalid_0's rmse: 1554.57\tvalid_0's l2: 2.41669e+06\n",
      "[1012]\tvalid_0's rmse: 1554.45\tvalid_0's l2: 2.41631e+06\n",
      "[1013]\tvalid_0's rmse: 1554.36\tvalid_0's l2: 2.41603e+06\n",
      "[1014]\tvalid_0's rmse: 1554.24\tvalid_0's l2: 2.41566e+06\n",
      "[1015]\tvalid_0's rmse: 1554.16\tvalid_0's l2: 2.41542e+06\n",
      "[1016]\tvalid_0's rmse: 1554.09\tvalid_0's l2: 2.41518e+06\n",
      "[1017]\tvalid_0's rmse: 1553.96\tvalid_0's l2: 2.4148e+06\n",
      "[1018]\tvalid_0's rmse: 1553.89\tvalid_0's l2: 2.41459e+06\n",
      "[1019]\tvalid_0's rmse: 1553.82\tvalid_0's l2: 2.41437e+06\n",
      "[1020]\tvalid_0's rmse: 1553.71\tvalid_0's l2: 2.41402e+06\n",
      "[1021]\tvalid_0's rmse: 1553.63\tvalid_0's l2: 2.41377e+06\n",
      "[1022]\tvalid_0's rmse: 1553.56\tvalid_0's l2: 2.41355e+06\n",
      "[1023]\tvalid_0's rmse: 1553.49\tvalid_0's l2: 2.41333e+06\n",
      "[1024]\tvalid_0's rmse: 1553.42\tvalid_0's l2: 2.41312e+06\n",
      "[1025]\tvalid_0's rmse: 1553.35\tvalid_0's l2: 2.41291e+06\n",
      "[1026]\tvalid_0's rmse: 1553.29\tvalid_0's l2: 2.41272e+06\n",
      "[1027]\tvalid_0's rmse: 1553.23\tvalid_0's l2: 2.41253e+06\n",
      "[1028]\tvalid_0's rmse: 1553.14\tvalid_0's l2: 2.41225e+06\n",
      "[1029]\tvalid_0's rmse: 1553.07\tvalid_0's l2: 2.41203e+06\n",
      "[1030]\tvalid_0's rmse: 1552.98\tvalid_0's l2: 2.41176e+06\n",
      "[1031]\tvalid_0's rmse: 1552.92\tvalid_0's l2: 2.41156e+06\n",
      "[1032]\tvalid_0's rmse: 1552.85\tvalid_0's l2: 2.41134e+06\n",
      "[1033]\tvalid_0's rmse: 1552.77\tvalid_0's l2: 2.41108e+06\n",
      "[1034]\tvalid_0's rmse: 1552.69\tvalid_0's l2: 2.41084e+06\n",
      "[1035]\tvalid_0's rmse: 1552.63\tvalid_0's l2: 2.41067e+06\n",
      "[1036]\tvalid_0's rmse: 1552.56\tvalid_0's l2: 2.41046e+06\n",
      "[1037]\tvalid_0's rmse: 1552.48\tvalid_0's l2: 2.41021e+06\n",
      "[1038]\tvalid_0's rmse: 1552.42\tvalid_0's l2: 2.41e+06\n",
      "[1039]\tvalid_0's rmse: 1552.37\tvalid_0's l2: 2.40984e+06\n",
      "[1040]\tvalid_0's rmse: 1552.28\tvalid_0's l2: 2.40958e+06\n",
      "[1041]\tvalid_0's rmse: 1552.21\tvalid_0's l2: 2.40937e+06\n",
      "[1042]\tvalid_0's rmse: 1552.15\tvalid_0's l2: 2.40917e+06\n",
      "[1043]\tvalid_0's rmse: 1552.09\tvalid_0's l2: 2.40898e+06\n",
      "[1044]\tvalid_0's rmse: 1552.04\tvalid_0's l2: 2.40883e+06\n",
      "[1045]\tvalid_0's rmse: 1552\tvalid_0's l2: 2.40871e+06\n",
      "[1046]\tvalid_0's rmse: 1551.94\tvalid_0's l2: 2.40853e+06\n",
      "[1047]\tvalid_0's rmse: 1551.87\tvalid_0's l2: 2.40831e+06\n"
     ]
    },
    {
     "name": "stdout",
     "output_type": "stream",
     "text": [
      "[1048]\tvalid_0's rmse: 1551.8\tvalid_0's l2: 2.40807e+06\n",
      "[1049]\tvalid_0's rmse: 1551.72\tvalid_0's l2: 2.40784e+06\n",
      "[1050]\tvalid_0's rmse: 1551.66\tvalid_0's l2: 2.40764e+06\n",
      "[1051]\tvalid_0's rmse: 1551.59\tvalid_0's l2: 2.40744e+06\n",
      "[1052]\tvalid_0's rmse: 1551.52\tvalid_0's l2: 2.4072e+06\n",
      "[1053]\tvalid_0's rmse: 1551.46\tvalid_0's l2: 2.40704e+06\n",
      "[1054]\tvalid_0's rmse: 1551.41\tvalid_0's l2: 2.40688e+06\n",
      "[1055]\tvalid_0's rmse: 1551.39\tvalid_0's l2: 2.4068e+06\n",
      "[1056]\tvalid_0's rmse: 1551.34\tvalid_0's l2: 2.40666e+06\n",
      "[1057]\tvalid_0's rmse: 1551.32\tvalid_0's l2: 2.40659e+06\n",
      "[1058]\tvalid_0's rmse: 1551.3\tvalid_0's l2: 2.40653e+06\n",
      "[1059]\tvalid_0's rmse: 1551.26\tvalid_0's l2: 2.40642e+06\n",
      "[1060]\tvalid_0's rmse: 1551.24\tvalid_0's l2: 2.40635e+06\n",
      "[1061]\tvalid_0's rmse: 1551.16\tvalid_0's l2: 2.40611e+06\n",
      "[1062]\tvalid_0's rmse: 1551.09\tvalid_0's l2: 2.40588e+06\n",
      "[1063]\tvalid_0's rmse: 1551.02\tvalid_0's l2: 2.40565e+06\n",
      "[1064]\tvalid_0's rmse: 1550.94\tvalid_0's l2: 2.40543e+06\n",
      "[1065]\tvalid_0's rmse: 1550.87\tvalid_0's l2: 2.40521e+06\n",
      "[1066]\tvalid_0's rmse: 1550.79\tvalid_0's l2: 2.40495e+06\n",
      "[1067]\tvalid_0's rmse: 1550.73\tvalid_0's l2: 2.40477e+06\n",
      "[1068]\tvalid_0's rmse: 1550.62\tvalid_0's l2: 2.40442e+06\n",
      "[1069]\tvalid_0's rmse: 1550.54\tvalid_0's l2: 2.40417e+06\n",
      "[1070]\tvalid_0's rmse: 1550.45\tvalid_0's l2: 2.40388e+06\n",
      "[1071]\tvalid_0's rmse: 1550.37\tvalid_0's l2: 2.40365e+06\n",
      "[1072]\tvalid_0's rmse: 1550.28\tvalid_0's l2: 2.40338e+06\n",
      "[1073]\tvalid_0's rmse: 1550.21\tvalid_0's l2: 2.40316e+06\n",
      "[1074]\tvalid_0's rmse: 1550.13\tvalid_0's l2: 2.40291e+06\n",
      "[1075]\tvalid_0's rmse: 1550.03\tvalid_0's l2: 2.40258e+06\n",
      "[1076]\tvalid_0's rmse: 1549.96\tvalid_0's l2: 2.40237e+06\n",
      "[1077]\tvalid_0's rmse: 1549.88\tvalid_0's l2: 2.40212e+06\n",
      "[1078]\tvalid_0's rmse: 1549.83\tvalid_0's l2: 2.40199e+06\n",
      "[1079]\tvalid_0's rmse: 1549.76\tvalid_0's l2: 2.40175e+06\n",
      "[1080]\tvalid_0's rmse: 1549.72\tvalid_0's l2: 2.40164e+06\n",
      "[1081]\tvalid_0's rmse: 1549.65\tvalid_0's l2: 2.40143e+06\n",
      "[1082]\tvalid_0's rmse: 1549.59\tvalid_0's l2: 2.40124e+06\n",
      "[1083]\tvalid_0's rmse: 1549.53\tvalid_0's l2: 2.40105e+06\n",
      "[1084]\tvalid_0's rmse: 1549.48\tvalid_0's l2: 2.40088e+06\n",
      "[1085]\tvalid_0's rmse: 1549.42\tvalid_0's l2: 2.40069e+06\n",
      "[1086]\tvalid_0's rmse: 1549.33\tvalid_0's l2: 2.40042e+06\n",
      "[1087]\tvalid_0's rmse: 1549.28\tvalid_0's l2: 2.40027e+06\n",
      "[1088]\tvalid_0's rmse: 1549.2\tvalid_0's l2: 2.40003e+06\n",
      "[1089]\tvalid_0's rmse: 1549.12\tvalid_0's l2: 2.39976e+06\n",
      "[1090]\tvalid_0's rmse: 1549.04\tvalid_0's l2: 2.39952e+06\n",
      "[1091]\tvalid_0's rmse: 1548.98\tvalid_0's l2: 2.39933e+06\n",
      "[1092]\tvalid_0's rmse: 1548.92\tvalid_0's l2: 2.39916e+06\n",
      "[1093]\tvalid_0's rmse: 1548.87\tvalid_0's l2: 2.399e+06\n",
      "[1094]\tvalid_0's rmse: 1548.82\tvalid_0's l2: 2.39883e+06\n",
      "[1095]\tvalid_0's rmse: 1548.77\tvalid_0's l2: 2.39868e+06\n",
      "[1096]\tvalid_0's rmse: 1548.7\tvalid_0's l2: 2.39848e+06\n",
      "[1097]\tvalid_0's rmse: 1548.65\tvalid_0's l2: 2.39833e+06\n",
      "[1098]\tvalid_0's rmse: 1548.59\tvalid_0's l2: 2.39813e+06\n",
      "[1099]\tvalid_0's rmse: 1548.51\tvalid_0's l2: 2.39787e+06\n",
      "[1100]\tvalid_0's rmse: 1548.44\tvalid_0's l2: 2.39766e+06\n",
      "[1101]\tvalid_0's rmse: 1548.26\tvalid_0's l2: 2.3971e+06\n",
      "[1102]\tvalid_0's rmse: 1548.09\tvalid_0's l2: 2.39657e+06\n",
      "[1103]\tvalid_0's rmse: 1547.91\tvalid_0's l2: 2.39604e+06\n",
      "[1104]\tvalid_0's rmse: 1547.76\tvalid_0's l2: 2.39555e+06\n",
      "[1105]\tvalid_0's rmse: 1547.59\tvalid_0's l2: 2.39503e+06\n",
      "[1106]\tvalid_0's rmse: 1547.42\tvalid_0's l2: 2.39452e+06\n",
      "[1107]\tvalid_0's rmse: 1547.28\tvalid_0's l2: 2.39407e+06\n",
      "[1108]\tvalid_0's rmse: 1547.12\tvalid_0's l2: 2.39359e+06\n",
      "[1109]\tvalid_0's rmse: 1546.99\tvalid_0's l2: 2.39319e+06\n",
      "[1110]\tvalid_0's rmse: 1546.86\tvalid_0's l2: 2.39277e+06\n",
      "[1111]\tvalid_0's rmse: 1546.73\tvalid_0's l2: 2.39238e+06\n",
      "[1112]\tvalid_0's rmse: 1546.58\tvalid_0's l2: 2.39191e+06\n",
      "[1113]\tvalid_0's rmse: 1546.43\tvalid_0's l2: 2.39145e+06\n",
      "[1114]\tvalid_0's rmse: 1546.27\tvalid_0's l2: 2.39096e+06\n",
      "[1115]\tvalid_0's rmse: 1546.13\tvalid_0's l2: 2.39052e+06\n",
      "[1116]\tvalid_0's rmse: 1545.97\tvalid_0's l2: 2.39003e+06\n",
      "[1117]\tvalid_0's rmse: 1545.82\tvalid_0's l2: 2.38955e+06\n",
      "[1118]\tvalid_0's rmse: 1545.69\tvalid_0's l2: 2.38915e+06\n",
      "[1119]\tvalid_0's rmse: 1545.54\tvalid_0's l2: 2.3887e+06\n",
      "[1120]\tvalid_0's rmse: 1545.4\tvalid_0's l2: 2.38827e+06\n",
      "[1121]\tvalid_0's rmse: 1545.32\tvalid_0's l2: 2.38801e+06\n",
      "[1122]\tvalid_0's rmse: 1545.23\tvalid_0's l2: 2.38773e+06\n",
      "[1123]\tvalid_0's rmse: 1545.14\tvalid_0's l2: 2.38745e+06\n",
      "[1124]\tvalid_0's rmse: 1545.06\tvalid_0's l2: 2.38722e+06\n",
      "[1125]\tvalid_0's rmse: 1544.98\tvalid_0's l2: 2.38696e+06\n",
      "[1126]\tvalid_0's rmse: 1544.89\tvalid_0's l2: 2.38668e+06\n",
      "[1127]\tvalid_0's rmse: 1544.81\tvalid_0's l2: 2.38642e+06\n",
      "[1128]\tvalid_0's rmse: 1544.73\tvalid_0's l2: 2.38619e+06\n",
      "[1129]\tvalid_0's rmse: 1544.68\tvalid_0's l2: 2.38605e+06\n",
      "[1130]\tvalid_0's rmse: 1544.61\tvalid_0's l2: 2.38582e+06\n",
      "[1131]\tvalid_0's rmse: 1544.57\tvalid_0's l2: 2.38568e+06\n",
      "[1132]\tvalid_0's rmse: 1544.49\tvalid_0's l2: 2.38545e+06\n",
      "[1133]\tvalid_0's rmse: 1544.45\tvalid_0's l2: 2.38532e+06\n",
      "[1134]\tvalid_0's rmse: 1544.37\tvalid_0's l2: 2.38508e+06\n",
      "[1135]\tvalid_0's rmse: 1544.3\tvalid_0's l2: 2.38486e+06\n",
      "[1136]\tvalid_0's rmse: 1544.23\tvalid_0's l2: 2.38464e+06\n",
      "[1137]\tvalid_0's rmse: 1544.14\tvalid_0's l2: 2.38436e+06\n",
      "[1138]\tvalid_0's rmse: 1544.07\tvalid_0's l2: 2.38414e+06\n",
      "[1139]\tvalid_0's rmse: 1543.99\tvalid_0's l2: 2.3839e+06\n",
      "[1140]\tvalid_0's rmse: 1543.9\tvalid_0's l2: 2.38363e+06\n",
      "[1141]\tvalid_0's rmse: 1543.79\tvalid_0's l2: 2.38329e+06\n",
      "[1142]\tvalid_0's rmse: 1543.68\tvalid_0's l2: 2.38296e+06\n",
      "[1143]\tvalid_0's rmse: 1543.58\tvalid_0's l2: 2.38265e+06\n",
      "[1144]\tvalid_0's rmse: 1543.48\tvalid_0's l2: 2.38233e+06\n",
      "[1145]\tvalid_0's rmse: 1543.37\tvalid_0's l2: 2.382e+06\n",
      "[1146]\tvalid_0's rmse: 1543.25\tvalid_0's l2: 2.38162e+06\n",
      "[1147]\tvalid_0's rmse: 1543.13\tvalid_0's l2: 2.38126e+06\n",
      "[1148]\tvalid_0's rmse: 1543.01\tvalid_0's l2: 2.38088e+06\n",
      "[1149]\tvalid_0's rmse: 1542.89\tvalid_0's l2: 2.38052e+06\n",
      "[1150]\tvalid_0's rmse: 1542.78\tvalid_0's l2: 2.38016e+06\n",
      "[1151]\tvalid_0's rmse: 1542.62\tvalid_0's l2: 2.37967e+06\n",
      "[1152]\tvalid_0's rmse: 1542.48\tvalid_0's l2: 2.37926e+06\n",
      "[1153]\tvalid_0's rmse: 1542.38\tvalid_0's l2: 2.37893e+06\n",
      "[1154]\tvalid_0's rmse: 1542.24\tvalid_0's l2: 2.37851e+06\n",
      "[1155]\tvalid_0's rmse: 1542.11\tvalid_0's l2: 2.37809e+06\n",
      "[1156]\tvalid_0's rmse: 1542.02\tvalid_0's l2: 2.37782e+06\n",
      "[1157]\tvalid_0's rmse: 1541.92\tvalid_0's l2: 2.37753e+06\n",
      "[1158]\tvalid_0's rmse: 1541.83\tvalid_0's l2: 2.37725e+06\n",
      "[1159]\tvalid_0's rmse: 1541.75\tvalid_0's l2: 2.37699e+06\n",
      "[1160]\tvalid_0's rmse: 1541.67\tvalid_0's l2: 2.37674e+06\n",
      "[1161]\tvalid_0's rmse: 1541.6\tvalid_0's l2: 2.37654e+06\n",
      "[1162]\tvalid_0's rmse: 1541.54\tvalid_0's l2: 2.37635e+06\n",
      "[1163]\tvalid_0's rmse: 1541.48\tvalid_0's l2: 2.37617e+06\n",
      "[1164]\tvalid_0's rmse: 1541.39\tvalid_0's l2: 2.3759e+06\n",
      "[1165]\tvalid_0's rmse: 1541.31\tvalid_0's l2: 2.37563e+06\n",
      "[1166]\tvalid_0's rmse: 1541.23\tvalid_0's l2: 2.37538e+06\n",
      "[1167]\tvalid_0's rmse: 1541.15\tvalid_0's l2: 2.37513e+06\n",
      "[1168]\tvalid_0's rmse: 1541.06\tvalid_0's l2: 2.37487e+06\n",
      "[1169]\tvalid_0's rmse: 1540.98\tvalid_0's l2: 2.37463e+06\n",
      "[1170]\tvalid_0's rmse: 1540.94\tvalid_0's l2: 2.37448e+06\n",
      "[1171]\tvalid_0's rmse: 1540.89\tvalid_0's l2: 2.37435e+06\n",
      "[1172]\tvalid_0's rmse: 1540.84\tvalid_0's l2: 2.3742e+06\n",
      "[1173]\tvalid_0's rmse: 1540.81\tvalid_0's l2: 2.37409e+06\n",
      "[1174]\tvalid_0's rmse: 1540.76\tvalid_0's l2: 2.37395e+06\n",
      "[1175]\tvalid_0's rmse: 1540.73\tvalid_0's l2: 2.37386e+06\n",
      "[1176]\tvalid_0's rmse: 1540.68\tvalid_0's l2: 2.37368e+06\n",
      "[1177]\tvalid_0's rmse: 1540.62\tvalid_0's l2: 2.37352e+06\n",
      "[1178]\tvalid_0's rmse: 1540.6\tvalid_0's l2: 2.37344e+06\n",
      "[1179]\tvalid_0's rmse: 1540.55\tvalid_0's l2: 2.37329e+06\n",
      "[1180]\tvalid_0's rmse: 1540.48\tvalid_0's l2: 2.37308e+06\n",
      "[1181]\tvalid_0's rmse: 1540.39\tvalid_0's l2: 2.3728e+06\n",
      "[1182]\tvalid_0's rmse: 1540.3\tvalid_0's l2: 2.37253e+06\n",
      "[1183]\tvalid_0's rmse: 1540.22\tvalid_0's l2: 2.37228e+06\n",
      "[1184]\tvalid_0's rmse: 1540.15\tvalid_0's l2: 2.37205e+06\n",
      "[1185]\tvalid_0's rmse: 1540.07\tvalid_0's l2: 2.37183e+06\n",
      "[1186]\tvalid_0's rmse: 1540\tvalid_0's l2: 2.37161e+06\n",
      "[1187]\tvalid_0's rmse: 1539.9\tvalid_0's l2: 2.37131e+06\n",
      "[1188]\tvalid_0's rmse: 1539.81\tvalid_0's l2: 2.37101e+06\n",
      "[1189]\tvalid_0's rmse: 1539.74\tvalid_0's l2: 2.37079e+06\n",
      "[1190]\tvalid_0's rmse: 1539.66\tvalid_0's l2: 2.37055e+06\n",
      "[1191]\tvalid_0's rmse: 1539.6\tvalid_0's l2: 2.37035e+06\n",
      "[1192]\tvalid_0's rmse: 1539.51\tvalid_0's l2: 2.37008e+06\n",
      "[1193]\tvalid_0's rmse: 1539.47\tvalid_0's l2: 2.36998e+06\n",
      "[1194]\tvalid_0's rmse: 1539.42\tvalid_0's l2: 2.3698e+06\n",
      "[1195]\tvalid_0's rmse: 1539.38\tvalid_0's l2: 2.3697e+06\n",
      "[1196]\tvalid_0's rmse: 1539.34\tvalid_0's l2: 2.36956e+06\n",
      "[1197]\tvalid_0's rmse: 1539.29\tvalid_0's l2: 2.3694e+06\n",
      "[1198]\tvalid_0's rmse: 1539.22\tvalid_0's l2: 2.3692e+06\n",
      "[1199]\tvalid_0's rmse: 1539.19\tvalid_0's l2: 2.3691e+06\n"
     ]
    },
    {
     "name": "stdout",
     "output_type": "stream",
     "text": [
      "[1200]\tvalid_0's rmse: 1539.16\tvalid_0's l2: 2.36901e+06\n",
      "[1201]\tvalid_0's rmse: 1539.12\tvalid_0's l2: 2.36889e+06\n",
      "[1202]\tvalid_0's rmse: 1539.09\tvalid_0's l2: 2.36881e+06\n",
      "[1203]\tvalid_0's rmse: 1539.06\tvalid_0's l2: 2.36872e+06\n",
      "[1204]\tvalid_0's rmse: 1539.03\tvalid_0's l2: 2.36862e+06\n",
      "[1205]\tvalid_0's rmse: 1538.99\tvalid_0's l2: 2.3685e+06\n",
      "[1206]\tvalid_0's rmse: 1538.97\tvalid_0's l2: 2.36844e+06\n",
      "[1207]\tvalid_0's rmse: 1538.95\tvalid_0's l2: 2.36838e+06\n",
      "[1208]\tvalid_0's rmse: 1538.92\tvalid_0's l2: 2.36828e+06\n",
      "[1209]\tvalid_0's rmse: 1538.89\tvalid_0's l2: 2.36819e+06\n",
      "[1210]\tvalid_0's rmse: 1538.86\tvalid_0's l2: 2.3681e+06\n",
      "[1211]\tvalid_0's rmse: 1538.82\tvalid_0's l2: 2.36796e+06\n",
      "[1212]\tvalid_0's rmse: 1538.8\tvalid_0's l2: 2.36791e+06\n",
      "[1213]\tvalid_0's rmse: 1538.78\tvalid_0's l2: 2.36784e+06\n",
      "[1214]\tvalid_0's rmse: 1538.76\tvalid_0's l2: 2.36778e+06\n",
      "[1215]\tvalid_0's rmse: 1538.74\tvalid_0's l2: 2.36771e+06\n",
      "[1216]\tvalid_0's rmse: 1538.69\tvalid_0's l2: 2.36756e+06\n",
      "[1217]\tvalid_0's rmse: 1538.66\tvalid_0's l2: 2.36747e+06\n",
      "[1218]\tvalid_0's rmse: 1538.6\tvalid_0's l2: 2.36729e+06\n",
      "[1219]\tvalid_0's rmse: 1538.57\tvalid_0's l2: 2.36721e+06\n",
      "[1220]\tvalid_0's rmse: 1538.53\tvalid_0's l2: 2.36709e+06\n",
      "[1221]\tvalid_0's rmse: 1538.46\tvalid_0's l2: 2.36686e+06\n",
      "[1222]\tvalid_0's rmse: 1538.39\tvalid_0's l2: 2.36665e+06\n",
      "[1223]\tvalid_0's rmse: 1538.33\tvalid_0's l2: 2.36647e+06\n",
      "[1224]\tvalid_0's rmse: 1538.27\tvalid_0's l2: 2.36628e+06\n",
      "[1225]\tvalid_0's rmse: 1538.2\tvalid_0's l2: 2.36606e+06\n",
      "[1226]\tvalid_0's rmse: 1538.13\tvalid_0's l2: 2.36585e+06\n",
      "[1227]\tvalid_0's rmse: 1538.01\tvalid_0's l2: 2.36548e+06\n",
      "[1228]\tvalid_0's rmse: 1537.9\tvalid_0's l2: 2.36513e+06\n",
      "[1229]\tvalid_0's rmse: 1537.79\tvalid_0's l2: 2.36478e+06\n",
      "[1230]\tvalid_0's rmse: 1537.68\tvalid_0's l2: 2.36447e+06\n",
      "[1231]\tvalid_0's rmse: 1537.56\tvalid_0's l2: 2.3641e+06\n",
      "[1232]\tvalid_0's rmse: 1537.46\tvalid_0's l2: 2.36379e+06\n",
      "[1233]\tvalid_0's rmse: 1537.4\tvalid_0's l2: 2.36359e+06\n",
      "[1234]\tvalid_0's rmse: 1537.34\tvalid_0's l2: 2.3634e+06\n",
      "[1235]\tvalid_0's rmse: 1537.28\tvalid_0's l2: 2.36323e+06\n",
      "[1236]\tvalid_0's rmse: 1537.19\tvalid_0's l2: 2.36295e+06\n",
      "[1237]\tvalid_0's rmse: 1537.12\tvalid_0's l2: 2.36274e+06\n",
      "[1238]\tvalid_0's rmse: 1537.03\tvalid_0's l2: 2.36247e+06\n",
      "[1239]\tvalid_0's rmse: 1536.95\tvalid_0's l2: 2.36223e+06\n",
      "[1240]\tvalid_0's rmse: 1536.89\tvalid_0's l2: 2.36204e+06\n",
      "[1241]\tvalid_0's rmse: 1536.85\tvalid_0's l2: 2.3619e+06\n",
      "[1242]\tvalid_0's rmse: 1536.8\tvalid_0's l2: 2.36177e+06\n",
      "[1243]\tvalid_0's rmse: 1536.78\tvalid_0's l2: 2.3617e+06\n",
      "[1244]\tvalid_0's rmse: 1536.75\tvalid_0's l2: 2.36161e+06\n",
      "[1245]\tvalid_0's rmse: 1536.68\tvalid_0's l2: 2.36138e+06\n",
      "[1246]\tvalid_0's rmse: 1536.65\tvalid_0's l2: 2.36129e+06\n",
      "[1247]\tvalid_0's rmse: 1536.6\tvalid_0's l2: 2.36115e+06\n",
      "[1248]\tvalid_0's rmse: 1536.57\tvalid_0's l2: 2.36105e+06\n",
      "[1249]\tvalid_0's rmse: 1536.53\tvalid_0's l2: 2.36092e+06\n",
      "[1250]\tvalid_0's rmse: 1536.5\tvalid_0's l2: 2.36083e+06\n",
      "[1251]\tvalid_0's rmse: 1536.46\tvalid_0's l2: 2.36072e+06\n",
      "[1252]\tvalid_0's rmse: 1536.44\tvalid_0's l2: 2.36063e+06\n",
      "[1253]\tvalid_0's rmse: 1536.43\tvalid_0's l2: 2.36062e+06\n",
      "[1254]\tvalid_0's rmse: 1536.4\tvalid_0's l2: 2.36052e+06\n",
      "[1255]\tvalid_0's rmse: 1536.36\tvalid_0's l2: 2.36041e+06\n",
      "[1256]\tvalid_0's rmse: 1536.34\tvalid_0's l2: 2.36033e+06\n",
      "[1257]\tvalid_0's rmse: 1536.31\tvalid_0's l2: 2.36026e+06\n",
      "[1258]\tvalid_0's rmse: 1536.29\tvalid_0's l2: 2.36017e+06\n",
      "[1259]\tvalid_0's rmse: 1536.25\tvalid_0's l2: 2.36008e+06\n",
      "[1260]\tvalid_0's rmse: 1536.25\tvalid_0's l2: 2.36006e+06\n",
      "[1261]\tvalid_0's rmse: 1536.14\tvalid_0's l2: 2.35974e+06\n",
      "[1262]\tvalid_0's rmse: 1536.05\tvalid_0's l2: 2.35945e+06\n",
      "[1263]\tvalid_0's rmse: 1535.96\tvalid_0's l2: 2.35917e+06\n",
      "[1264]\tvalid_0's rmse: 1535.86\tvalid_0's l2: 2.35887e+06\n",
      "[1265]\tvalid_0's rmse: 1535.75\tvalid_0's l2: 2.35853e+06\n",
      "[1266]\tvalid_0's rmse: 1535.67\tvalid_0's l2: 2.35829e+06\n",
      "[1267]\tvalid_0's rmse: 1535.58\tvalid_0's l2: 2.35801e+06\n",
      "[1268]\tvalid_0's rmse: 1535.48\tvalid_0's l2: 2.35768e+06\n",
      "[1269]\tvalid_0's rmse: 1535.39\tvalid_0's l2: 2.35744e+06\n",
      "[1270]\tvalid_0's rmse: 1535.3\tvalid_0's l2: 2.35715e+06\n",
      "[1271]\tvalid_0's rmse: 1535.25\tvalid_0's l2: 2.35698e+06\n",
      "[1272]\tvalid_0's rmse: 1535.2\tvalid_0's l2: 2.35683e+06\n",
      "[1273]\tvalid_0's rmse: 1535.16\tvalid_0's l2: 2.35672e+06\n",
      "[1274]\tvalid_0's rmse: 1535.11\tvalid_0's l2: 2.35656e+06\n",
      "[1275]\tvalid_0's rmse: 1535\tvalid_0's l2: 2.35622e+06\n",
      "[1276]\tvalid_0's rmse: 1534.9\tvalid_0's l2: 2.3559e+06\n",
      "[1277]\tvalid_0's rmse: 1534.85\tvalid_0's l2: 2.35577e+06\n",
      "[1278]\tvalid_0's rmse: 1534.76\tvalid_0's l2: 2.3555e+06\n",
      "[1279]\tvalid_0's rmse: 1534.71\tvalid_0's l2: 2.35533e+06\n",
      "[1280]\tvalid_0's rmse: 1534.67\tvalid_0's l2: 2.35521e+06\n",
      "[1281]\tvalid_0's rmse: 1534.63\tvalid_0's l2: 2.35508e+06\n",
      "[1282]\tvalid_0's rmse: 1534.59\tvalid_0's l2: 2.35496e+06\n",
      "[1283]\tvalid_0's rmse: 1534.55\tvalid_0's l2: 2.35483e+06\n",
      "[1284]\tvalid_0's rmse: 1534.5\tvalid_0's l2: 2.35468e+06\n",
      "[1285]\tvalid_0's rmse: 1534.45\tvalid_0's l2: 2.35454e+06\n",
      "[1286]\tvalid_0's rmse: 1534.41\tvalid_0's l2: 2.35441e+06\n",
      "[1287]\tvalid_0's rmse: 1534.36\tvalid_0's l2: 2.35426e+06\n",
      "[1288]\tvalid_0's rmse: 1534.32\tvalid_0's l2: 2.35413e+06\n",
      "[1289]\tvalid_0's rmse: 1534.27\tvalid_0's l2: 2.35399e+06\n",
      "[1290]\tvalid_0's rmse: 1534.23\tvalid_0's l2: 2.35386e+06\n",
      "[1291]\tvalid_0's rmse: 1534.21\tvalid_0's l2: 2.35379e+06\n",
      "[1292]\tvalid_0's rmse: 1534.16\tvalid_0's l2: 2.35365e+06\n",
      "[1293]\tvalid_0's rmse: 1534.14\tvalid_0's l2: 2.35358e+06\n",
      "[1294]\tvalid_0's rmse: 1534.09\tvalid_0's l2: 2.35344e+06\n",
      "[1295]\tvalid_0's rmse: 1534.08\tvalid_0's l2: 2.35339e+06\n",
      "[1296]\tvalid_0's rmse: 1534.04\tvalid_0's l2: 2.35329e+06\n",
      "[1297]\tvalid_0's rmse: 1534.02\tvalid_0's l2: 2.35323e+06\n",
      "[1298]\tvalid_0's rmse: 1533.99\tvalid_0's l2: 2.35313e+06\n",
      "[1299]\tvalid_0's rmse: 1533.98\tvalid_0's l2: 2.3531e+06\n",
      "[1300]\tvalid_0's rmse: 1533.96\tvalid_0's l2: 2.35305e+06\n",
      "[1301]\tvalid_0's rmse: 1533.88\tvalid_0's l2: 2.3528e+06\n",
      "[1302]\tvalid_0's rmse: 1533.79\tvalid_0's l2: 2.35252e+06\n",
      "[1303]\tvalid_0's rmse: 1533.68\tvalid_0's l2: 2.35217e+06\n",
      "[1304]\tvalid_0's rmse: 1533.6\tvalid_0's l2: 2.35194e+06\n",
      "[1305]\tvalid_0's rmse: 1533.53\tvalid_0's l2: 2.3517e+06\n",
      "[1306]\tvalid_0's rmse: 1533.43\tvalid_0's l2: 2.3514e+06\n",
      "[1307]\tvalid_0's rmse: 1533.32\tvalid_0's l2: 2.35107e+06\n",
      "[1308]\tvalid_0's rmse: 1533.23\tvalid_0's l2: 2.35081e+06\n",
      "[1309]\tvalid_0's rmse: 1533.16\tvalid_0's l2: 2.35059e+06\n",
      "[1310]\tvalid_0's rmse: 1533.07\tvalid_0's l2: 2.3503e+06\n",
      "[1311]\tvalid_0's rmse: 1532.99\tvalid_0's l2: 2.35007e+06\n",
      "[1312]\tvalid_0's rmse: 1532.94\tvalid_0's l2: 2.34989e+06\n",
      "[1313]\tvalid_0's rmse: 1532.89\tvalid_0's l2: 2.34974e+06\n",
      "[1314]\tvalid_0's rmse: 1532.84\tvalid_0's l2: 2.3496e+06\n",
      "[1315]\tvalid_0's rmse: 1532.77\tvalid_0's l2: 2.34939e+06\n",
      "[1316]\tvalid_0's rmse: 1532.73\tvalid_0's l2: 2.34927e+06\n",
      "[1317]\tvalid_0's rmse: 1532.69\tvalid_0's l2: 2.34913e+06\n",
      "[1318]\tvalid_0's rmse: 1532.61\tvalid_0's l2: 2.34888e+06\n",
      "[1319]\tvalid_0's rmse: 1532.55\tvalid_0's l2: 2.34871e+06\n",
      "[1320]\tvalid_0's rmse: 1532.52\tvalid_0's l2: 2.34861e+06\n",
      "[1321]\tvalid_0's rmse: 1532.47\tvalid_0's l2: 2.34845e+06\n",
      "[1322]\tvalid_0's rmse: 1532.41\tvalid_0's l2: 2.34827e+06\n",
      "[1323]\tvalid_0's rmse: 1532.35\tvalid_0's l2: 2.34811e+06\n",
      "[1324]\tvalid_0's rmse: 1532.29\tvalid_0's l2: 2.34793e+06\n",
      "[1325]\tvalid_0's rmse: 1532.24\tvalid_0's l2: 2.34776e+06\n",
      "[1326]\tvalid_0's rmse: 1532.19\tvalid_0's l2: 2.34759e+06\n",
      "[1327]\tvalid_0's rmse: 1532.13\tvalid_0's l2: 2.34742e+06\n",
      "[1328]\tvalid_0's rmse: 1532.08\tvalid_0's l2: 2.34726e+06\n",
      "[1329]\tvalid_0's rmse: 1532.02\tvalid_0's l2: 2.34708e+06\n",
      "[1330]\tvalid_0's rmse: 1531.96\tvalid_0's l2: 2.34691e+06\n",
      "[1331]\tvalid_0's rmse: 1531.91\tvalid_0's l2: 2.34676e+06\n",
      "[1332]\tvalid_0's rmse: 1531.87\tvalid_0's l2: 2.34661e+06\n",
      "[1333]\tvalid_0's rmse: 1531.82\tvalid_0's l2: 2.34648e+06\n",
      "[1334]\tvalid_0's rmse: 1531.76\tvalid_0's l2: 2.34628e+06\n",
      "[1335]\tvalid_0's rmse: 1531.7\tvalid_0's l2: 2.3461e+06\n",
      "[1336]\tvalid_0's rmse: 1531.66\tvalid_0's l2: 2.34599e+06\n",
      "[1337]\tvalid_0's rmse: 1531.63\tvalid_0's l2: 2.34588e+06\n",
      "[1338]\tvalid_0's rmse: 1531.59\tvalid_0's l2: 2.34578e+06\n",
      "[1339]\tvalid_0's rmse: 1531.55\tvalid_0's l2: 2.34566e+06\n",
      "[1340]\tvalid_0's rmse: 1531.5\tvalid_0's l2: 2.34549e+06\n",
      "[1341]\tvalid_0's rmse: 1531.43\tvalid_0's l2: 2.34526e+06\n",
      "[1342]\tvalid_0's rmse: 1531.36\tvalid_0's l2: 2.34507e+06\n",
      "[1343]\tvalid_0's rmse: 1531.29\tvalid_0's l2: 2.34484e+06\n",
      "[1344]\tvalid_0's rmse: 1531.23\tvalid_0's l2: 2.34465e+06\n",
      "[1345]\tvalid_0's rmse: 1531.16\tvalid_0's l2: 2.34446e+06\n",
      "[1346]\tvalid_0's rmse: 1531.1\tvalid_0's l2: 2.34427e+06\n",
      "[1347]\tvalid_0's rmse: 1531.03\tvalid_0's l2: 2.34406e+06\n",
      "[1348]\tvalid_0's rmse: 1530.97\tvalid_0's l2: 2.34388e+06\n",
      "[1349]\tvalid_0's rmse: 1530.92\tvalid_0's l2: 2.34371e+06\n"
     ]
    },
    {
     "name": "stdout",
     "output_type": "stream",
     "text": [
      "[1350]\tvalid_0's rmse: 1530.86\tvalid_0's l2: 2.34353e+06\n",
      "[1351]\tvalid_0's rmse: 1530.79\tvalid_0's l2: 2.34332e+06\n",
      "[1352]\tvalid_0's rmse: 1530.74\tvalid_0's l2: 2.34315e+06\n",
      "[1353]\tvalid_0's rmse: 1530.7\tvalid_0's l2: 2.34303e+06\n",
      "[1354]\tvalid_0's rmse: 1530.66\tvalid_0's l2: 2.34291e+06\n",
      "[1355]\tvalid_0's rmse: 1530.63\tvalid_0's l2: 2.34284e+06\n",
      "[1356]\tvalid_0's rmse: 1530.59\tvalid_0's l2: 2.34272e+06\n",
      "[1357]\tvalid_0's rmse: 1530.54\tvalid_0's l2: 2.34257e+06\n",
      "[1358]\tvalid_0's rmse: 1530.51\tvalid_0's l2: 2.34247e+06\n",
      "[1359]\tvalid_0's rmse: 1530.46\tvalid_0's l2: 2.34232e+06\n",
      "[1360]\tvalid_0's rmse: 1530.43\tvalid_0's l2: 2.34222e+06\n",
      "[1361]\tvalid_0's rmse: 1530.31\tvalid_0's l2: 2.34184e+06\n",
      "[1362]\tvalid_0's rmse: 1530.19\tvalid_0's l2: 2.3415e+06\n",
      "[1363]\tvalid_0's rmse: 1530.09\tvalid_0's l2: 2.34117e+06\n",
      "[1364]\tvalid_0's rmse: 1529.99\tvalid_0's l2: 2.34087e+06\n",
      "[1365]\tvalid_0's rmse: 1529.9\tvalid_0's l2: 2.3406e+06\n",
      "[1366]\tvalid_0's rmse: 1529.82\tvalid_0's l2: 2.34035e+06\n",
      "[1367]\tvalid_0's rmse: 1529.7\tvalid_0's l2: 2.33999e+06\n",
      "[1368]\tvalid_0's rmse: 1529.61\tvalid_0's l2: 2.33971e+06\n",
      "[1369]\tvalid_0's rmse: 1529.51\tvalid_0's l2: 2.33939e+06\n",
      "[1370]\tvalid_0's rmse: 1529.43\tvalid_0's l2: 2.33916e+06\n",
      "[1371]\tvalid_0's rmse: 1529.34\tvalid_0's l2: 2.33889e+06\n",
      "[1372]\tvalid_0's rmse: 1529.29\tvalid_0's l2: 2.33873e+06\n",
      "[1373]\tvalid_0's rmse: 1529.23\tvalid_0's l2: 2.33853e+06\n",
      "[1374]\tvalid_0's rmse: 1529.2\tvalid_0's l2: 2.33844e+06\n",
      "[1375]\tvalid_0's rmse: 1529.15\tvalid_0's l2: 2.3383e+06\n",
      "[1376]\tvalid_0's rmse: 1529.06\tvalid_0's l2: 2.33802e+06\n",
      "[1377]\tvalid_0's rmse: 1528.97\tvalid_0's l2: 2.33774e+06\n",
      "[1378]\tvalid_0's rmse: 1528.94\tvalid_0's l2: 2.33767e+06\n",
      "[1379]\tvalid_0's rmse: 1528.86\tvalid_0's l2: 2.33742e+06\n",
      "[1380]\tvalid_0's rmse: 1528.85\tvalid_0's l2: 2.33737e+06\n",
      "[1381]\tvalid_0's rmse: 1528.79\tvalid_0's l2: 2.3372e+06\n",
      "[1382]\tvalid_0's rmse: 1528.74\tvalid_0's l2: 2.33706e+06\n",
      "[1383]\tvalid_0's rmse: 1528.69\tvalid_0's l2: 2.33688e+06\n",
      "[1384]\tvalid_0's rmse: 1528.68\tvalid_0's l2: 2.33685e+06\n",
      "[1385]\tvalid_0's rmse: 1528.62\tvalid_0's l2: 2.33669e+06\n",
      "[1386]\tvalid_0's rmse: 1528.58\tvalid_0's l2: 2.33656e+06\n",
      "[1387]\tvalid_0's rmse: 1528.53\tvalid_0's l2: 2.33641e+06\n",
      "[1388]\tvalid_0's rmse: 1528.54\tvalid_0's l2: 2.33642e+06\n",
      "[1389]\tvalid_0's rmse: 1528.46\tvalid_0's l2: 2.33618e+06\n",
      "[1390]\tvalid_0's rmse: 1528.45\tvalid_0's l2: 2.33616e+06\n",
      "[1391]\tvalid_0's rmse: 1528.44\tvalid_0's l2: 2.33613e+06\n",
      "[1392]\tvalid_0's rmse: 1528.34\tvalid_0's l2: 2.33582e+06\n",
      "[1393]\tvalid_0's rmse: 1528.29\tvalid_0's l2: 2.33568e+06\n",
      "[1394]\tvalid_0's rmse: 1528.29\tvalid_0's l2: 2.33568e+06\n",
      "[1395]\tvalid_0's rmse: 1528.2\tvalid_0's l2: 2.33539e+06\n",
      "[1396]\tvalid_0's rmse: 1528.19\tvalid_0's l2: 2.33536e+06\n",
      "[1397]\tvalid_0's rmse: 1528.08\tvalid_0's l2: 2.33503e+06\n",
      "[1398]\tvalid_0's rmse: 1528.08\tvalid_0's l2: 2.33504e+06\n",
      "[1399]\tvalid_0's rmse: 1527.98\tvalid_0's l2: 2.33472e+06\n",
      "[1400]\tvalid_0's rmse: 1527.97\tvalid_0's l2: 2.33471e+06\n",
      "[1401]\tvalid_0's rmse: 1527.95\tvalid_0's l2: 2.33462e+06\n",
      "[1402]\tvalid_0's rmse: 1527.93\tvalid_0's l2: 2.33457e+06\n",
      "[1403]\tvalid_0's rmse: 1527.9\tvalid_0's l2: 2.33447e+06\n",
      "[1404]\tvalid_0's rmse: 1527.9\tvalid_0's l2: 2.33446e+06\n",
      "[1405]\tvalid_0's rmse: 1527.86\tvalid_0's l2: 2.33436e+06\n",
      "[1406]\tvalid_0's rmse: 1527.86\tvalid_0's l2: 2.33436e+06\n",
      "[1407]\tvalid_0's rmse: 1527.8\tvalid_0's l2: 2.33416e+06\n",
      "[1408]\tvalid_0's rmse: 1527.72\tvalid_0's l2: 2.33393e+06\n",
      "[1409]\tvalid_0's rmse: 1527.69\tvalid_0's l2: 2.33384e+06\n",
      "[1410]\tvalid_0's rmse: 1527.64\tvalid_0's l2: 2.33368e+06\n",
      "[1411]\tvalid_0's rmse: 1527.64\tvalid_0's l2: 2.33367e+06\n",
      "[1412]\tvalid_0's rmse: 1527.61\tvalid_0's l2: 2.33359e+06\n",
      "[1413]\tvalid_0's rmse: 1527.57\tvalid_0's l2: 2.33346e+06\n",
      "[1414]\tvalid_0's rmse: 1527.55\tvalid_0's l2: 2.3334e+06\n",
      "[1415]\tvalid_0's rmse: 1527.51\tvalid_0's l2: 2.33328e+06\n",
      "[1416]\tvalid_0's rmse: 1527.47\tvalid_0's l2: 2.33317e+06\n",
      "[1417]\tvalid_0's rmse: 1527.43\tvalid_0's l2: 2.33303e+06\n",
      "[1418]\tvalid_0's rmse: 1527.41\tvalid_0's l2: 2.33297e+06\n",
      "[1419]\tvalid_0's rmse: 1527.37\tvalid_0's l2: 2.33285e+06\n",
      "[1420]\tvalid_0's rmse: 1527.35\tvalid_0's l2: 2.33279e+06\n",
      "[1421]\tvalid_0's rmse: 1527.33\tvalid_0's l2: 2.33272e+06\n",
      "[1422]\tvalid_0's rmse: 1527.29\tvalid_0's l2: 2.33261e+06\n",
      "[1423]\tvalid_0's rmse: 1527.27\tvalid_0's l2: 2.33256e+06\n",
      "[1424]\tvalid_0's rmse: 1527.25\tvalid_0's l2: 2.33249e+06\n",
      "[1425]\tvalid_0's rmse: 1527.22\tvalid_0's l2: 2.33241e+06\n",
      "[1426]\tvalid_0's rmse: 1527.19\tvalid_0's l2: 2.3323e+06\n",
      "[1427]\tvalid_0's rmse: 1527.17\tvalid_0's l2: 2.33226e+06\n",
      "[1428]\tvalid_0's rmse: 1527.14\tvalid_0's l2: 2.33217e+06\n",
      "[1429]\tvalid_0's rmse: 1527.12\tvalid_0's l2: 2.3321e+06\n",
      "[1430]\tvalid_0's rmse: 1527.11\tvalid_0's l2: 2.33207e+06\n",
      "[1431]\tvalid_0's rmse: 1527.1\tvalid_0's l2: 2.33203e+06\n",
      "[1432]\tvalid_0's rmse: 1527.07\tvalid_0's l2: 2.33193e+06\n",
      "[1433]\tvalid_0's rmse: 1527.05\tvalid_0's l2: 2.33188e+06\n",
      "[1434]\tvalid_0's rmse: 1527.03\tvalid_0's l2: 2.33183e+06\n",
      "[1435]\tvalid_0's rmse: 1527.02\tvalid_0's l2: 2.3318e+06\n",
      "[1436]\tvalid_0's rmse: 1526.99\tvalid_0's l2: 2.33169e+06\n",
      "[1437]\tvalid_0's rmse: 1526.97\tvalid_0's l2: 2.33163e+06\n",
      "[1438]\tvalid_0's rmse: 1526.95\tvalid_0's l2: 2.33157e+06\n",
      "[1439]\tvalid_0's rmse: 1526.93\tvalid_0's l2: 2.33152e+06\n",
      "[1440]\tvalid_0's rmse: 1526.92\tvalid_0's l2: 2.33149e+06\n",
      "[1441]\tvalid_0's rmse: 1526.86\tvalid_0's l2: 2.33131e+06\n",
      "[1442]\tvalid_0's rmse: 1526.81\tvalid_0's l2: 2.33115e+06\n",
      "[1443]\tvalid_0's rmse: 1526.74\tvalid_0's l2: 2.33092e+06\n",
      "[1444]\tvalid_0's rmse: 1526.67\tvalid_0's l2: 2.33073e+06\n",
      "[1445]\tvalid_0's rmse: 1526.63\tvalid_0's l2: 2.3306e+06\n",
      "[1446]\tvalid_0's rmse: 1526.57\tvalid_0's l2: 2.33041e+06\n",
      "[1447]\tvalid_0's rmse: 1526.51\tvalid_0's l2: 2.33022e+06\n",
      "[1448]\tvalid_0's rmse: 1526.44\tvalid_0's l2: 2.33003e+06\n",
      "[1449]\tvalid_0's rmse: 1526.39\tvalid_0's l2: 2.32986e+06\n",
      "[1450]\tvalid_0's rmse: 1526.35\tvalid_0's l2: 2.32975e+06\n",
      "[1451]\tvalid_0's rmse: 1526.26\tvalid_0's l2: 2.32946e+06\n",
      "[1452]\tvalid_0's rmse: 1526.2\tvalid_0's l2: 2.3293e+06\n",
      "[1453]\tvalid_0's rmse: 1526.15\tvalid_0's l2: 2.32912e+06\n",
      "[1454]\tvalid_0's rmse: 1526.09\tvalid_0's l2: 2.32894e+06\n",
      "[1455]\tvalid_0's rmse: 1526.04\tvalid_0's l2: 2.32878e+06\n",
      "[1456]\tvalid_0's rmse: 1525.98\tvalid_0's l2: 2.3286e+06\n",
      "[1457]\tvalid_0's rmse: 1525.92\tvalid_0's l2: 2.32842e+06\n",
      "[1458]\tvalid_0's rmse: 1525.86\tvalid_0's l2: 2.32825e+06\n",
      "[1459]\tvalid_0's rmse: 1525.83\tvalid_0's l2: 2.32816e+06\n",
      "[1460]\tvalid_0's rmse: 1525.78\tvalid_0's l2: 2.32799e+06\n",
      "[1461]\tvalid_0's rmse: 1525.72\tvalid_0's l2: 2.32782e+06\n",
      "[1462]\tvalid_0's rmse: 1525.68\tvalid_0's l2: 2.3277e+06\n",
      "[1463]\tvalid_0's rmse: 1525.65\tvalid_0's l2: 2.3276e+06\n",
      "[1464]\tvalid_0's rmse: 1525.62\tvalid_0's l2: 2.32753e+06\n",
      "[1465]\tvalid_0's rmse: 1525.6\tvalid_0's l2: 2.32744e+06\n",
      "[1466]\tvalid_0's rmse: 1525.58\tvalid_0's l2: 2.32739e+06\n",
      "[1467]\tvalid_0's rmse: 1525.55\tvalid_0's l2: 2.32731e+06\n",
      "[1468]\tvalid_0's rmse: 1525.53\tvalid_0's l2: 2.32725e+06\n",
      "[1469]\tvalid_0's rmse: 1525.49\tvalid_0's l2: 2.32711e+06\n",
      "[1470]\tvalid_0's rmse: 1525.48\tvalid_0's l2: 2.32708e+06\n",
      "[1471]\tvalid_0's rmse: 1525.45\tvalid_0's l2: 2.32701e+06\n",
      "[1472]\tvalid_0's rmse: 1525.43\tvalid_0's l2: 2.32693e+06\n",
      "[1473]\tvalid_0's rmse: 1525.42\tvalid_0's l2: 2.3269e+06\n",
      "[1474]\tvalid_0's rmse: 1525.39\tvalid_0's l2: 2.32682e+06\n",
      "[1475]\tvalid_0's rmse: 1525.37\tvalid_0's l2: 2.32677e+06\n",
      "[1476]\tvalid_0's rmse: 1525.37\tvalid_0's l2: 2.32676e+06\n",
      "[1477]\tvalid_0's rmse: 1525.32\tvalid_0's l2: 2.32661e+06\n",
      "[1478]\tvalid_0's rmse: 1525.29\tvalid_0's l2: 2.32652e+06\n",
      "[1479]\tvalid_0's rmse: 1525.28\tvalid_0's l2: 2.32648e+06\n",
      "[1480]\tvalid_0's rmse: 1525.27\tvalid_0's l2: 2.32644e+06\n",
      "[1481]\tvalid_0's rmse: 1525.23\tvalid_0's l2: 2.32632e+06\n",
      "[1482]\tvalid_0's rmse: 1525.19\tvalid_0's l2: 2.32622e+06\n",
      "[1483]\tvalid_0's rmse: 1525.16\tvalid_0's l2: 2.32611e+06\n",
      "[1484]\tvalid_0's rmse: 1525.13\tvalid_0's l2: 2.32602e+06\n",
      "[1485]\tvalid_0's rmse: 1525.1\tvalid_0's l2: 2.32594e+06\n",
      "[1486]\tvalid_0's rmse: 1525.07\tvalid_0's l2: 2.32584e+06\n",
      "[1487]\tvalid_0's rmse: 1525.04\tvalid_0's l2: 2.32576e+06\n",
      "[1488]\tvalid_0's rmse: 1525.02\tvalid_0's l2: 2.32569e+06\n",
      "[1489]\tvalid_0's rmse: 1525\tvalid_0's l2: 2.32562e+06\n",
      "[1490]\tvalid_0's rmse: 1524.97\tvalid_0's l2: 2.32554e+06\n",
      "[1491]\tvalid_0's rmse: 1524.96\tvalid_0's l2: 2.32551e+06\n",
      "[1492]\tvalid_0's rmse: 1524.93\tvalid_0's l2: 2.32542e+06\n",
      "[1493]\tvalid_0's rmse: 1524.91\tvalid_0's l2: 2.32535e+06\n",
      "[1494]\tvalid_0's rmse: 1524.89\tvalid_0's l2: 2.32529e+06\n",
      "[1495]\tvalid_0's rmse: 1524.88\tvalid_0's l2: 2.32525e+06\n",
      "[1496]\tvalid_0's rmse: 1524.85\tvalid_0's l2: 2.32518e+06\n",
      "[1497]\tvalid_0's rmse: 1524.83\tvalid_0's l2: 2.32511e+06\n",
      "[1498]\tvalid_0's rmse: 1524.82\tvalid_0's l2: 2.32506e+06\n",
      "[1499]\tvalid_0's rmse: 1524.8\tvalid_0's l2: 2.32501e+06\n"
     ]
    },
    {
     "name": "stdout",
     "output_type": "stream",
     "text": [
      "[1500]\tvalid_0's rmse: 1524.78\tvalid_0's l2: 2.32496e+06\n",
      "[1501]\tvalid_0's rmse: 1524.73\tvalid_0's l2: 2.3248e+06\n",
      "[1502]\tvalid_0's rmse: 1524.68\tvalid_0's l2: 2.32465e+06\n",
      "[1503]\tvalid_0's rmse: 1524.64\tvalid_0's l2: 2.32452e+06\n",
      "[1504]\tvalid_0's rmse: 1524.59\tvalid_0's l2: 2.32438e+06\n",
      "[1505]\tvalid_0's rmse: 1524.55\tvalid_0's l2: 2.32426e+06\n",
      "[1506]\tvalid_0's rmse: 1524.52\tvalid_0's l2: 2.32415e+06\n",
      "[1507]\tvalid_0's rmse: 1524.48\tvalid_0's l2: 2.32405e+06\n",
      "[1508]\tvalid_0's rmse: 1524.44\tvalid_0's l2: 2.32393e+06\n",
      "[1509]\tvalid_0's rmse: 1524.41\tvalid_0's l2: 2.32383e+06\n",
      "[1510]\tvalid_0's rmse: 1524.38\tvalid_0's l2: 2.32372e+06\n",
      "[1511]\tvalid_0's rmse: 1524.35\tvalid_0's l2: 2.32365e+06\n",
      "[1512]\tvalid_0's rmse: 1524.32\tvalid_0's l2: 2.32354e+06\n",
      "[1513]\tvalid_0's rmse: 1524.28\tvalid_0's l2: 2.32343e+06\n",
      "[1514]\tvalid_0's rmse: 1524.26\tvalid_0's l2: 2.32336e+06\n",
      "[1515]\tvalid_0's rmse: 1524.22\tvalid_0's l2: 2.32326e+06\n",
      "[1516]\tvalid_0's rmse: 1524.19\tvalid_0's l2: 2.32315e+06\n",
      "[1517]\tvalid_0's rmse: 1524.17\tvalid_0's l2: 2.32309e+06\n",
      "[1518]\tvalid_0's rmse: 1524.15\tvalid_0's l2: 2.32304e+06\n",
      "[1519]\tvalid_0's rmse: 1524.13\tvalid_0's l2: 2.32297e+06\n",
      "[1520]\tvalid_0's rmse: 1524.09\tvalid_0's l2: 2.32285e+06\n",
      "[1521]\tvalid_0's rmse: 1524.04\tvalid_0's l2: 2.32269e+06\n",
      "[1522]\tvalid_0's rmse: 1523.99\tvalid_0's l2: 2.32256e+06\n",
      "[1523]\tvalid_0's rmse: 1523.92\tvalid_0's l2: 2.32234e+06\n",
      "[1524]\tvalid_0's rmse: 1523.88\tvalid_0's l2: 2.32222e+06\n",
      "[1525]\tvalid_0's rmse: 1523.83\tvalid_0's l2: 2.32206e+06\n",
      "[1526]\tvalid_0's rmse: 1523.76\tvalid_0's l2: 2.32184e+06\n",
      "[1527]\tvalid_0's rmse: 1523.71\tvalid_0's l2: 2.32169e+06\n",
      "[1528]\tvalid_0's rmse: 1523.65\tvalid_0's l2: 2.32152e+06\n",
      "[1529]\tvalid_0's rmse: 1523.6\tvalid_0's l2: 2.32135e+06\n",
      "[1530]\tvalid_0's rmse: 1523.52\tvalid_0's l2: 2.32112e+06\n",
      "[1531]\tvalid_0's rmse: 1523.47\tvalid_0's l2: 2.32095e+06\n",
      "[1532]\tvalid_0's rmse: 1523.4\tvalid_0's l2: 2.32074e+06\n",
      "[1533]\tvalid_0's rmse: 1523.34\tvalid_0's l2: 2.32057e+06\n",
      "[1534]\tvalid_0's rmse: 1523.3\tvalid_0's l2: 2.32043e+06\n",
      "[1535]\tvalid_0's rmse: 1523.23\tvalid_0's l2: 2.32023e+06\n",
      "[1536]\tvalid_0's rmse: 1523.18\tvalid_0's l2: 2.32008e+06\n",
      "[1537]\tvalid_0's rmse: 1523.14\tvalid_0's l2: 2.31997e+06\n",
      "[1538]\tvalid_0's rmse: 1523.1\tvalid_0's l2: 2.31984e+06\n",
      "[1539]\tvalid_0's rmse: 1523.04\tvalid_0's l2: 2.31966e+06\n",
      "[1540]\tvalid_0's rmse: 1523\tvalid_0's l2: 2.31952e+06\n",
      "[1541]\tvalid_0's rmse: 1522.93\tvalid_0's l2: 2.31932e+06\n",
      "[1542]\tvalid_0's rmse: 1522.87\tvalid_0's l2: 2.31912e+06\n",
      "[1543]\tvalid_0's rmse: 1522.81\tvalid_0's l2: 2.31894e+06\n",
      "[1544]\tvalid_0's rmse: 1522.74\tvalid_0's l2: 2.31874e+06\n",
      "[1545]\tvalid_0's rmse: 1522.69\tvalid_0's l2: 2.31859e+06\n",
      "[1546]\tvalid_0's rmse: 1522.63\tvalid_0's l2: 2.31839e+06\n",
      "[1547]\tvalid_0's rmse: 1522.56\tvalid_0's l2: 2.31819e+06\n",
      "[1548]\tvalid_0's rmse: 1522.5\tvalid_0's l2: 2.31802e+06\n",
      "[1549]\tvalid_0's rmse: 1522.45\tvalid_0's l2: 2.31784e+06\n",
      "[1550]\tvalid_0's rmse: 1522.38\tvalid_0's l2: 2.31763e+06\n",
      "[1551]\tvalid_0's rmse: 1522.32\tvalid_0's l2: 2.31747e+06\n",
      "[1552]\tvalid_0's rmse: 1522.28\tvalid_0's l2: 2.31733e+06\n",
      "[1553]\tvalid_0's rmse: 1522.22\tvalid_0's l2: 2.31714e+06\n",
      "[1554]\tvalid_0's rmse: 1522.17\tvalid_0's l2: 2.31699e+06\n",
      "[1555]\tvalid_0's rmse: 1522.11\tvalid_0's l2: 2.31682e+06\n",
      "[1556]\tvalid_0's rmse: 1522.07\tvalid_0's l2: 2.31669e+06\n",
      "[1557]\tvalid_0's rmse: 1522.05\tvalid_0's l2: 2.31662e+06\n",
      "[1558]\tvalid_0's rmse: 1521.97\tvalid_0's l2: 2.31639e+06\n",
      "[1559]\tvalid_0's rmse: 1521.95\tvalid_0's l2: 2.31634e+06\n",
      "[1560]\tvalid_0's rmse: 1521.94\tvalid_0's l2: 2.3163e+06\n",
      "[1561]\tvalid_0's rmse: 1521.91\tvalid_0's l2: 2.31622e+06\n",
      "[1562]\tvalid_0's rmse: 1521.89\tvalid_0's l2: 2.31614e+06\n",
      "[1563]\tvalid_0's rmse: 1521.86\tvalid_0's l2: 2.31607e+06\n",
      "[1564]\tvalid_0's rmse: 1521.84\tvalid_0's l2: 2.316e+06\n",
      "[1565]\tvalid_0's rmse: 1521.81\tvalid_0's l2: 2.31591e+06\n",
      "[1566]\tvalid_0's rmse: 1521.79\tvalid_0's l2: 2.31585e+06\n",
      "[1567]\tvalid_0's rmse: 1521.77\tvalid_0's l2: 2.31579e+06\n",
      "[1568]\tvalid_0's rmse: 1521.75\tvalid_0's l2: 2.31572e+06\n",
      "[1569]\tvalid_0's rmse: 1521.73\tvalid_0's l2: 2.31567e+06\n",
      "[1570]\tvalid_0's rmse: 1521.71\tvalid_0's l2: 2.31562e+06\n",
      "[1571]\tvalid_0's rmse: 1521.7\tvalid_0's l2: 2.31556e+06\n",
      "[1572]\tvalid_0's rmse: 1521.67\tvalid_0's l2: 2.31548e+06\n",
      "[1573]\tvalid_0's rmse: 1521.65\tvalid_0's l2: 2.31542e+06\n",
      "[1574]\tvalid_0's rmse: 1521.62\tvalid_0's l2: 2.31534e+06\n",
      "[1575]\tvalid_0's rmse: 1521.6\tvalid_0's l2: 2.31527e+06\n",
      "[1576]\tvalid_0's rmse: 1521.57\tvalid_0's l2: 2.31519e+06\n",
      "[1577]\tvalid_0's rmse: 1521.55\tvalid_0's l2: 2.31512e+06\n",
      "[1578]\tvalid_0's rmse: 1521.55\tvalid_0's l2: 2.31511e+06\n",
      "[1579]\tvalid_0's rmse: 1521.53\tvalid_0's l2: 2.31505e+06\n",
      "[1580]\tvalid_0's rmse: 1521.51\tvalid_0's l2: 2.315e+06\n",
      "[1581]\tvalid_0's rmse: 1521.49\tvalid_0's l2: 2.31495e+06\n",
      "[1582]\tvalid_0's rmse: 1521.48\tvalid_0's l2: 2.3149e+06\n",
      "[1583]\tvalid_0's rmse: 1521.46\tvalid_0's l2: 2.31485e+06\n",
      "[1584]\tvalid_0's rmse: 1521.45\tvalid_0's l2: 2.31481e+06\n",
      "[1585]\tvalid_0's rmse: 1521.43\tvalid_0's l2: 2.31475e+06\n",
      "[1586]\tvalid_0's rmse: 1521.41\tvalid_0's l2: 2.31468e+06\n",
      "[1587]\tvalid_0's rmse: 1521.39\tvalid_0's l2: 2.31463e+06\n",
      "[1588]\tvalid_0's rmse: 1521.37\tvalid_0's l2: 2.31458e+06\n",
      "[1589]\tvalid_0's rmse: 1521.36\tvalid_0's l2: 2.31454e+06\n",
      "[1590]\tvalid_0's rmse: 1521.35\tvalid_0's l2: 2.31449e+06\n",
      "[1591]\tvalid_0's rmse: 1521.33\tvalid_0's l2: 2.31444e+06\n",
      "[1592]\tvalid_0's rmse: 1521.31\tvalid_0's l2: 2.31439e+06\n",
      "[1593]\tvalid_0's rmse: 1521.29\tvalid_0's l2: 2.31433e+06\n",
      "[1594]\tvalid_0's rmse: 1521.27\tvalid_0's l2: 2.31427e+06\n",
      "[1595]\tvalid_0's rmse: 1521.26\tvalid_0's l2: 2.31422e+06\n",
      "[1596]\tvalid_0's rmse: 1521.24\tvalid_0's l2: 2.31417e+06\n",
      "[1597]\tvalid_0's rmse: 1521.23\tvalid_0's l2: 2.31413e+06\n",
      "[1598]\tvalid_0's rmse: 1521.21\tvalid_0's l2: 2.31408e+06\n",
      "[1599]\tvalid_0's rmse: 1521.19\tvalid_0's l2: 2.31403e+06\n",
      "[1600]\tvalid_0's rmse: 1521.18\tvalid_0's l2: 2.31398e+06\n",
      "[1601]\tvalid_0's rmse: 1521.12\tvalid_0's l2: 2.31381e+06\n",
      "[1602]\tvalid_0's rmse: 1521.07\tvalid_0's l2: 2.31365e+06\n",
      "[1603]\tvalid_0's rmse: 1521.01\tvalid_0's l2: 2.31348e+06\n",
      "[1604]\tvalid_0's rmse: 1520.96\tvalid_0's l2: 2.31333e+06\n",
      "[1605]\tvalid_0's rmse: 1520.9\tvalid_0's l2: 2.31315e+06\n",
      "[1606]\tvalid_0's rmse: 1520.85\tvalid_0's l2: 2.31299e+06\n",
      "[1607]\tvalid_0's rmse: 1520.8\tvalid_0's l2: 2.31285e+06\n",
      "[1608]\tvalid_0's rmse: 1520.75\tvalid_0's l2: 2.31268e+06\n",
      "[1609]\tvalid_0's rmse: 1520.68\tvalid_0's l2: 2.31248e+06\n",
      "[1610]\tvalid_0's rmse: 1520.62\tvalid_0's l2: 2.3123e+06\n",
      "[1611]\tvalid_0's rmse: 1520.56\tvalid_0's l2: 2.31211e+06\n",
      "[1612]\tvalid_0's rmse: 1520.49\tvalid_0's l2: 2.3119e+06\n",
      "[1613]\tvalid_0's rmse: 1520.43\tvalid_0's l2: 2.31171e+06\n",
      "[1614]\tvalid_0's rmse: 1520.37\tvalid_0's l2: 2.31153e+06\n",
      "[1615]\tvalid_0's rmse: 1520.33\tvalid_0's l2: 2.3114e+06\n",
      "[1616]\tvalid_0's rmse: 1520.26\tvalid_0's l2: 2.3112e+06\n",
      "[1617]\tvalid_0's rmse: 1520.22\tvalid_0's l2: 2.31107e+06\n",
      "[1618]\tvalid_0's rmse: 1520.16\tvalid_0's l2: 2.31088e+06\n",
      "[1619]\tvalid_0's rmse: 1520.1\tvalid_0's l2: 2.31071e+06\n",
      "[1620]\tvalid_0's rmse: 1520.05\tvalid_0's l2: 2.31056e+06\n",
      "[1621]\tvalid_0's rmse: 1520.02\tvalid_0's l2: 2.31045e+06\n",
      "[1622]\tvalid_0's rmse: 1519.98\tvalid_0's l2: 2.31035e+06\n",
      "[1623]\tvalid_0's rmse: 1519.95\tvalid_0's l2: 2.31026e+06\n",
      "[1624]\tvalid_0's rmse: 1519.92\tvalid_0's l2: 2.31017e+06\n",
      "[1625]\tvalid_0's rmse: 1519.9\tvalid_0's l2: 2.31009e+06\n",
      "[1626]\tvalid_0's rmse: 1519.87\tvalid_0's l2: 2.31e+06\n",
      "[1627]\tvalid_0's rmse: 1519.84\tvalid_0's l2: 2.30992e+06\n",
      "[1628]\tvalid_0's rmse: 1519.82\tvalid_0's l2: 2.30985e+06\n",
      "[1629]\tvalid_0's rmse: 1519.8\tvalid_0's l2: 2.30979e+06\n",
      "[1630]\tvalid_0's rmse: 1519.78\tvalid_0's l2: 2.30973e+06\n",
      "[1631]\tvalid_0's rmse: 1519.78\tvalid_0's l2: 2.30974e+06\n",
      "[1632]\tvalid_0's rmse: 1519.76\tvalid_0's l2: 2.30968e+06\n",
      "[1633]\tvalid_0's rmse: 1519.77\tvalid_0's l2: 2.3097e+06\n",
      "[1634]\tvalid_0's rmse: 1519.77\tvalid_0's l2: 2.30969e+06\n",
      "[1635]\tvalid_0's rmse: 1519.75\tvalid_0's l2: 2.30965e+06\n",
      "[1636]\tvalid_0's rmse: 1519.75\tvalid_0's l2: 2.30963e+06\n",
      "[1637]\tvalid_0's rmse: 1519.71\tvalid_0's l2: 2.30953e+06\n",
      "[1638]\tvalid_0's rmse: 1519.71\tvalid_0's l2: 2.30952e+06\n",
      "[1639]\tvalid_0's rmse: 1519.7\tvalid_0's l2: 2.30949e+06\n",
      "[1640]\tvalid_0's rmse: 1519.7\tvalid_0's l2: 2.30948e+06\n",
      "[1641]\tvalid_0's rmse: 1519.66\tvalid_0's l2: 2.30938e+06\n",
      "[1642]\tvalid_0's rmse: 1519.63\tvalid_0's l2: 2.30928e+06\n",
      "[1643]\tvalid_0's rmse: 1519.6\tvalid_0's l2: 2.30919e+06\n",
      "[1644]\tvalid_0's rmse: 1519.57\tvalid_0's l2: 2.30909e+06\n",
      "[1645]\tvalid_0's rmse: 1519.54\tvalid_0's l2: 2.30901e+06\n",
      "[1646]\tvalid_0's rmse: 1519.52\tvalid_0's l2: 2.30895e+06\n",
      "[1647]\tvalid_0's rmse: 1519.51\tvalid_0's l2: 2.30891e+06\n",
      "[1648]\tvalid_0's rmse: 1519.5\tvalid_0's l2: 2.30887e+06\n",
      "[1649]\tvalid_0's rmse: 1519.49\tvalid_0's l2: 2.30884e+06\n",
      "[1650]\tvalid_0's rmse: 1519.48\tvalid_0's l2: 2.30883e+06\n",
      "[1651]\tvalid_0's rmse: 1519.48\tvalid_0's l2: 2.30882e+06\n",
      "[1652]\tvalid_0's rmse: 1519.47\tvalid_0's l2: 2.3088e+06\n",
      "[1653]\tvalid_0's rmse: 1519.46\tvalid_0's l2: 2.30875e+06\n",
      "[1654]\tvalid_0's rmse: 1519.43\tvalid_0's l2: 2.30866e+06\n",
      "[1655]\tvalid_0's rmse: 1519.42\tvalid_0's l2: 2.30864e+06\n"
     ]
    },
    {
     "name": "stdout",
     "output_type": "stream",
     "text": [
      "[1656]\tvalid_0's rmse: 1519.41\tvalid_0's l2: 2.3086e+06\n",
      "[1657]\tvalid_0's rmse: 1519.4\tvalid_0's l2: 2.30858e+06\n",
      "[1658]\tvalid_0's rmse: 1519.39\tvalid_0's l2: 2.30855e+06\n",
      "[1659]\tvalid_0's rmse: 1519.38\tvalid_0's l2: 2.30851e+06\n",
      "[1660]\tvalid_0's rmse: 1519.36\tvalid_0's l2: 2.30845e+06\n",
      "[1661]\tvalid_0's rmse: 1519.33\tvalid_0's l2: 2.30837e+06\n",
      "[1662]\tvalid_0's rmse: 1519.31\tvalid_0's l2: 2.30831e+06\n",
      "[1663]\tvalid_0's rmse: 1519.29\tvalid_0's l2: 2.30824e+06\n",
      "[1664]\tvalid_0's rmse: 1519.27\tvalid_0's l2: 2.30817e+06\n",
      "[1665]\tvalid_0's rmse: 1519.26\tvalid_0's l2: 2.30816e+06\n",
      "[1666]\tvalid_0's rmse: 1519.23\tvalid_0's l2: 2.30807e+06\n",
      "[1667]\tvalid_0's rmse: 1519.22\tvalid_0's l2: 2.30804e+06\n",
      "[1668]\tvalid_0's rmse: 1519.21\tvalid_0's l2: 2.308e+06\n",
      "[1669]\tvalid_0's rmse: 1519.15\tvalid_0's l2: 2.30783e+06\n",
      "[1670]\tvalid_0's rmse: 1519.12\tvalid_0's l2: 2.30771e+06\n",
      "[1671]\tvalid_0's rmse: 1519.08\tvalid_0's l2: 2.30759e+06\n",
      "[1672]\tvalid_0's rmse: 1519.06\tvalid_0's l2: 2.30755e+06\n",
      "[1673]\tvalid_0's rmse: 1519.02\tvalid_0's l2: 2.30741e+06\n",
      "[1674]\tvalid_0's rmse: 1518.98\tvalid_0's l2: 2.3073e+06\n",
      "[1675]\tvalid_0's rmse: 1518.96\tvalid_0's l2: 2.30723e+06\n",
      "[1676]\tvalid_0's rmse: 1518.93\tvalid_0's l2: 2.30715e+06\n",
      "[1677]\tvalid_0's rmse: 1518.9\tvalid_0's l2: 2.30704e+06\n",
      "[1678]\tvalid_0's rmse: 1518.87\tvalid_0's l2: 2.30697e+06\n",
      "[1679]\tvalid_0's rmse: 1518.84\tvalid_0's l2: 2.30687e+06\n",
      "[1680]\tvalid_0's rmse: 1518.82\tvalid_0's l2: 2.30682e+06\n",
      "[1681]\tvalid_0's rmse: 1518.79\tvalid_0's l2: 2.30671e+06\n",
      "[1682]\tvalid_0's rmse: 1518.75\tvalid_0's l2: 2.30661e+06\n",
      "[1683]\tvalid_0's rmse: 1518.72\tvalid_0's l2: 2.30652e+06\n",
      "[1684]\tvalid_0's rmse: 1518.69\tvalid_0's l2: 2.30643e+06\n",
      "[1685]\tvalid_0's rmse: 1518.66\tvalid_0's l2: 2.30633e+06\n",
      "[1686]\tvalid_0's rmse: 1518.64\tvalid_0's l2: 2.30625e+06\n",
      "[1687]\tvalid_0's rmse: 1518.61\tvalid_0's l2: 2.30617e+06\n",
      "[1688]\tvalid_0's rmse: 1518.59\tvalid_0's l2: 2.30612e+06\n",
      "[1689]\tvalid_0's rmse: 1518.57\tvalid_0's l2: 2.30606e+06\n",
      "[1690]\tvalid_0's rmse: 1518.54\tvalid_0's l2: 2.30598e+06\n",
      "[1691]\tvalid_0's rmse: 1518.49\tvalid_0's l2: 2.30581e+06\n",
      "[1692]\tvalid_0's rmse: 1518.47\tvalid_0's l2: 2.30575e+06\n",
      "[1693]\tvalid_0's rmse: 1518.42\tvalid_0's l2: 2.3056e+06\n",
      "[1694]\tvalid_0's rmse: 1518.39\tvalid_0's l2: 2.30551e+06\n",
      "[1695]\tvalid_0's rmse: 1518.34\tvalid_0's l2: 2.30536e+06\n",
      "[1696]\tvalid_0's rmse: 1518.32\tvalid_0's l2: 2.3053e+06\n",
      "[1697]\tvalid_0's rmse: 1518.27\tvalid_0's l2: 2.30513e+06\n",
      "[1698]\tvalid_0's rmse: 1518.24\tvalid_0's l2: 2.30505e+06\n",
      "[1699]\tvalid_0's rmse: 1518.19\tvalid_0's l2: 2.3049e+06\n",
      "[1700]\tvalid_0's rmse: 1518.18\tvalid_0's l2: 2.30487e+06\n",
      "[1701]\tvalid_0's rmse: 1518.15\tvalid_0's l2: 2.30479e+06\n",
      "[1702]\tvalid_0's rmse: 1518.13\tvalid_0's l2: 2.30472e+06\n",
      "[1703]\tvalid_0's rmse: 1518.11\tvalid_0's l2: 2.30465e+06\n",
      "[1704]\tvalid_0's rmse: 1518.03\tvalid_0's l2: 2.30442e+06\n",
      "[1705]\tvalid_0's rmse: 1517.98\tvalid_0's l2: 2.30426e+06\n",
      "[1706]\tvalid_0's rmse: 1517.91\tvalid_0's l2: 2.30405e+06\n",
      "[1707]\tvalid_0's rmse: 1517.89\tvalid_0's l2: 2.30399e+06\n",
      "[1708]\tvalid_0's rmse: 1517.82\tvalid_0's l2: 2.30378e+06\n",
      "[1709]\tvalid_0's rmse: 1517.77\tvalid_0's l2: 2.30364e+06\n",
      "[1710]\tvalid_0's rmse: 1517.71\tvalid_0's l2: 2.30345e+06\n",
      "[1711]\tvalid_0's rmse: 1517.67\tvalid_0's l2: 2.30331e+06\n",
      "[1712]\tvalid_0's rmse: 1517.61\tvalid_0's l2: 2.30313e+06\n",
      "[1713]\tvalid_0's rmse: 1517.57\tvalid_0's l2: 2.30301e+06\n",
      "[1714]\tvalid_0's rmse: 1517.51\tvalid_0's l2: 2.30285e+06\n",
      "[1715]\tvalid_0's rmse: 1517.45\tvalid_0's l2: 2.30266e+06\n",
      "[1716]\tvalid_0's rmse: 1517.4\tvalid_0's l2: 2.3025e+06\n",
      "[1717]\tvalid_0's rmse: 1517.35\tvalid_0's l2: 2.30236e+06\n",
      "[1718]\tvalid_0's rmse: 1517.3\tvalid_0's l2: 2.30221e+06\n",
      "[1719]\tvalid_0's rmse: 1517.25\tvalid_0's l2: 2.30204e+06\n",
      "[1720]\tvalid_0's rmse: 1517.19\tvalid_0's l2: 2.30187e+06\n",
      "[1721]\tvalid_0's rmse: 1517.15\tvalid_0's l2: 2.30174e+06\n",
      "[1722]\tvalid_0's rmse: 1517.11\tvalid_0's l2: 2.30162e+06\n",
      "[1723]\tvalid_0's rmse: 1517.07\tvalid_0's l2: 2.3015e+06\n",
      "[1724]\tvalid_0's rmse: 1517.02\tvalid_0's l2: 2.30136e+06\n",
      "[1725]\tvalid_0's rmse: 1516.99\tvalid_0's l2: 2.30126e+06\n",
      "[1726]\tvalid_0's rmse: 1516.94\tvalid_0's l2: 2.30111e+06\n",
      "[1727]\tvalid_0's rmse: 1516.92\tvalid_0's l2: 2.30103e+06\n",
      "[1728]\tvalid_0's rmse: 1516.88\tvalid_0's l2: 2.30094e+06\n",
      "[1729]\tvalid_0's rmse: 1516.84\tvalid_0's l2: 2.3008e+06\n",
      "[1730]\tvalid_0's rmse: 1516.79\tvalid_0's l2: 2.30066e+06\n",
      "[1731]\tvalid_0's rmse: 1516.77\tvalid_0's l2: 2.3006e+06\n",
      "[1732]\tvalid_0's rmse: 1516.75\tvalid_0's l2: 2.30052e+06\n",
      "[1733]\tvalid_0's rmse: 1516.71\tvalid_0's l2: 2.3004e+06\n",
      "[1734]\tvalid_0's rmse: 1516.67\tvalid_0's l2: 2.30029e+06\n",
      "[1735]\tvalid_0's rmse: 1516.64\tvalid_0's l2: 2.30018e+06\n",
      "[1736]\tvalid_0's rmse: 1516.6\tvalid_0's l2: 2.30006e+06\n",
      "[1737]\tvalid_0's rmse: 1516.56\tvalid_0's l2: 2.29995e+06\n",
      "[1738]\tvalid_0's rmse: 1516.54\tvalid_0's l2: 2.2999e+06\n",
      "[1739]\tvalid_0's rmse: 1516.52\tvalid_0's l2: 2.29984e+06\n",
      "[1740]\tvalid_0's rmse: 1516.48\tvalid_0's l2: 2.29973e+06\n",
      "[1741]\tvalid_0's rmse: 1516.41\tvalid_0's l2: 2.29951e+06\n",
      "[1742]\tvalid_0's rmse: 1516.34\tvalid_0's l2: 2.2993e+06\n",
      "[1743]\tvalid_0's rmse: 1516.27\tvalid_0's l2: 2.29909e+06\n",
      "[1744]\tvalid_0's rmse: 1516.21\tvalid_0's l2: 2.29891e+06\n",
      "[1745]\tvalid_0's rmse: 1516.15\tvalid_0's l2: 2.29871e+06\n",
      "[1746]\tvalid_0's rmse: 1516.09\tvalid_0's l2: 2.29853e+06\n",
      "[1747]\tvalid_0's rmse: 1516.06\tvalid_0's l2: 2.29842e+06\n",
      "[1748]\tvalid_0's rmse: 1516\tvalid_0's l2: 2.29824e+06\n",
      "[1749]\tvalid_0's rmse: 1515.96\tvalid_0's l2: 2.29814e+06\n",
      "[1750]\tvalid_0's rmse: 1515.91\tvalid_0's l2: 2.29798e+06\n",
      "[1751]\tvalid_0's rmse: 1515.89\tvalid_0's l2: 2.29793e+06\n",
      "[1752]\tvalid_0's rmse: 1515.88\tvalid_0's l2: 2.29788e+06\n",
      "[1753]\tvalid_0's rmse: 1515.85\tvalid_0's l2: 2.29779e+06\n",
      "[1754]\tvalid_0's rmse: 1515.83\tvalid_0's l2: 2.29774e+06\n",
      "[1755]\tvalid_0's rmse: 1515.81\tvalid_0's l2: 2.29769e+06\n",
      "[1756]\tvalid_0's rmse: 1515.79\tvalid_0's l2: 2.29761e+06\n",
      "[1757]\tvalid_0's rmse: 1515.77\tvalid_0's l2: 2.29755e+06\n",
      "[1758]\tvalid_0's rmse: 1515.75\tvalid_0's l2: 2.29751e+06\n",
      "[1759]\tvalid_0's rmse: 1515.73\tvalid_0's l2: 2.29744e+06\n",
      "[1760]\tvalid_0's rmse: 1515.72\tvalid_0's l2: 2.29739e+06\n",
      "[1761]\tvalid_0's rmse: 1515.68\tvalid_0's l2: 2.2973e+06\n",
      "[1762]\tvalid_0's rmse: 1515.65\tvalid_0's l2: 2.2972e+06\n",
      "[1763]\tvalid_0's rmse: 1515.62\tvalid_0's l2: 2.29712e+06\n",
      "[1764]\tvalid_0's rmse: 1515.6\tvalid_0's l2: 2.29703e+06\n",
      "[1765]\tvalid_0's rmse: 1515.57\tvalid_0's l2: 2.29695e+06\n",
      "[1766]\tvalid_0's rmse: 1515.55\tvalid_0's l2: 2.29689e+06\n",
      "[1767]\tvalid_0's rmse: 1515.54\tvalid_0's l2: 2.29685e+06\n",
      "[1768]\tvalid_0's rmse: 1515.52\tvalid_0's l2: 2.29679e+06\n",
      "[1769]\tvalid_0's rmse: 1515.51\tvalid_0's l2: 2.29676e+06\n",
      "[1770]\tvalid_0's rmse: 1515.5\tvalid_0's l2: 2.29674e+06\n",
      "[1771]\tvalid_0's rmse: 1515.45\tvalid_0's l2: 2.29659e+06\n",
      "[1772]\tvalid_0's rmse: 1515.43\tvalid_0's l2: 2.29652e+06\n",
      "[1773]\tvalid_0's rmse: 1515.38\tvalid_0's l2: 2.29638e+06\n",
      "[1774]\tvalid_0's rmse: 1515.36\tvalid_0's l2: 2.29633e+06\n",
      "[1775]\tvalid_0's rmse: 1515.32\tvalid_0's l2: 2.2962e+06\n",
      "[1776]\tvalid_0's rmse: 1515.3\tvalid_0's l2: 2.29614e+06\n",
      "[1777]\tvalid_0's rmse: 1515.29\tvalid_0's l2: 2.2961e+06\n",
      "[1778]\tvalid_0's rmse: 1515.27\tvalid_0's l2: 2.29604e+06\n",
      "[1779]\tvalid_0's rmse: 1515.26\tvalid_0's l2: 2.29601e+06\n",
      "[1780]\tvalid_0's rmse: 1515.24\tvalid_0's l2: 2.29594e+06\n",
      "[1781]\tvalid_0's rmse: 1515.19\tvalid_0's l2: 2.29582e+06\n",
      "[1782]\tvalid_0's rmse: 1515.15\tvalid_0's l2: 2.29567e+06\n",
      "[1783]\tvalid_0's rmse: 1515.1\tvalid_0's l2: 2.29553e+06\n",
      "[1784]\tvalid_0's rmse: 1515.06\tvalid_0's l2: 2.29541e+06\n",
      "[1785]\tvalid_0's rmse: 1515.02\tvalid_0's l2: 2.2953e+06\n",
      "[1786]\tvalid_0's rmse: 1514.99\tvalid_0's l2: 2.29519e+06\n",
      "[1787]\tvalid_0's rmse: 1514.95\tvalid_0's l2: 2.29507e+06\n",
      "[1788]\tvalid_0's rmse: 1514.91\tvalid_0's l2: 2.29496e+06\n",
      "[1789]\tvalid_0's rmse: 1514.89\tvalid_0's l2: 2.29488e+06\n",
      "[1790]\tvalid_0's rmse: 1514.87\tvalid_0's l2: 2.29482e+06\n",
      "[1791]\tvalid_0's rmse: 1514.85\tvalid_0's l2: 2.29476e+06\n",
      "[1792]\tvalid_0's rmse: 1514.83\tvalid_0's l2: 2.29472e+06\n",
      "[1793]\tvalid_0's rmse: 1514.81\tvalid_0's l2: 2.29465e+06\n",
      "[1794]\tvalid_0's rmse: 1514.8\tvalid_0's l2: 2.29461e+06\n",
      "[1795]\tvalid_0's rmse: 1514.78\tvalid_0's l2: 2.29456e+06\n",
      "[1796]\tvalid_0's rmse: 1514.76\tvalid_0's l2: 2.29448e+06\n",
      "[1797]\tvalid_0's rmse: 1514.71\tvalid_0's l2: 2.29433e+06\n",
      "[1798]\tvalid_0's rmse: 1514.69\tvalid_0's l2: 2.29428e+06\n",
      "[1799]\tvalid_0's rmse: 1514.64\tvalid_0's l2: 2.29414e+06\n",
      "[1800]\tvalid_0's rmse: 1514.62\tvalid_0's l2: 2.29408e+06\n",
      "[1801]\tvalid_0's rmse: 1514.57\tvalid_0's l2: 2.29393e+06\n"
     ]
    },
    {
     "name": "stdout",
     "output_type": "stream",
     "text": [
      "[1802]\tvalid_0's rmse: 1514.53\tvalid_0's l2: 2.29379e+06\n",
      "[1803]\tvalid_0's rmse: 1514.48\tvalid_0's l2: 2.29366e+06\n",
      "[1804]\tvalid_0's rmse: 1514.44\tvalid_0's l2: 2.29353e+06\n",
      "[1805]\tvalid_0's rmse: 1514.4\tvalid_0's l2: 2.2934e+06\n",
      "[1806]\tvalid_0's rmse: 1514.36\tvalid_0's l2: 2.29328e+06\n",
      "[1807]\tvalid_0's rmse: 1514.32\tvalid_0's l2: 2.29317e+06\n",
      "[1808]\tvalid_0's rmse: 1514.29\tvalid_0's l2: 2.29308e+06\n",
      "[1809]\tvalid_0's rmse: 1514.24\tvalid_0's l2: 2.29293e+06\n",
      "[1810]\tvalid_0's rmse: 1514.21\tvalid_0's l2: 2.29285e+06\n",
      "[1811]\tvalid_0's rmse: 1514.17\tvalid_0's l2: 2.29272e+06\n",
      "[1812]\tvalid_0's rmse: 1514.14\tvalid_0's l2: 2.29261e+06\n",
      "[1813]\tvalid_0's rmse: 1514.09\tvalid_0's l2: 2.29247e+06\n",
      "[1814]\tvalid_0's rmse: 1514.04\tvalid_0's l2: 2.29233e+06\n",
      "[1815]\tvalid_0's rmse: 1514.02\tvalid_0's l2: 2.29226e+06\n",
      "[1816]\tvalid_0's rmse: 1513.98\tvalid_0's l2: 2.29214e+06\n",
      "[1817]\tvalid_0's rmse: 1513.96\tvalid_0's l2: 2.29206e+06\n",
      "[1818]\tvalid_0's rmse: 1513.92\tvalid_0's l2: 2.29197e+06\n",
      "[1819]\tvalid_0's rmse: 1513.9\tvalid_0's l2: 2.29189e+06\n",
      "[1820]\tvalid_0's rmse: 1513.87\tvalid_0's l2: 2.29181e+06\n",
      "[1821]\tvalid_0's rmse: 1513.85\tvalid_0's l2: 2.29175e+06\n",
      "[1822]\tvalid_0's rmse: 1513.83\tvalid_0's l2: 2.29169e+06\n",
      "[1823]\tvalid_0's rmse: 1513.82\tvalid_0's l2: 2.29164e+06\n",
      "[1824]\tvalid_0's rmse: 1513.8\tvalid_0's l2: 2.2916e+06\n",
      "[1825]\tvalid_0's rmse: 1513.79\tvalid_0's l2: 2.29157e+06\n",
      "[1826]\tvalid_0's rmse: 1513.78\tvalid_0's l2: 2.29153e+06\n",
      "[1827]\tvalid_0's rmse: 1513.77\tvalid_0's l2: 2.29151e+06\n",
      "[1828]\tvalid_0's rmse: 1513.76\tvalid_0's l2: 2.29146e+06\n",
      "[1829]\tvalid_0's rmse: 1513.75\tvalid_0's l2: 2.29144e+06\n",
      "[1830]\tvalid_0's rmse: 1513.75\tvalid_0's l2: 2.29145e+06\n",
      "[1831]\tvalid_0's rmse: 1513.76\tvalid_0's l2: 2.29147e+06\n",
      "[1832]\tvalid_0's rmse: 1513.77\tvalid_0's l2: 2.29149e+06\n",
      "[1833]\tvalid_0's rmse: 1513.75\tvalid_0's l2: 2.29144e+06\n",
      "[1834]\tvalid_0's rmse: 1513.76\tvalid_0's l2: 2.29148e+06\n",
      "[1835]\tvalid_0's rmse: 1513.77\tvalid_0's l2: 2.29151e+06\n",
      "[1836]\tvalid_0's rmse: 1513.78\tvalid_0's l2: 2.29153e+06\n",
      "[1837]\tvalid_0's rmse: 1513.75\tvalid_0's l2: 2.29144e+06\n",
      "[1838]\tvalid_0's rmse: 1513.71\tvalid_0's l2: 2.29133e+06\n",
      "[1839]\tvalid_0's rmse: 1513.72\tvalid_0's l2: 2.29135e+06\n",
      "[1840]\tvalid_0's rmse: 1513.69\tvalid_0's l2: 2.29126e+06\n",
      "[1841]\tvalid_0's rmse: 1513.66\tvalid_0's l2: 2.29116e+06\n",
      "[1842]\tvalid_0's rmse: 1513.66\tvalid_0's l2: 2.29116e+06\n",
      "[1843]\tvalid_0's rmse: 1513.64\tvalid_0's l2: 2.2911e+06\n",
      "[1844]\tvalid_0's rmse: 1513.64\tvalid_0's l2: 2.2911e+06\n",
      "[1845]\tvalid_0's rmse: 1513.6\tvalid_0's l2: 2.29098e+06\n",
      "[1846]\tvalid_0's rmse: 1513.6\tvalid_0's l2: 2.29099e+06\n",
      "[1847]\tvalid_0's rmse: 1513.57\tvalid_0's l2: 2.29089e+06\n",
      "[1848]\tvalid_0's rmse: 1513.55\tvalid_0's l2: 2.29083e+06\n",
      "[1849]\tvalid_0's rmse: 1513.55\tvalid_0's l2: 2.29084e+06\n",
      "[1850]\tvalid_0's rmse: 1513.53\tvalid_0's l2: 2.29077e+06\n",
      "[1851]\tvalid_0's rmse: 1513.5\tvalid_0's l2: 2.29068e+06\n",
      "[1852]\tvalid_0's rmse: 1513.48\tvalid_0's l2: 2.29063e+06\n",
      "[1853]\tvalid_0's rmse: 1513.48\tvalid_0's l2: 2.29063e+06\n",
      "[1854]\tvalid_0's rmse: 1513.46\tvalid_0's l2: 2.29055e+06\n",
      "[1855]\tvalid_0's rmse: 1513.44\tvalid_0's l2: 2.29049e+06\n",
      "[1856]\tvalid_0's rmse: 1513.43\tvalid_0's l2: 2.29048e+06\n",
      "[1857]\tvalid_0's rmse: 1513.42\tvalid_0's l2: 2.29043e+06\n",
      "[1858]\tvalid_0's rmse: 1513.42\tvalid_0's l2: 2.29043e+06\n",
      "[1859]\tvalid_0's rmse: 1513.4\tvalid_0's l2: 2.29037e+06\n",
      "[1860]\tvalid_0's rmse: 1513.35\tvalid_0's l2: 2.29023e+06\n",
      "[1861]\tvalid_0's rmse: 1513.34\tvalid_0's l2: 2.29018e+06\n",
      "[1862]\tvalid_0's rmse: 1513.32\tvalid_0's l2: 2.29013e+06\n",
      "[1863]\tvalid_0's rmse: 1513.31\tvalid_0's l2: 2.2901e+06\n",
      "[1864]\tvalid_0's rmse: 1513.25\tvalid_0's l2: 2.28993e+06\n",
      "[1865]\tvalid_0's rmse: 1513.22\tvalid_0's l2: 2.28984e+06\n",
      "[1866]\tvalid_0's rmse: 1513.16\tvalid_0's l2: 2.28967e+06\n",
      "[1867]\tvalid_0's rmse: 1513.13\tvalid_0's l2: 2.28955e+06\n",
      "[1868]\tvalid_0's rmse: 1513.12\tvalid_0's l2: 2.28952e+06\n",
      "[1869]\tvalid_0's rmse: 1513.06\tvalid_0's l2: 2.28936e+06\n",
      "[1870]\tvalid_0's rmse: 1513.03\tvalid_0's l2: 2.28925e+06\n",
      "[1871]\tvalid_0's rmse: 1512.97\tvalid_0's l2: 2.28909e+06\n",
      "[1872]\tvalid_0's rmse: 1512.94\tvalid_0's l2: 2.289e+06\n",
      "[1873]\tvalid_0's rmse: 1512.89\tvalid_0's l2: 2.28885e+06\n",
      "[1874]\tvalid_0's rmse: 1512.86\tvalid_0's l2: 2.28875e+06\n",
      "[1875]\tvalid_0's rmse: 1512.81\tvalid_0's l2: 2.28859e+06\n",
      "[1876]\tvalid_0's rmse: 1512.76\tvalid_0's l2: 2.28844e+06\n",
      "[1877]\tvalid_0's rmse: 1512.74\tvalid_0's l2: 2.28837e+06\n",
      "[1878]\tvalid_0's rmse: 1512.7\tvalid_0's l2: 2.28827e+06\n",
      "[1879]\tvalid_0's rmse: 1512.67\tvalid_0's l2: 2.28818e+06\n",
      "[1880]\tvalid_0's rmse: 1512.65\tvalid_0's l2: 2.28811e+06\n",
      "[1881]\tvalid_0's rmse: 1512.62\tvalid_0's l2: 2.28801e+06\n",
      "[1882]\tvalid_0's rmse: 1512.59\tvalid_0's l2: 2.28794e+06\n",
      "[1883]\tvalid_0's rmse: 1512.56\tvalid_0's l2: 2.28784e+06\n",
      "[1884]\tvalid_0's rmse: 1512.54\tvalid_0's l2: 2.28778e+06\n",
      "[1885]\tvalid_0's rmse: 1512.52\tvalid_0's l2: 2.28772e+06\n",
      "[1886]\tvalid_0's rmse: 1512.51\tvalid_0's l2: 2.28768e+06\n",
      "[1887]\tvalid_0's rmse: 1512.49\tvalid_0's l2: 2.28764e+06\n",
      "[1888]\tvalid_0's rmse: 1512.47\tvalid_0's l2: 2.28756e+06\n",
      "[1889]\tvalid_0's rmse: 1512.44\tvalid_0's l2: 2.28749e+06\n",
      "[1890]\tvalid_0's rmse: 1512.42\tvalid_0's l2: 2.28741e+06\n",
      "[1891]\tvalid_0's rmse: 1512.4\tvalid_0's l2: 2.28734e+06\n",
      "[1892]\tvalid_0's rmse: 1512.38\tvalid_0's l2: 2.28728e+06\n",
      "[1893]\tvalid_0's rmse: 1512.36\tvalid_0's l2: 2.28723e+06\n",
      "[1894]\tvalid_0's rmse: 1512.34\tvalid_0's l2: 2.28717e+06\n",
      "[1895]\tvalid_0's rmse: 1512.33\tvalid_0's l2: 2.28715e+06\n",
      "[1896]\tvalid_0's rmse: 1512.31\tvalid_0's l2: 2.28709e+06\n",
      "[1897]\tvalid_0's rmse: 1512.3\tvalid_0's l2: 2.28707e+06\n",
      "[1898]\tvalid_0's rmse: 1512.3\tvalid_0's l2: 2.28706e+06\n",
      "[1899]\tvalid_0's rmse: 1512.29\tvalid_0's l2: 2.28701e+06\n",
      "[1900]\tvalid_0's rmse: 1512.27\tvalid_0's l2: 2.28696e+06\n",
      "[1901]\tvalid_0's rmse: 1512.25\tvalid_0's l2: 2.2869e+06\n",
      "[1902]\tvalid_0's rmse: 1512.22\tvalid_0's l2: 2.28682e+06\n",
      "[1903]\tvalid_0's rmse: 1512.2\tvalid_0's l2: 2.28674e+06\n",
      "[1904]\tvalid_0's rmse: 1512.16\tvalid_0's l2: 2.28664e+06\n",
      "[1905]\tvalid_0's rmse: 1512.13\tvalid_0's l2: 2.28653e+06\n",
      "[1906]\tvalid_0's rmse: 1512.09\tvalid_0's l2: 2.28643e+06\n",
      "[1907]\tvalid_0's rmse: 1512.08\tvalid_0's l2: 2.28637e+06\n",
      "[1908]\tvalid_0's rmse: 1512.05\tvalid_0's l2: 2.28629e+06\n",
      "[1909]\tvalid_0's rmse: 1512.03\tvalid_0's l2: 2.28624e+06\n",
      "[1910]\tvalid_0's rmse: 1512.01\tvalid_0's l2: 2.28617e+06\n",
      "[1911]\tvalid_0's rmse: 1511.98\tvalid_0's l2: 2.2861e+06\n",
      "[1912]\tvalid_0's rmse: 1511.97\tvalid_0's l2: 2.28604e+06\n",
      "[1913]\tvalid_0's rmse: 1511.95\tvalid_0's l2: 2.28599e+06\n",
      "[1914]\tvalid_0's rmse: 1511.94\tvalid_0's l2: 2.28597e+06\n",
      "[1915]\tvalid_0's rmse: 1511.92\tvalid_0's l2: 2.28591e+06\n",
      "[1916]\tvalid_0's rmse: 1511.91\tvalid_0's l2: 2.28587e+06\n",
      "[1917]\tvalid_0's rmse: 1511.92\tvalid_0's l2: 2.2859e+06\n",
      "[1918]\tvalid_0's rmse: 1511.9\tvalid_0's l2: 2.28584e+06\n",
      "[1919]\tvalid_0's rmse: 1511.9\tvalid_0's l2: 2.28583e+06\n",
      "[1920]\tvalid_0's rmse: 1511.87\tvalid_0's l2: 2.28576e+06\n",
      "[1921]\tvalid_0's rmse: 1511.82\tvalid_0's l2: 2.28559e+06\n",
      "[1922]\tvalid_0's rmse: 1511.76\tvalid_0's l2: 2.2854e+06\n",
      "[1923]\tvalid_0's rmse: 1511.71\tvalid_0's l2: 2.28527e+06\n",
      "[1924]\tvalid_0's rmse: 1511.66\tvalid_0's l2: 2.28511e+06\n",
      "[1925]\tvalid_0's rmse: 1511.61\tvalid_0's l2: 2.28497e+06\n",
      "[1926]\tvalid_0's rmse: 1511.56\tvalid_0's l2: 2.28482e+06\n",
      "[1927]\tvalid_0's rmse: 1511.53\tvalid_0's l2: 2.28471e+06\n",
      "[1928]\tvalid_0's rmse: 1511.48\tvalid_0's l2: 2.28456e+06\n",
      "[1929]\tvalid_0's rmse: 1511.46\tvalid_0's l2: 2.28451e+06\n",
      "[1930]\tvalid_0's rmse: 1511.43\tvalid_0's l2: 2.28441e+06\n",
      "[1931]\tvalid_0's rmse: 1511.4\tvalid_0's l2: 2.28433e+06\n",
      "[1932]\tvalid_0's rmse: 1511.38\tvalid_0's l2: 2.28426e+06\n",
      "[1933]\tvalid_0's rmse: 1511.36\tvalid_0's l2: 2.2842e+06\n",
      "[1934]\tvalid_0's rmse: 1511.32\tvalid_0's l2: 2.28408e+06\n",
      "[1935]\tvalid_0's rmse: 1511.29\tvalid_0's l2: 2.28401e+06\n",
      "[1936]\tvalid_0's rmse: 1511.26\tvalid_0's l2: 2.2839e+06\n",
      "[1937]\tvalid_0's rmse: 1511.25\tvalid_0's l2: 2.28389e+06\n",
      "[1938]\tvalid_0's rmse: 1511.21\tvalid_0's l2: 2.28374e+06\n",
      "[1939]\tvalid_0's rmse: 1511.14\tvalid_0's l2: 2.28354e+06\n",
      "[1940]\tvalid_0's rmse: 1511.11\tvalid_0's l2: 2.28344e+06\n",
      "[1941]\tvalid_0's rmse: 1511.11\tvalid_0's l2: 2.28344e+06\n",
      "[1942]\tvalid_0's rmse: 1511.09\tvalid_0's l2: 2.28339e+06\n",
      "[1943]\tvalid_0's rmse: 1511.07\tvalid_0's l2: 2.28334e+06\n",
      "[1944]\tvalid_0's rmse: 1511.06\tvalid_0's l2: 2.28331e+06\n",
      "[1945]\tvalid_0's rmse: 1511.01\tvalid_0's l2: 2.28316e+06\n",
      "[1946]\tvalid_0's rmse: 1511\tvalid_0's l2: 2.28312e+06\n",
      "[1947]\tvalid_0's rmse: 1510.98\tvalid_0's l2: 2.28306e+06\n",
      "[1948]\tvalid_0's rmse: 1510.93\tvalid_0's l2: 2.28292e+06\n",
      "[1949]\tvalid_0's rmse: 1510.91\tvalid_0's l2: 2.28286e+06\n",
      "[1950]\tvalid_0's rmse: 1510.89\tvalid_0's l2: 2.28279e+06\n"
     ]
    },
    {
     "name": "stdout",
     "output_type": "stream",
     "text": [
      "[1951]\tvalid_0's rmse: 1510.87\tvalid_0's l2: 2.28274e+06\n",
      "[1952]\tvalid_0's rmse: 1510.88\tvalid_0's l2: 2.28275e+06\n",
      "[1953]\tvalid_0's rmse: 1510.84\tvalid_0's l2: 2.28263e+06\n",
      "[1954]\tvalid_0's rmse: 1510.83\tvalid_0's l2: 2.2826e+06\n",
      "[1955]\tvalid_0's rmse: 1510.82\tvalid_0's l2: 2.28257e+06\n",
      "[1956]\tvalid_0's rmse: 1510.77\tvalid_0's l2: 2.28243e+06\n",
      "[1957]\tvalid_0's rmse: 1510.76\tvalid_0's l2: 2.28239e+06\n",
      "[1958]\tvalid_0's rmse: 1510.72\tvalid_0's l2: 2.28227e+06\n",
      "[1959]\tvalid_0's rmse: 1510.71\tvalid_0's l2: 2.28225e+06\n",
      "[1960]\tvalid_0's rmse: 1510.71\tvalid_0's l2: 2.28223e+06\n",
      "[1961]\tvalid_0's rmse: 1510.7\tvalid_0's l2: 2.28221e+06\n",
      "[1962]\tvalid_0's rmse: 1510.69\tvalid_0's l2: 2.28217e+06\n",
      "[1963]\tvalid_0's rmse: 1510.68\tvalid_0's l2: 2.28215e+06\n",
      "[1964]\tvalid_0's rmse: 1510.66\tvalid_0's l2: 2.2821e+06\n",
      "[1965]\tvalid_0's rmse: 1510.66\tvalid_0's l2: 2.2821e+06\n",
      "[1966]\tvalid_0's rmse: 1510.65\tvalid_0's l2: 2.28205e+06\n",
      "[1967]\tvalid_0's rmse: 1510.64\tvalid_0's l2: 2.28204e+06\n",
      "[1968]\tvalid_0's rmse: 1510.63\tvalid_0's l2: 2.282e+06\n",
      "[1969]\tvalid_0's rmse: 1510.61\tvalid_0's l2: 2.28196e+06\n",
      "[1970]\tvalid_0's rmse: 1510.61\tvalid_0's l2: 2.28195e+06\n",
      "[1971]\tvalid_0's rmse: 1510.6\tvalid_0's l2: 2.2819e+06\n",
      "[1972]\tvalid_0's rmse: 1510.58\tvalid_0's l2: 2.28186e+06\n",
      "[1973]\tvalid_0's rmse: 1510.59\tvalid_0's l2: 2.28187e+06\n",
      "[1974]\tvalid_0's rmse: 1510.57\tvalid_0's l2: 2.28182e+06\n",
      "[1975]\tvalid_0's rmse: 1510.56\tvalid_0's l2: 2.2818e+06\n",
      "[1976]\tvalid_0's rmse: 1510.55\tvalid_0's l2: 2.28177e+06\n",
      "[1977]\tvalid_0's rmse: 1510.55\tvalid_0's l2: 2.28177e+06\n",
      "[1978]\tvalid_0's rmse: 1510.54\tvalid_0's l2: 2.28172e+06\n",
      "[1979]\tvalid_0's rmse: 1510.53\tvalid_0's l2: 2.28171e+06\n",
      "[1980]\tvalid_0's rmse: 1510.53\tvalid_0's l2: 2.2817e+06\n",
      "[1981]\tvalid_0's rmse: 1510.46\tvalid_0's l2: 2.28149e+06\n",
      "[1982]\tvalid_0's rmse: 1510.38\tvalid_0's l2: 2.28124e+06\n",
      "[1983]\tvalid_0's rmse: 1510.31\tvalid_0's l2: 2.28104e+06\n",
      "[1984]\tvalid_0's rmse: 1510.25\tvalid_0's l2: 2.28086e+06\n",
      "[1985]\tvalid_0's rmse: 1510.16\tvalid_0's l2: 2.28057e+06\n",
      "[1986]\tvalid_0's rmse: 1510.09\tvalid_0's l2: 2.28038e+06\n",
      "[1987]\tvalid_0's rmse: 1510.02\tvalid_0's l2: 2.28015e+06\n",
      "[1988]\tvalid_0's rmse: 1509.96\tvalid_0's l2: 2.27998e+06\n",
      "[1989]\tvalid_0's rmse: 1509.91\tvalid_0's l2: 2.27983e+06\n",
      "[1990]\tvalid_0's rmse: 1509.83\tvalid_0's l2: 2.2796e+06\n",
      "[1991]\tvalid_0's rmse: 1509.76\tvalid_0's l2: 2.27938e+06\n",
      "[1992]\tvalid_0's rmse: 1509.71\tvalid_0's l2: 2.27921e+06\n",
      "[1993]\tvalid_0's rmse: 1509.62\tvalid_0's l2: 2.27894e+06\n",
      "[1994]\tvalid_0's rmse: 1509.57\tvalid_0's l2: 2.27879e+06\n",
      "[1995]\tvalid_0's rmse: 1509.51\tvalid_0's l2: 2.27861e+06\n",
      "[1996]\tvalid_0's rmse: 1509.45\tvalid_0's l2: 2.27845e+06\n",
      "[1997]\tvalid_0's rmse: 1509.36\tvalid_0's l2: 2.27818e+06\n",
      "[1998]\tvalid_0's rmse: 1509.31\tvalid_0's l2: 2.27801e+06\n",
      "[1999]\tvalid_0's rmse: 1509.24\tvalid_0's l2: 2.27782e+06\n",
      "[2000]\tvalid_0's rmse: 1509.17\tvalid_0's l2: 2.2776e+06\n"
     ]
    },
    {
     "data": {
      "text/html": [
       "<style>#sk-container-id-2 {color: black;background-color: white;}#sk-container-id-2 pre{padding: 0;}#sk-container-id-2 div.sk-toggleable {background-color: white;}#sk-container-id-2 label.sk-toggleable__label {cursor: pointer;display: block;width: 100%;margin-bottom: 0;padding: 0.3em;box-sizing: border-box;text-align: center;}#sk-container-id-2 label.sk-toggleable__label-arrow:before {content: \"▸\";float: left;margin-right: 0.25em;color: #696969;}#sk-container-id-2 label.sk-toggleable__label-arrow:hover:before {color: black;}#sk-container-id-2 div.sk-estimator:hover label.sk-toggleable__label-arrow:before {color: black;}#sk-container-id-2 div.sk-toggleable__content {max-height: 0;max-width: 0;overflow: hidden;text-align: left;background-color: #f0f8ff;}#sk-container-id-2 div.sk-toggleable__content pre {margin: 0.2em;color: black;border-radius: 0.25em;background-color: #f0f8ff;}#sk-container-id-2 input.sk-toggleable__control:checked~div.sk-toggleable__content {max-height: 200px;max-width: 100%;overflow: auto;}#sk-container-id-2 input.sk-toggleable__control:checked~label.sk-toggleable__label-arrow:before {content: \"▾\";}#sk-container-id-2 div.sk-estimator input.sk-toggleable__control:checked~label.sk-toggleable__label {background-color: #d4ebff;}#sk-container-id-2 div.sk-label input.sk-toggleable__control:checked~label.sk-toggleable__label {background-color: #d4ebff;}#sk-container-id-2 input.sk-hidden--visually {border: 0;clip: rect(1px 1px 1px 1px);clip: rect(1px, 1px, 1px, 1px);height: 1px;margin: -1px;overflow: hidden;padding: 0;position: absolute;width: 1px;}#sk-container-id-2 div.sk-estimator {font-family: monospace;background-color: #f0f8ff;border: 1px dotted black;border-radius: 0.25em;box-sizing: border-box;margin-bottom: 0.5em;}#sk-container-id-2 div.sk-estimator:hover {background-color: #d4ebff;}#sk-container-id-2 div.sk-parallel-item::after {content: \"\";width: 100%;border-bottom: 1px solid gray;flex-grow: 1;}#sk-container-id-2 div.sk-label:hover label.sk-toggleable__label {background-color: #d4ebff;}#sk-container-id-2 div.sk-serial::before {content: \"\";position: absolute;border-left: 1px solid gray;box-sizing: border-box;top: 0;bottom: 0;left: 50%;z-index: 0;}#sk-container-id-2 div.sk-serial {display: flex;flex-direction: column;align-items: center;background-color: white;padding-right: 0.2em;padding-left: 0.2em;position: relative;}#sk-container-id-2 div.sk-item {position: relative;z-index: 1;}#sk-container-id-2 div.sk-parallel {display: flex;align-items: stretch;justify-content: center;background-color: white;position: relative;}#sk-container-id-2 div.sk-item::before, #sk-container-id-2 div.sk-parallel-item::before {content: \"\";position: absolute;border-left: 1px solid gray;box-sizing: border-box;top: 0;bottom: 0;left: 50%;z-index: -1;}#sk-container-id-2 div.sk-parallel-item {display: flex;flex-direction: column;z-index: 1;position: relative;background-color: white;}#sk-container-id-2 div.sk-parallel-item:first-child::after {align-self: flex-end;width: 50%;}#sk-container-id-2 div.sk-parallel-item:last-child::after {align-self: flex-start;width: 50%;}#sk-container-id-2 div.sk-parallel-item:only-child::after {width: 0;}#sk-container-id-2 div.sk-dashed-wrapped {border: 1px dashed gray;margin: 0 0.4em 0.5em 0.4em;box-sizing: border-box;padding-bottom: 0.4em;background-color: white;}#sk-container-id-2 div.sk-label label {font-family: monospace;font-weight: bold;display: inline-block;line-height: 1.2em;}#sk-container-id-2 div.sk-label-container {text-align: center;}#sk-container-id-2 div.sk-container {/* jupyter's `normalize.less` sets `[hidden] { display: none; }` but bootstrap.min.css set `[hidden] { display: none !important; }` so we also need the `!important` here to be able to override the default hidden behavior on the sphinx rendered scikit-learn.org. See: https://github.com/scikit-learn/scikit-learn/issues/21755 */display: inline-block !important;position: relative;}#sk-container-id-2 div.sk-text-repr-fallback {display: none;}</style><div id=\"sk-container-id-2\" class=\"sk-top-container\"><div class=\"sk-text-repr-fallback\"><pre>LGBMRegressor(early_stopping_rounds=50, learning_rate=0.01,\n",
       "              num_boost_round=2000, num_leaves=63, random_state=42,\n",
       "              subsample=0.5, subsample_freq=20)</pre><b>In a Jupyter environment, please rerun this cell to show the HTML representation or trust the notebook. <br />On GitHub, the HTML representation is unable to render, please try loading this page with nbviewer.org.</b></div><div class=\"sk-container\" hidden><div class=\"sk-item\"><div class=\"sk-estimator sk-toggleable\"><input class=\"sk-toggleable__control sk-hidden--visually\" id=\"sk-estimator-id-2\" type=\"checkbox\" checked><label for=\"sk-estimator-id-2\" class=\"sk-toggleable__label sk-toggleable__label-arrow\">LGBMRegressor</label><div class=\"sk-toggleable__content\"><pre>LGBMRegressor(early_stopping_rounds=50, learning_rate=0.01,\n",
       "              num_boost_round=2000, num_leaves=63, random_state=42,\n",
       "              subsample=0.5, subsample_freq=20)</pre></div></div></div></div></div>"
      ],
      "text/plain": [
       "LGBMRegressor(early_stopping_rounds=50, learning_rate=0.01,\n",
       "              num_boost_round=2000, num_leaves=63, random_state=42,\n",
       "              subsample=0.5, subsample_freq=20)"
      ]
     },
     "execution_count": 44,
     "metadata": {},
     "output_type": "execute_result"
    }
   ],
   "source": [
    "model_lgbm.fit(X=features_train_lgbm, y=target_train_lgbm, eval_set = (\n",
    "    features_valid_lgbm, target_valid_lgbm), eval_metric='rmse')"
   ]
  },
  {
   "cell_type": "code",
   "execution_count": 45,
   "metadata": {},
   "outputs": [
    {
     "name": "stdout",
     "output_type": "stream",
     "text": [
      "LigthGBM RMSE Train: 1407.7950356677552\n",
      "LigthGBM RMSE Valid: 1509.17346005288\n"
     ]
    }
   ],
   "source": [
    "target_train_pred = model_lgbm.predict(features_train_lgbm)\n",
    "target_valid_pred = model_lgbm.predict(features_valid_lgbm)\n",
    "\n",
    "print(\"LigthGBM RMSE Train: {}\\nLigthGBM RMSE Valid: {}\".format(mean_squared_error(target_train_lgbm, target_train_pred)**0.5,\n",
    "                                             mean_squared_error(target_valid_lgbm, target_valid_pred)**0.5))"
   ]
  },
  {
   "cell_type": "code",
   "execution_count": 59,
   "metadata": {},
   "outputs": [
    {
     "data": {
      "image/png": "[encoded data removed]",
      "text/plain": [
       "<Figure size 800x800 with 1 Axes>"
      ]
     },
     "metadata": {},
     "output_type": "display_data"
    }
   ],
   "source": [
    "feature_importances = model_lgbm.feature_importances_\n",
    "feature_importances_df = pd.DataFrame({'feature': list(features_train.columns),\n",
    "                                      'feature_importances':feature_importances})\n",
    "feature_importances_df = feature_importances_df.sort_values('feature_importances', ascending=False)\n",
    "plt.figure(figsize=(8, 8))\n",
    "plt.title('Важность признаков для модели LGBM')\n",
    "sns.barplot(x=feature_importances_df.feature_importances, y=feature_importances_df.feature);"
   ]
  },
  {
   "cell_type": "markdown",
   "metadata": {},
   "source": [
    "При построении модели LightGBM самыми выделяющимися по значимости признаками стали количество л.с., год регистрации, модель автомобиля. Тип топлива как и в модели леса имеет самую низкую значимость."
   ]
  },
  {
   "cell_type": "markdown",
   "metadata": {},
   "source": [
    " "
   ]
  },
  {
   "cell_type": "markdown",
   "metadata": {},
   "source": [
    "Оценив поверхностно результаты, можно выделить модель LightGBM, как наиболее качественную по метрике RMSE. В рабочем варианте было использовано 3270 итераций, что позволило еще больше сократить ошибку.\n",
    "\n",
    "В итоговой работе было принято решение оставить 2000 итераций для сокращения времени выполнения обучения/предсказания. Локально бустинг работает быстрее."
   ]
  },
  {
   "cell_type": "markdown",
   "metadata": {},
   "source": [
    " "
   ]
  },
  {
   "cell_type": "markdown",
   "metadata": {},
   "source": [
    "## Анализ моделей"
   ]
  },
  {
   "cell_type": "markdown",
   "metadata": {},
   "source": [
    "А теперь подробно рассмотрим время обучения моделей, время предсказания и сравним качество предсказаний.\n",
    "\n",
    "Время выполнения кода будем измерять с помощью магической функции в JupyterNotebook - `%timeit`"
   ]
  },
  {
   "cell_type": "markdown",
   "metadata": {},
   "source": [
    "### AdaBoost"
   ]
  },
  {
   "cell_type": "code",
   "execution_count": 47,
   "metadata": {},
   "outputs": [
    {
     "name": "stdout",
     "output_type": "stream",
     "text": [
      "37.7 s ± 2.7 s per loop (mean ± std. dev. of 7 runs, 1 loop each)\n"
     ]
    }
   ],
   "source": [
    "%timeit model_ada.fit(features_train, target_train)"
   ]
  },
  {
   "cell_type": "code",
   "execution_count": 48,
   "metadata": {},
   "outputs": [
    {
     "name": "stdout",
     "output_type": "stream",
     "text": [
      "1.63 s ± 77.5 ms per loop (mean ± std. dev. of 7 runs, 1 loop each)\n"
     ]
    }
   ],
   "source": [
    "%timeit model_ada.predict(features_train)"
   ]
  },
  {
   "cell_type": "code",
   "execution_count": 49,
   "metadata": {},
   "outputs": [],
   "source": [
    "ada_score = ((cross_val_score(model_ada, features_train, target_train, scoring='neg_mean_squared_error') * -1)**0.5).mean()"
   ]
  },
  {
   "cell_type": "code",
   "execution_count": 50,
   "metadata": {},
   "outputs": [
    {
     "name": "stdout",
     "output_type": "stream",
     "text": [
      "Adaboost RMSE Valid: 2496.94\n"
     ]
    }
   ],
   "source": [
    "print(\"Adaboost RMSE Valid: {}\".format(ada_score.round(2)))"
   ]
  },
  {
   "cell_type": "markdown",
   "metadata": {},
   "source": [
    "Время обучения - 38 секунд;\n",
    "\n",
    "Время предсказания - 1.6 секунд;\n",
    "\n",
    "Качество модели - 2496.94"
   ]
  },
  {
   "cell_type": "markdown",
   "metadata": {},
   "source": [
    " "
   ]
  },
  {
   "cell_type": "markdown",
   "metadata": {},
   "source": [
    "### Random Forest"
   ]
  },
  {
   "cell_type": "code",
   "execution_count": 51,
   "metadata": {},
   "outputs": [
    {
     "name": "stdout",
     "output_type": "stream",
     "text": [
      "2min 48s ± 4.23 s per loop (mean ± std. dev. of 7 runs, 1 loop each)\n"
     ]
    }
   ],
   "source": [
    "%timeit model_forest.fit(features_train, target_train)"
   ]
  },
  {
   "cell_type": "code",
   "execution_count": 52,
   "metadata": {},
   "outputs": [
    {
     "name": "stdout",
     "output_type": "stream",
     "text": [
      "8.92 s ± 424 ms per loop (mean ± std. dev. of 7 runs, 1 loop each)\n"
     ]
    }
   ],
   "source": [
    "%timeit model_forest.predict(features_train)"
   ]
  },
  {
   "cell_type": "code",
   "execution_count": 53,
   "metadata": {},
   "outputs": [],
   "source": [
    "forest_score = ((cross_val_score(model_forest, features_train, target_train, scoring='neg_mean_squared_error') * -1)**0.5).mean()"
   ]
  },
  {
   "cell_type": "code",
   "execution_count": 54,
   "metadata": {},
   "outputs": [
    {
     "name": "stdout",
     "output_type": "stream",
     "text": [
      "RandomForest RMSE Valid: 1549.35\n"
     ]
    }
   ],
   "source": [
    "print(\"RandomForest RMSE Valid: {}\".format(forest_score.round(2)))"
   ]
  },
  {
   "cell_type": "markdown",
   "metadata": {},
   "source": [
    "Время обучения - 2 минуты 48 секунд;\n",
    "\n",
    "Время предсказания - 9 секунд;\n",
    "\n",
    "Качество модели - 1549.35"
   ]
  },
  {
   "cell_type": "markdown",
   "metadata": {},
   "source": [
    " "
   ]
  },
  {
   "cell_type": "markdown",
   "metadata": {},
   "source": [
    "### LightGBM"
   ]
  },
  {
   "cell_type": "code",
   "execution_count": 55,
   "metadata": {
    "scrolled": true
   },
   "outputs": [
    {
     "name": "stdout",
     "output_type": "stream",
     "text": [
      "[LightGBM] [Warning] early_stopping_round is set=50, early_stopping_rounds=50 will be ignored. Current value: early_stopping_round=50\n",
      "[LightGBM] [Warning] num_iterations is set=2000, num_boost_round=2000 will be ignored. Current value: num_iterations=2000\n",
      "47.6 s ± 730 ms per loop (mean ± std. dev. of 7 runs, 1 loop each)\n"
     ]
    }
   ],
   "source": [
    "%timeit model_lgbm.fit(X=features_train_lgbm, y=target_train_lgbm, eval_set = (features_valid_lgbm, target_valid_lgbm), eval_metric='rmse', verbose=0)"
   ]
  },
  {
   "cell_type": "code",
   "execution_count": 56,
   "metadata": {},
   "outputs": [
    {
     "name": "stdout",
     "output_type": "stream",
     "text": [
      "21 s ± 156 ms per loop (mean ± std. dev. of 7 runs, 1 loop each)\n"
     ]
    }
   ],
   "source": [
    "%timeit model_lgbm.predict(features_test)"
   ]
  },
  {
   "cell_type": "code",
   "execution_count": 57,
   "metadata": {},
   "outputs": [
    {
     "name": "stdout",
     "output_type": "stream",
     "text": [
      "LigthGBM RMSE Valid: 1509.17346005288\n"
     ]
    }
   ],
   "source": [
    "target_train_pred = model_lgbm.predict(features_train_lgbm)\n",
    "target_valid_pred = model_lgbm.predict(features_valid_lgbm)\n",
    "\n",
    "print(\"LigthGBM RMSE Valid: {}\".format(mean_squared_error(target_valid_lgbm, target_valid_pred)**0.5))"
   ]
  },
  {
   "cell_type": "markdown",
   "metadata": {},
   "source": [
    "Время обучения - 48 секунд;\n",
    "\n",
    "Время предсказания - 21 секунда;\n",
    "\n",
    "Качество модели - 1509.17"
   ]
  },
  {
   "cell_type": "markdown",
   "metadata": {},
   "source": [
    " "
   ]
  },
  {
   "cell_type": "markdown",
   "metadata": {},
   "source": [
    "## Проверка качества на тестовых данных"
   ]
  },
  {
   "cell_type": "markdown",
   "metadata": {},
   "source": [
    "По результатам анализа более качественная модель - модель LightGBM. При этом скорость предсказания меньше у модели Random Forest.\n",
    "\n",
    "Мы остановим свой выбор на LightGBM и проверим модель на тестовых данных."
   ]
  },
  {
   "cell_type": "code",
   "execution_count": 58,
   "metadata": {},
   "outputs": [
    {
     "name": "stdout",
     "output_type": "stream",
     "text": [
      "LigthGBM RMSE Test: 1500.1870259712061\n"
     ]
    }
   ],
   "source": [
    "target_test_pred = model_lgbm.predict(features_test)\n",
    "\n",
    "print(\"LigthGBM RMSE Test: {}\".format(mean_squared_error(target_test, target_test_pred)**0.5))"
   ]
  },
  {
   "cell_type": "markdown",
   "metadata": {},
   "source": [
    " "
   ]
  },
  {
   "cell_type": "markdown",
   "metadata": {},
   "source": [
    " "
   ]
  },
  {
   "cell_type": "markdown",
   "metadata": {},
   "source": [
    "## Общий вывод по работе"
   ]
  },
  {
   "cell_type": "markdown",
   "metadata": {},
   "source": [
    "- В работе были выполнены все поставленные задачи: достигнуто необходимое качество по выбранной заказчиком метрике, имеется несколько вариантов для выбора подходящей по скорости обучения/предсказания модели, одна из моделей реализована на базе градиентного бустинга с использованием библиотеки LightGBM.\n",
    "    \n",
    "---\n",
    "\n",
    "- На первом этапе были выполнены необходимые действия для предобработки данных: приведены к стандарту названия столбцов, удалены малоинформативные столбцы, категориальные значения преобразованы в числовые, проведена проверка на мультиколлинеарность, использованы умные алгоритмы заполнения пропусков. Были удалены аномальные значения.\n",
    "\n",
    "    Здесь также стоит отметить, что необходимо поработать с процессом сбора данных: было очень много                   пропущенных данных и аномальных значений, особенно в искомом признаке - много нулевых значений в                   столбце \"цена\".\n",
    "    \n",
    "---\n",
    "\n",
    "- Обучили три модели: модель AdaBoost, случайный лес, модель LightGBM.\n",
    "    \n",
    "---\n",
    "\n",
    "- По точности лидером является модель LightGBM. При этом ошибка не намного меньше модели Random Forest. Если интересует более быстрое предсказание, можно выбрать RandomForest. Мы в итоге выбрали модель LightGBM. Чтобы получить еще более точные результаты можно увеличить количество итераций.\n",
    "    \n"
   ]
  },
  {
   "cell_type": "markdown",
   "metadata": {},
   "source": [
    " "
   ]
  },
  {
   "cell_type": "code",
   "execution_count": null,
   "metadata": {},
   "outputs": [],
   "source": []
  }
 ],
 "metadata": {
  "ExecuteTimeLog": [
   {
    "duration": 2295,
    "start_time": "2023-04-06T20:56:56.258Z"
   },
   {
    "duration": 1275,
    "start_time": "2023-04-06T20:57:11.487Z"
   },
   {
    "duration": 165,
    "start_time": "2023-04-06T20:57:22.718Z"
   },
   {
    "duration": 579,
    "start_time": "2023-04-06T21:02:29.667Z"
   },
   {
    "duration": 5,
    "start_time": "2023-04-06T21:02:56.020Z"
   },
   {
    "duration": 3,
    "start_time": "2023-04-06T21:03:04.594Z"
   },
   {
    "duration": 36,
    "start_time": "2023-04-06T21:03:13.055Z"
   },
   {
    "duration": 271,
    "start_time": "2023-04-06T21:04:44.189Z"
   },
   {
    "duration": 35,
    "start_time": "2023-04-06T21:06:31.410Z"
   },
   {
    "duration": 15,
    "start_time": "2023-04-06T21:06:57.811Z"
   },
   {
    "duration": 31,
    "start_time": "2023-04-06T21:07:52.855Z"
   },
   {
    "duration": 173,
    "start_time": "2023-04-06T21:09:21.669Z"
   },
   {
    "duration": 4410,
    "start_time": "2023-04-06T21:13:38.614Z"
   },
   {
    "duration": 72,
    "start_time": "2023-04-06T21:13:55.144Z"
   },
   {
    "duration": 39,
    "start_time": "2023-04-06T21:14:35.699Z"
   },
   {
    "duration": 841,
    "start_time": "2023-04-06T21:15:30.407Z"
   },
   {
    "duration": 6280,
    "start_time": "2023-04-06T21:16:05.203Z"
   },
   {
    "duration": 72,
    "start_time": "2023-04-06T21:16:17.699Z"
   },
   {
    "duration": 15,
    "start_time": "2023-04-06T21:16:27.588Z"
   },
   {
    "duration": 66,
    "start_time": "2023-04-06T21:16:33.457Z"
   },
   {
    "duration": 1546,
    "start_time": "2023-04-06T21:17:52.541Z"
   },
   {
    "duration": 1202,
    "start_time": "2023-04-06T21:17:54.089Z"
   },
   {
    "duration": 116,
    "start_time": "2023-04-06T21:17:55.417Z"
   },
   {
    "duration": 564,
    "start_time": "2023-04-06T21:17:59.637Z"
   },
   {
    "duration": 4,
    "start_time": "2023-04-06T21:18:01.612Z"
   },
   {
    "duration": 3,
    "start_time": "2023-04-06T21:18:02.208Z"
   },
   {
    "duration": 270,
    "start_time": "2023-04-06T21:18:03.697Z"
   },
   {
    "duration": 36,
    "start_time": "2023-04-06T21:18:06.711Z"
   },
   {
    "duration": 17,
    "start_time": "2023-04-06T21:18:07.107Z"
   },
   {
    "duration": 49,
    "start_time": "2023-04-06T21:18:08.701Z"
   },
   {
    "duration": 369,
    "start_time": "2023-04-06T21:18:11.619Z"
   },
   {
    "duration": 21,
    "start_time": "2023-04-06T21:18:23.627Z"
   },
   {
    "duration": 27,
    "start_time": "2023-04-06T21:21:58.261Z"
   },
   {
    "duration": 1084773,
    "start_time": "2023-04-06T21:22:18.403Z"
   },
   {
    "duration": 24,
    "start_time": "2023-04-06T21:42:22.817Z"
   },
   {
    "duration": 263,
    "start_time": "2023-04-06T21:42:48.115Z"
   },
   {
    "duration": 83,
    "start_time": "2023-04-06T21:44:01.615Z"
   },
   {
    "duration": 77,
    "start_time": "2023-04-06T21:44:43.811Z"
   },
   {
    "duration": 465,
    "start_time": "2023-04-06T21:46:21.175Z"
   },
   {
    "duration": 10,
    "start_time": "2023-04-06T21:49:52.645Z"
   },
   {
    "duration": 21,
    "start_time": "2023-04-06T21:50:00.379Z"
   },
   {
    "duration": 1569,
    "start_time": "2023-04-06T21:50:19.339Z"
   },
   {
    "duration": 28,
    "start_time": "2023-04-06T21:51:23.540Z"
   },
   {
    "duration": 24,
    "start_time": "2023-04-06T21:51:35.844Z"
   },
   {
    "duration": 1140,
    "start_time": "2023-04-06T21:52:08.417Z"
   },
   {
    "duration": 182,
    "start_time": "2023-04-06T21:52:34.319Z"
   },
   {
    "duration": 55,
    "start_time": "2023-04-06T21:53:56.617Z"
   },
   {
    "duration": 60,
    "start_time": "2023-04-06T21:54:43.808Z"
   },
   {
    "duration": 3,
    "start_time": "2023-04-06T22:02:23.853Z"
   },
   {
    "duration": 14197,
    "start_time": "2023-04-06T22:02:32.529Z"
   },
   {
    "duration": 4,
    "start_time": "2023-04-06T22:03:01.926Z"
   },
   {
    "duration": 4,
    "start_time": "2023-04-06T22:03:43.565Z"
   },
   {
    "duration": 4,
    "start_time": "2023-04-06T22:04:55.475Z"
   },
   {
    "duration": 4,
    "start_time": "2023-04-06T22:05:10.914Z"
   },
   {
    "duration": 135,
    "start_time": "2023-04-06T22:05:23.647Z"
   },
   {
    "duration": 47,
    "start_time": "2023-04-06T22:05:54.188Z"
   },
   {
    "duration": 60,
    "start_time": "2023-04-06T22:06:54.073Z"
   },
   {
    "duration": 4,
    "start_time": "2023-04-06T22:07:18.548Z"
   },
   {
    "duration": 3,
    "start_time": "2023-04-06T22:08:40.116Z"
   },
   {
    "duration": 241751,
    "start_time": "2023-04-06T22:08:54.630Z"
   },
   {
    "duration": 4,
    "start_time": "2023-04-06T22:12:56.384Z"
   },
   {
    "duration": 10,
    "start_time": "2023-04-06T22:12:56.389Z"
   },
   {
    "duration": 824949,
    "start_time": "2023-04-06T22:12:56.401Z"
   },
   {
    "duration": 0,
    "start_time": "2023-04-06T22:26:41.353Z"
   },
   {
    "duration": 0,
    "start_time": "2023-04-06T22:26:41.353Z"
   },
   {
    "duration": 0,
    "start_time": "2023-04-06T22:26:41.355Z"
   },
   {
    "duration": 0,
    "start_time": "2023-04-06T22:26:41.356Z"
   },
   {
    "duration": 29,
    "start_time": "2023-04-06T22:27:03.860Z"
   },
   {
    "duration": 11,
    "start_time": "2023-04-06T22:27:06.561Z"
   },
   {
    "duration": 3,
    "start_time": "2023-04-06T22:27:14.824Z"
   },
   {
    "duration": 13,
    "start_time": "2023-04-06T22:27:19.825Z"
   },
   {
    "duration": 4218211,
    "start_time": "2023-04-06T22:28:13.724Z"
   },
   {
    "duration": 60545,
    "start_time": "2023-04-06T23:38:31.937Z"
   },
   {
    "duration": 0,
    "start_time": "2023-04-06T23:39:32.485Z"
   },
   {
    "duration": 0,
    "start_time": "2023-04-06T23:39:32.486Z"
   },
   {
    "duration": 0,
    "start_time": "2023-04-06T23:39:32.488Z"
   },
   {
    "duration": 0,
    "start_time": "2023-04-06T23:39:32.490Z"
   },
   {
    "duration": 0,
    "start_time": "2023-04-06T23:39:32.491Z"
   },
   {
    "duration": 0,
    "start_time": "2023-04-06T23:39:32.493Z"
   },
   {
    "duration": 0,
    "start_time": "2023-04-06T23:39:32.494Z"
   },
   {
    "duration": 0,
    "start_time": "2023-04-06T23:39:32.524Z"
   },
   {
    "duration": 0,
    "start_time": "2023-04-06T23:39:32.526Z"
   },
   {
    "duration": 60563,
    "start_time": "2023-04-06T23:40:26.807Z"
   },
   {
    "duration": 5135,
    "start_time": "2023-04-06T23:52:00.520Z"
   },
   {
    "duration": 2899,
    "start_time": "2023-04-06T23:52:05.724Z"
   },
   {
    "duration": 201,
    "start_time": "2023-04-06T23:52:08.626Z"
   },
   {
    "duration": 618625,
    "start_time": "2023-04-06T23:52:08.830Z"
   },
   {
    "duration": 14454,
    "start_time": "2023-04-07T00:02:27.456Z"
   },
   {
    "duration": 7008,
    "start_time": "2023-04-07T00:02:41.912Z"
   },
   {
    "duration": 2,
    "start_time": "2023-04-07T00:02:48.922Z"
   },
   {
    "duration": 161688,
    "start_time": "2023-04-07T00:02:48.926Z"
   },
   {
    "duration": 60904,
    "start_time": "2023-04-07T00:05:30.625Z"
   },
   {
    "duration": 0,
    "start_time": "2023-04-07T00:06:31.531Z"
   },
   {
    "duration": 80675,
    "start_time": "2023-04-07T00:13:59.249Z"
   },
   {
    "duration": 123518,
    "start_time": "2023-04-07T00:16:09.832Z"
   },
   {
    "duration": 45,
    "start_time": "2023-04-07T00:18:13.352Z"
   },
   {
    "duration": 497439,
    "start_time": "2023-04-07T00:20:08.744Z"
   },
   {
    "duration": 2478,
    "start_time": "2023-04-07T00:28:47.625Z"
   },
   {
    "duration": 1308,
    "start_time": "2023-04-07T00:28:50.105Z"
   },
   {
    "duration": 850,
    "start_time": "2023-04-07T00:28:51.415Z"
   },
   {
    "duration": 116,
    "start_time": "2023-04-07T00:28:52.267Z"
   },
   {
    "duration": 556,
    "start_time": "2023-04-07T00:28:52.386Z"
   },
   {
    "duration": 5,
    "start_time": "2023-04-07T00:28:52.944Z"
   },
   {
    "duration": 4,
    "start_time": "2023-04-07T00:28:52.951Z"
   },
   {
    "duration": 277,
    "start_time": "2023-04-07T00:28:52.956Z"
   },
   {
    "duration": 36,
    "start_time": "2023-04-07T00:28:53.235Z"
   },
   {
    "duration": 17,
    "start_time": "2023-04-07T00:28:53.272Z"
   },
   {
    "duration": 61,
    "start_time": "2023-04-07T00:28:53.291Z"
   },
   {
    "duration": 390,
    "start_time": "2023-04-07T00:28:53.353Z"
   },
   {
    "duration": 27,
    "start_time": "2023-04-07T00:28:53.745Z"
   },
   {
    "duration": 1068399,
    "start_time": "2023-04-07T00:28:53.775Z"
   },
   {
    "duration": 238,
    "start_time": "2023-04-07T00:46:42.176Z"
   },
   {
    "duration": 59,
    "start_time": "2023-04-07T00:46:42.416Z"
   },
   {
    "duration": 87,
    "start_time": "2023-04-07T00:46:42.478Z"
   },
   {
    "duration": 462,
    "start_time": "2023-04-07T00:46:42.567Z"
   },
   {
    "duration": 8,
    "start_time": "2023-04-07T00:46:43.031Z"
   },
   {
    "duration": 17,
    "start_time": "2023-04-07T00:46:43.041Z"
   },
   {
    "duration": 1337,
    "start_time": "2023-04-07T00:46:43.059Z"
   },
   {
    "duration": 29,
    "start_time": "2023-04-07T00:46:44.398Z"
   },
   {
    "duration": 16,
    "start_time": "2023-04-07T00:46:44.429Z"
   },
   {
    "duration": 1062,
    "start_time": "2023-04-07T00:46:44.447Z"
   },
   {
    "duration": 160,
    "start_time": "2023-04-07T00:46:45.511Z"
   },
   {
    "duration": 55,
    "start_time": "2023-04-07T00:46:45.673Z"
   },
   {
    "duration": 4,
    "start_time": "2023-04-07T00:46:45.730Z"
   },
   {
    "duration": 14397,
    "start_time": "2023-04-07T00:46:45.735Z"
   },
   {
    "duration": 4,
    "start_time": "2023-04-07T00:47:00.133Z"
   },
   {
    "duration": 87,
    "start_time": "2023-04-07T00:47:00.138Z"
   },
   {
    "duration": 17,
    "start_time": "2023-04-07T00:47:00.228Z"
   },
   {
    "duration": 230927,
    "start_time": "2023-04-07T00:47:00.247Z"
   },
   {
    "duration": 3,
    "start_time": "2023-04-07T00:50:51.176Z"
   },
   {
    "duration": 18,
    "start_time": "2023-04-07T00:50:51.181Z"
   },
   {
    "duration": 41,
    "start_time": "2023-04-07T00:50:51.201Z"
   },
   {
    "duration": 3,
    "start_time": "2023-04-07T00:50:51.244Z"
   },
   {
    "duration": 118294,
    "start_time": "2023-04-07T00:50:51.249Z"
   },
   {
    "duration": 60118,
    "start_time": "2023-04-07T00:52:49.545Z"
   },
   {
    "duration": 5588,
    "start_time": "2023-04-07T00:53:49.664Z"
   },
   {
    "duration": 2709,
    "start_time": "2023-04-07T00:53:55.324Z"
   },
   {
    "duration": 112,
    "start_time": "2023-04-07T00:53:58.127Z"
   },
   {
    "duration": 613622,
    "start_time": "2023-04-07T00:53:58.329Z"
   },
   {
    "duration": 14333,
    "start_time": "2023-04-07T01:04:11.953Z"
   },
   {
    "duration": 6952,
    "start_time": "2023-04-07T01:04:26.288Z"
   },
   {
    "duration": 867802,
    "start_time": "2023-04-07T01:04:33.242Z"
   },
   {
    "duration": 159099,
    "start_time": "2023-04-07T01:19:01.045Z"
   },
   {
    "duration": 79420,
    "start_time": "2023-04-07T01:21:40.145Z"
   },
   {
    "duration": 6680,
    "start_time": "2023-04-09T11:11:21.654Z"
   },
   {
    "duration": 1716,
    "start_time": "2023-04-09T11:11:28.337Z"
   },
   {
    "duration": 3199,
    "start_time": "2023-04-09T11:11:30.056Z"
   },
   {
    "duration": 387,
    "start_time": "2023-04-09T11:11:33.257Z"
   },
   {
    "duration": 543,
    "start_time": "2023-04-09T11:11:33.647Z"
   },
   {
    "duration": 4,
    "start_time": "2023-04-09T11:11:34.192Z"
   },
   {
    "duration": 18,
    "start_time": "2023-04-09T11:11:34.198Z"
   },
   {
    "duration": 294,
    "start_time": "2023-04-09T11:11:34.218Z"
   },
   {
    "duration": 68,
    "start_time": "2023-04-09T11:11:34.514Z"
   },
   {
    "duration": 13,
    "start_time": "2023-04-09T11:11:34.584Z"
   },
   {
    "duration": 58,
    "start_time": "2023-04-09T11:11:34.598Z"
   },
   {
    "duration": 351,
    "start_time": "2023-04-09T11:11:34.658Z"
   },
   {
    "duration": 43,
    "start_time": "2023-04-09T11:11:35.011Z"
   },
   {
    "duration": 1203177,
    "start_time": "2023-04-09T11:11:35.059Z"
   },
   {
    "duration": 279,
    "start_time": "2023-04-09T11:31:38.238Z"
   },
   {
    "duration": 67,
    "start_time": "2023-04-09T11:31:38.519Z"
   },
   {
    "duration": 270,
    "start_time": "2023-04-09T11:31:38.588Z"
   },
   {
    "duration": 492,
    "start_time": "2023-04-09T11:31:38.861Z"
   },
   {
    "duration": 7,
    "start_time": "2023-04-09T11:31:39.355Z"
   },
   {
    "duration": 53,
    "start_time": "2023-04-09T11:31:39.364Z"
   },
   {
    "duration": 1451,
    "start_time": "2023-04-09T11:31:39.420Z"
   },
   {
    "duration": 33,
    "start_time": "2023-04-09T11:31:40.874Z"
   },
   {
    "duration": 45,
    "start_time": "2023-04-09T11:31:40.909Z"
   },
   {
    "duration": 1147,
    "start_time": "2023-04-09T11:31:40.956Z"
   },
   {
    "duration": 181,
    "start_time": "2023-04-09T11:31:42.105Z"
   },
   {
    "duration": 148,
    "start_time": "2023-04-09T11:31:42.290Z"
   },
   {
    "duration": 78,
    "start_time": "2023-04-09T11:32:36.132Z"
   },
   {
    "duration": 37,
    "start_time": "2023-04-09T11:32:46.367Z"
   },
   {
    "duration": 31,
    "start_time": "2023-04-09T11:32:48.936Z"
   },
   {
    "duration": 19,
    "start_time": "2023-04-09T11:32:54.353Z"
   },
   {
    "duration": 50,
    "start_time": "2023-04-09T12:16:34.743Z"
   },
   {
    "duration": 7776,
    "start_time": "2023-04-09T12:17:01.183Z"
   },
   {
    "duration": 1545,
    "start_time": "2023-04-09T12:17:08.962Z"
   },
   {
    "duration": 2702,
    "start_time": "2023-04-09T12:17:10.510Z"
   },
   {
    "duration": 137,
    "start_time": "2023-04-09T12:17:13.213Z"
   },
   {
    "duration": 516,
    "start_time": "2023-04-09T12:17:13.353Z"
   },
   {
    "duration": 4,
    "start_time": "2023-04-09T12:17:13.870Z"
   },
   {
    "duration": 20,
    "start_time": "2023-04-09T12:17:13.875Z"
   },
   {
    "duration": 310,
    "start_time": "2023-04-09T12:17:13.897Z"
   },
   {
    "duration": 38,
    "start_time": "2023-04-09T12:17:14.209Z"
   },
   {
    "duration": 18,
    "start_time": "2023-04-09T12:17:14.249Z"
   },
   {
    "duration": 76,
    "start_time": "2023-04-09T12:17:14.268Z"
   },
   {
    "duration": 376,
    "start_time": "2023-04-09T12:17:14.346Z"
   },
   {
    "duration": 27,
    "start_time": "2023-04-09T12:17:14.724Z"
   },
   {
    "duration": 1058146,
    "start_time": "2023-04-09T12:17:14.754Z"
   },
   {
    "duration": 262,
    "start_time": "2023-04-09T12:34:52.902Z"
   },
   {
    "duration": 66,
    "start_time": "2023-04-09T12:34:53.165Z"
   },
   {
    "duration": 98,
    "start_time": "2023-04-09T12:34:53.233Z"
   },
   {
    "duration": 462,
    "start_time": "2023-04-09T12:34:53.333Z"
   },
   {
    "duration": 8,
    "start_time": "2023-04-09T12:34:53.797Z"
   },
   {
    "duration": 35,
    "start_time": "2023-04-09T12:34:53.806Z"
   },
   {
    "duration": 1416,
    "start_time": "2023-04-09T12:34:53.843Z"
   },
   {
    "duration": 25,
    "start_time": "2023-04-09T12:35:30.934Z"
   },
   {
    "duration": 27,
    "start_time": "2023-04-09T12:36:02.101Z"
   },
   {
    "duration": 15,
    "start_time": "2023-04-09T12:36:07.684Z"
   },
   {
    "duration": 26,
    "start_time": "2023-04-09T12:36:11.002Z"
   },
   {
    "duration": 26,
    "start_time": "2023-04-09T12:36:31.914Z"
   },
   {
    "duration": 26,
    "start_time": "2023-04-09T12:36:41.229Z"
   },
   {
    "duration": 23,
    "start_time": "2023-04-09T12:39:56.123Z"
   },
   {
    "duration": 24,
    "start_time": "2023-04-09T12:40:05.015Z"
   },
   {
    "duration": 23,
    "start_time": "2023-04-09T12:40:08.297Z"
   },
   {
    "duration": 6,
    "start_time": "2023-04-09T12:40:40.298Z"
   },
   {
    "duration": 4,
    "start_time": "2023-04-09T12:41:21.374Z"
   },
   {
    "duration": 8,
    "start_time": "2023-04-09T12:42:45.015Z"
   },
   {
    "duration": 355,
    "start_time": "2023-04-09T12:43:16.374Z"
   },
   {
    "duration": 5,
    "start_time": "2023-04-09T12:44:30.959Z"
   },
   {
    "duration": 7,
    "start_time": "2023-04-09T12:44:38.523Z"
   },
   {
    "duration": 10,
    "start_time": "2023-04-09T12:45:36.975Z"
   },
   {
    "duration": 23,
    "start_time": "2023-04-09T12:45:43.036Z"
   },
   {
    "duration": 27,
    "start_time": "2023-04-09T12:45:47.470Z"
   },
   {
    "duration": 25,
    "start_time": "2023-04-09T12:45:50.774Z"
   },
   {
    "duration": 11,
    "start_time": "2023-04-09T12:45:56.763Z"
   },
   {
    "duration": 9,
    "start_time": "2023-04-09T12:46:00.902Z"
   },
   {
    "duration": 8,
    "start_time": "2023-04-09T12:46:03.634Z"
   },
   {
    "duration": 8,
    "start_time": "2023-04-09T12:46:07.834Z"
   },
   {
    "duration": 29,
    "start_time": "2023-04-09T12:46:11.650Z"
   },
   {
    "duration": 9,
    "start_time": "2023-04-09T12:46:27.252Z"
   },
   {
    "duration": 11,
    "start_time": "2023-04-09T12:46:31.215Z"
   },
   {
    "duration": 9,
    "start_time": "2023-04-09T12:46:34.716Z"
   },
   {
    "duration": 9,
    "start_time": "2023-04-09T12:46:37.110Z"
   },
   {
    "duration": 8,
    "start_time": "2023-04-09T12:46:39.386Z"
   },
   {
    "duration": 9,
    "start_time": "2023-04-09T12:46:42.099Z"
   },
   {
    "duration": 9,
    "start_time": "2023-04-09T12:46:45.775Z"
   },
   {
    "duration": 25,
    "start_time": "2023-04-09T12:47:29.734Z"
   },
   {
    "duration": 5,
    "start_time": "2023-04-09T12:47:43.005Z"
   },
   {
    "duration": 24,
    "start_time": "2023-04-09T12:47:44.906Z"
   },
   {
    "duration": 2684,
    "start_time": "2023-04-09T12:49:13.690Z"
   },
   {
    "duration": 7,
    "start_time": "2023-04-09T12:49:16.377Z"
   },
   {
    "duration": 792,
    "start_time": "2023-04-09T12:49:16.385Z"
   },
   {
    "duration": 141,
    "start_time": "2023-04-09T12:49:17.179Z"
   },
   {
    "duration": 453,
    "start_time": "2023-04-09T12:49:17.322Z"
   },
   {
    "duration": 5,
    "start_time": "2023-04-09T12:49:17.776Z"
   },
   {
    "duration": 12,
    "start_time": "2023-04-09T12:49:17.787Z"
   },
   {
    "duration": 234,
    "start_time": "2023-04-09T12:49:17.800Z"
   },
   {
    "duration": 37,
    "start_time": "2023-04-09T12:49:18.036Z"
   },
   {
    "duration": 23,
    "start_time": "2023-04-09T12:49:18.075Z"
   },
   {
    "duration": 60,
    "start_time": "2023-04-09T12:49:18.099Z"
   },
   {
    "duration": 355,
    "start_time": "2023-04-09T12:49:18.161Z"
   },
   {
    "duration": 25,
    "start_time": "2023-04-09T12:49:18.517Z"
   },
   {
    "duration": 1067559,
    "start_time": "2023-04-09T12:49:18.544Z"
   },
   {
    "duration": 253,
    "start_time": "2023-04-09T13:07:06.104Z"
   },
   {
    "duration": 62,
    "start_time": "2023-04-09T13:07:06.358Z"
   },
   {
    "duration": 115,
    "start_time": "2023-04-09T13:07:06.421Z"
   },
   {
    "duration": 453,
    "start_time": "2023-04-09T13:07:06.538Z"
   },
   {
    "duration": 7,
    "start_time": "2023-04-09T13:07:06.992Z"
   },
   {
    "duration": 17,
    "start_time": "2023-04-09T13:07:07.000Z"
   },
   {
    "duration": 1411,
    "start_time": "2023-04-09T13:07:07.018Z"
   },
   {
    "duration": 28,
    "start_time": "2023-04-09T13:07:08.430Z"
   },
   {
    "duration": 33,
    "start_time": "2023-04-09T13:07:08.460Z"
   },
   {
    "duration": 4,
    "start_time": "2023-04-09T13:07:08.494Z"
   },
   {
    "duration": 316,
    "start_time": "2023-04-09T13:07:08.500Z"
   },
   {
    "duration": 72,
    "start_time": "2023-04-09T13:07:08.818Z"
   },
   {
    "duration": 58,
    "start_time": "2023-04-09T13:07:08.892Z"
   },
   {
    "duration": 102,
    "start_time": "2023-04-09T13:10:00.621Z"
   },
   {
    "duration": 7,
    "start_time": "2023-04-09T13:10:08.315Z"
   },
   {
    "duration": 3,
    "start_time": "2023-04-09T13:10:17.114Z"
   },
   {
    "duration": 4,
    "start_time": "2023-04-09T13:10:21.914Z"
   },
   {
    "duration": 1245255,
    "start_time": "2023-04-09T13:10:25.174Z"
   },
   {
    "duration": 4,
    "start_time": "2023-04-09T13:31:10.431Z"
   },
   {
    "duration": 238,
    "start_time": "2023-04-09T13:31:10.818Z"
   },
   {
    "duration": 5,
    "start_time": "2023-04-09T13:32:06.635Z"
   },
   {
    "duration": 410590,
    "start_time": "2023-04-09T13:32:06.874Z"
   },
   {
    "duration": 4,
    "start_time": "2023-04-09T13:38:57.467Z"
   },
   {
    "duration": 240,
    "start_time": "2023-04-09T13:38:57.473Z"
   },
   {
    "duration": 28,
    "start_time": "2023-04-09T13:39:51.796Z"
   },
   {
    "duration": 3,
    "start_time": "2023-04-09T13:40:00.163Z"
   },
   {
    "duration": 3,
    "start_time": "2023-04-09T13:40:13.595Z"
   },
   {
    "duration": 312272,
    "start_time": "2023-04-09T13:40:13.918Z"
   },
   {
    "duration": 4,
    "start_time": "2023-04-09T13:45:26.191Z"
   },
   {
    "duration": 7,
    "start_time": "2023-04-09T13:45:26.196Z"
   },
   {
    "duration": 274,
    "start_time": "2023-04-09T13:45:26.205Z"
   },
   {
    "duration": 15,
    "start_time": "2023-04-09T13:46:03.716Z"
   },
   {
    "duration": 102068,
    "start_time": "2023-04-09T13:46:43.680Z"
   },
   {
    "duration": 230,
    "start_time": "2023-04-09T13:48:25.750Z"
   },
   {
    "duration": 266,
    "start_time": "2023-04-09T13:49:24.515Z"
   },
   {
    "duration": 301,
    "start_time": "2023-04-09T13:49:31.062Z"
   },
   {
    "duration": 332,
    "start_time": "2023-04-09T13:50:01.915Z"
   },
   {
    "duration": 303,
    "start_time": "2023-04-09T13:52:49.605Z"
   },
   {
    "duration": 54,
    "start_time": "2023-04-09T13:53:29.895Z"
   },
   {
    "duration": 3,
    "start_time": "2023-04-09T13:53:30.297Z"
   },
   {
    "duration": 625700,
    "start_time": "2023-04-09T13:53:30.716Z"
   },
   {
    "duration": 71589,
    "start_time": "2023-04-09T14:03:56.418Z"
   },
   {
    "duration": 214,
    "start_time": "2023-04-09T14:05:08.009Z"
   },
   {
    "duration": 229,
    "start_time": "2023-04-09T14:06:12.016Z"
   },
   {
    "duration": 152944,
    "start_time": "2023-04-09T14:10:20.419Z"
   },
   {
    "duration": 7518,
    "start_time": "2023-04-09T14:12:53.365Z"
   },
   {
    "duration": 83,
    "start_time": "2023-04-09T14:13:00.887Z"
   },
   {
    "duration": 0,
    "start_time": "2023-04-09T14:13:00.973Z"
   },
   {
    "duration": 5,
    "start_time": "2023-04-09T14:13:21.563Z"
   },
   {
    "duration": 9,
    "start_time": "2023-04-09T14:13:31.309Z"
   },
   {
    "duration": 70446,
    "start_time": "2023-04-09T14:16:30.233Z"
   },
   {
    "duration": 204,
    "start_time": "2023-04-09T14:17:40.687Z"
   },
   {
    "duration": 70619,
    "start_time": "2023-04-09T14:18:03.550Z"
   },
   {
    "duration": 3,
    "start_time": "2023-04-09T14:19:14.171Z"
   },
   {
    "duration": 243,
    "start_time": "2023-04-09T14:19:14.176Z"
   },
   {
    "duration": 4,
    "start_time": "2023-04-09T14:20:12.627Z"
   },
   {
    "duration": 858935,
    "start_time": "2023-04-09T14:24:41.763Z"
   },
   {
    "duration": 51827,
    "start_time": "2023-04-09T14:39:00.700Z"
   },
   {
    "duration": 420449,
    "start_time": "2023-04-09T14:39:52.529Z"
   },
   {
    "duration": 4,
    "start_time": "2023-04-09T14:46:52.980Z"
   },
   {
    "duration": 252,
    "start_time": "2023-04-09T14:46:52.988Z"
   }
  ],
  "kernelspec": {
   "display_name": "Python 3 (ipykernel)",
   "language": "python",
   "name": "python3"
  },
  "language_info": {
   "codemirror_mode": {
    "name": "ipython",
    "version": 3
   },
   "file_extension": ".py",
   "mimetype": "text/x-python",
   "name": "python",
   "nbconvert_exporter": "python",
   "pygments_lexer": "ipython3",
   "version": "3.8.10"
  },
  "toc": {
   "base_numbering": 1,
   "nav_menu": {},
   "number_sections": true,
   "sideBar": true,
   "skip_h1_title": true,
   "title_cell": "Содержание",
   "title_sidebar": "Contents",
   "toc_cell": true,
   "toc_position": {
    "height": "calc(100% - 180px)",
    "left": "10px",
    "top": "150px",
    "width": "384px"
   },
   "toc_section_display": true,
   "toc_window_display": true
  }
 },
 "nbformat": 4,
 "nbformat_minor": 2
}
